{
  "cells": [
    {
      "cell_type": "code",
      "execution_count": 1,
      "id": "7745d1f3-250c-4a05-b334-b77e10cc609a",
      "metadata": {
        "ExecuteTime": {
          "end_time": "2023-05-17T17:10:08.521274+00:00",
          "start_time": "2023-05-17T17:09:57.342149+00:00"
        },
        "datalink": {
          "12998bd7-560e-4a68-a721-fb1ad7713afe": {
            "applied_filters": [],
            "dataframe_info": {
              "default_index_used": true,
              "orig_num_cols": 5,
              "orig_num_rows": 5,
              "orig_size_bytes": 328,
              "truncated_num_cols": 5,
              "truncated_num_rows": 5,
              "truncated_size_bytes": 328,
              "truncated_string_columns": [
                "text"
              ]
            },
            "display_id": "12998bd7-560e-4a68-a721-fb1ad7713afe",
            "dx_settings": {
              "ALLOW_NOTEABLE_ATTRS": true,
              "COLUMN_SAMPLING_METHOD": "outer",
              "DB_LOCATION": ":memory:",
              "DEV_MODE": false,
              "DISPLAY_MAX_COLUMNS": 100,
              "DISPLAY_MAX_ROWS": 50000,
              "DISPLAY_MODE": "simple",
              "ENABLE_ASSIGNMENT": true,
              "ENABLE_DATALINK": true,
              "FLATTEN_COLUMN_VALUES": true,
              "FLATTEN_INDEX_VALUES": false,
              "GENERATE_DEX_METADATA": false,
              "HTML_TABLE_SCHEMA": false,
              "LOG_LEVEL": 30,
              "MAX_RENDER_SIZE_BYTES": 104857600,
              "MAX_STRING_LENGTH": 250,
              "NUM_PAST_SAMPLES_TRACKED": 3,
              "RANDOM_STATE": 12648430,
              "RESET_INDEX_VALUES": false,
              "ROW_SAMPLING_METHOD": "random",
              "SAMPLING_FACTOR": 0.1,
              "SAMPLING_METHOD": "random",
              "STRINGIFY_COLUMN_VALUES": true,
              "STRINGIFY_INDEX_VALUES": false
            },
            "sample_history": [],
            "sampling_time": "2023-05-17T17:10:08.364291",
            "user_variable_name": null,
            "variable_name": "unk_dataframe_02188a04b783442f96a1e45007a60d21"
          },
          "f2ba2717-f44b-469b-a5be-056b69545c1b": {
            "applied_filters": [],
            "dataframe_info": {
              "default_index_used": true,
              "orig_num_cols": 5,
              "orig_num_rows": 5,
              "orig_size_bytes": 328,
              "truncated_num_cols": 5,
              "truncated_num_rows": 5,
              "truncated_size_bytes": 328,
              "truncated_string_columns": [
                "text"
              ]
            },
            "display_id": "f2ba2717-f44b-469b-a5be-056b69545c1b",
            "dx_settings": {
              "ALLOW_NOTEABLE_ATTRS": true,
              "COLUMN_SAMPLING_METHOD": "outer",
              "DB_LOCATION": ":memory:",
              "DEV_MODE": false,
              "DISPLAY_MAX_COLUMNS": 100,
              "DISPLAY_MAX_ROWS": 50000,
              "DISPLAY_MODE": "simple",
              "ENABLE_ASSIGNMENT": true,
              "ENABLE_DATALINK": true,
              "FLATTEN_COLUMN_VALUES": true,
              "FLATTEN_INDEX_VALUES": false,
              "GENERATE_DEX_METADATA": false,
              "HTML_TABLE_SCHEMA": false,
              "LOG_LEVEL": 30,
              "MAX_RENDER_SIZE_BYTES": 104857600,
              "MAX_STRING_LENGTH": 250,
              "NUM_PAST_SAMPLES_TRACKED": 3,
              "RANDOM_STATE": 12648430,
              "RESET_INDEX_VALUES": false,
              "ROW_SAMPLING_METHOD": "random",
              "SAMPLING_FACTOR": 0.1,
              "SAMPLING_METHOD": "random",
              "STRINGIFY_COLUMN_VALUES": true,
              "STRINGIFY_INDEX_VALUES": false
            },
            "sample_history": [],
            "sampling_time": "2023-05-17T15:21:08.349070",
            "user_variable_name": null,
            "variable_name": "unk_dataframe_f9dd6f6eb7b441d6a26d205e393eb407"
          }
        },
        "jupyter": {
          "outputs_hidden": false,
          "source_hidden": false
        },
        "noteable": {
          "cell_type": "code"
        }
      },
      "outputs": [
        {
          "data": {
            "text/html": [
              "<div>\n",
              "<style scoped>\n",
              "    .dataframe tbody tr th:only-of-type {\n",
              "        vertical-align: middle;\n",
              "    }\n",
              "\n",
              "    .dataframe tbody tr th {\n",
              "        vertical-align: top;\n",
              "    }\n",
              "\n",
              "    .dataframe thead th {\n",
              "        text-align: right;\n",
              "    }\n",
              "</style>\n",
              "<table border=\"1\" class=\"dataframe\">\n",
              "  <thead>\n",
              "    <tr style=\"text-align: right;\">\n",
              "      <th></th>\n",
              "      <th>storypoint</th>\n",
              "      <th>sentiment</th>\n",
              "      <th>text</th>\n",
              "      <th>class</th>\n",
              "    </tr>\n",
              "  </thead>\n",
              "  <tbody>\n",
              "    <tr>\n",
              "      <th>0</th>\n",
              "      <td>5</td>\n",
              "      <td>0.063889</td>\n",
              "      <td>Generic webwork aliases may clash plugins Some...</td>\n",
              "      <td>0</td>\n",
              "    </tr>\n",
              "    <tr>\n",
              "      <th>1</th>\n",
              "      <td>5</td>\n",
              "      <td>0.063889</td>\n",
              "      <td>Generic webwork aliases may clash plugins Some...</td>\n",
              "      <td>0</td>\n",
              "    </tr>\n",
              "    <tr>\n",
              "      <th>2</th>\n",
              "      <td>2</td>\n",
              "      <td>0.000000</td>\n",
              "      <td>Add text Agile Gadget Invalid Project message ...</td>\n",
              "      <td>0</td>\n",
              "    </tr>\n",
              "    <tr>\n",
              "      <th>3</th>\n",
              "      <td>2</td>\n",
              "      <td>0.000000</td>\n",
              "      <td>Add text Agile Gadget Invalid Project message ...</td>\n",
              "      <td>0</td>\n",
              "    </tr>\n",
              "    <tr>\n",
              "      <th>4</th>\n",
              "      <td>5</td>\n",
              "      <td>0.107576</td>\n",
              "      <td>Version set create issue screen JIRA GreenHopp...</td>\n",
              "      <td>0</td>\n",
              "    </tr>\n",
              "  </tbody>\n",
              "</table>\n",
              "</div>"
            ],
            "text/plain": [
              "   storypoint  sentiment                                               text   \n",
              "0           5   0.063889  Generic webwork aliases may clash plugins Some...  \\\n",
              "1           5   0.063889  Generic webwork aliases may clash plugins Some...   \n",
              "2           2   0.000000  Add text Agile Gadget Invalid Project message ...   \n",
              "3           2   0.000000  Add text Agile Gadget Invalid Project message ...   \n",
              "4           5   0.107576  Version set create issue screen JIRA GreenHopp...   \n",
              "\n",
              "   class  \n",
              "0      0  \n",
              "1      0  \n",
              "2      0  \n",
              "3      0  \n",
              "4      0  "
            ]
          },
          "execution_count": 1,
          "metadata": {},
          "output_type": "execute_result"
        }
      ],
      "source": [
        "import pandas as pd\n",
        "\n",
        "data = pd.read_csv('cleaned.csv')\n",
        "data.head()"
      ]
    },
    {
      "cell_type": "code",
      "execution_count": 2,
      "id": "f887622e-622e-40a6-b1fd-0ec9768fa837",
      "metadata": {
        "ExecuteTime": {
          "end_time": "2023-05-17T17:11:04.768649+00:00",
          "start_time": "2023-05-17T17:10:58.328299+00:00"
        },
        "jupyter": {
          "outputs_hidden": false,
          "source_hidden": false
        },
        "noteable": {
          "cell_type": "code"
        }
      },
      "outputs": [
        {
          "name": "stderr",
          "output_type": "stream",
          "text": [
            "[nltk_data] Downloading package punkt to\n",
            "[nltk_data]     C:\\Users\\hawkp\\AppData\\Roaming\\nltk_data...\n",
            "[nltk_data]   Package punkt is already up-to-date!\n",
            "[nltk_data] Downloading package stopwords to\n",
            "[nltk_data]     C:\\Users\\hawkp\\AppData\\Roaming\\nltk_data...\n",
            "[nltk_data]   Package stopwords is already up-to-date!\n"
          ]
        },
        {
          "data": {
            "text/plain": [
              "True"
            ]
          },
          "execution_count": 2,
          "metadata": {},
          "output_type": "execute_result"
        }
      ],
      "source": [
        "import nltk\n",
        "\n",
        "nltk.download('punkt')\n",
        "nltk.download('stopwords')"
      ]
    },
    {
      "cell_type": "code",
      "execution_count": 3,
      "id": "796b2a80-120d-41a1-8f95-5a08dbe79cd6",
      "metadata": {
        "ExecuteTime": {
          "end_time": "2023-05-17T17:11:05.832384+00:00",
          "start_time": "2023-05-17T17:11:04.778227+00:00"
        },
        "datalink": {
          "286dacba-6ed4-42c0-b5b9-0b408859a379": {
            "applied_filters": [],
            "dataframe_info": {
              "default_index_used": true,
              "orig_num_cols": 6,
              "orig_num_rows": 5,
              "orig_size_bytes": 368,
              "truncated_num_cols": 6,
              "truncated_num_rows": 5,
              "truncated_size_bytes": 368,
              "truncated_string_columns": [
                "text",
                "processed_text"
              ]
            },
            "display_id": "286dacba-6ed4-42c0-b5b9-0b408859a379",
            "dx_settings": {
              "ALLOW_NOTEABLE_ATTRS": true,
              "COLUMN_SAMPLING_METHOD": "outer",
              "DB_LOCATION": ":memory:",
              "DEV_MODE": false,
              "DISPLAY_MAX_COLUMNS": 100,
              "DISPLAY_MAX_ROWS": 50000,
              "DISPLAY_MODE": "simple",
              "ENABLE_ASSIGNMENT": true,
              "ENABLE_DATALINK": true,
              "FLATTEN_COLUMN_VALUES": true,
              "FLATTEN_INDEX_VALUES": false,
              "GENERATE_DEX_METADATA": false,
              "HTML_TABLE_SCHEMA": false,
              "LOG_LEVEL": 30,
              "MAX_RENDER_SIZE_BYTES": 104857600,
              "MAX_STRING_LENGTH": 250,
              "NUM_PAST_SAMPLES_TRACKED": 3,
              "RANDOM_STATE": 12648430,
              "RESET_INDEX_VALUES": false,
              "ROW_SAMPLING_METHOD": "random",
              "SAMPLING_FACTOR": 0.1,
              "SAMPLING_METHOD": "random",
              "STRINGIFY_COLUMN_VALUES": true,
              "STRINGIFY_INDEX_VALUES": false
            },
            "sample_history": [],
            "sampling_time": "2023-05-17T15:27:30.890045",
            "user_variable_name": null,
            "variable_name": "unk_dataframe_d3821390f2754c46bdbe6bbc43e493dc"
          },
          "3e7827d6-a94b-4007-ac35-c4f55fb495d1": {
            "applied_filters": [],
            "dataframe_info": {
              "default_index_used": true,
              "orig_num_cols": 6,
              "orig_num_rows": 5,
              "orig_size_bytes": 368,
              "truncated_num_cols": 6,
              "truncated_num_rows": 5,
              "truncated_size_bytes": 368,
              "truncated_string_columns": [
                "text",
                "processed_text"
              ]
            },
            "display_id": "3e7827d6-a94b-4007-ac35-c4f55fb495d1",
            "dx_settings": {
              "ALLOW_NOTEABLE_ATTRS": true,
              "COLUMN_SAMPLING_METHOD": "outer",
              "DB_LOCATION": ":memory:",
              "DEV_MODE": false,
              "DISPLAY_MAX_COLUMNS": 100,
              "DISPLAY_MAX_ROWS": 50000,
              "DISPLAY_MODE": "simple",
              "ENABLE_ASSIGNMENT": true,
              "ENABLE_DATALINK": true,
              "FLATTEN_COLUMN_VALUES": true,
              "FLATTEN_INDEX_VALUES": false,
              "GENERATE_DEX_METADATA": false,
              "HTML_TABLE_SCHEMA": false,
              "LOG_LEVEL": 30,
              "MAX_RENDER_SIZE_BYTES": 104857600,
              "MAX_STRING_LENGTH": 250,
              "NUM_PAST_SAMPLES_TRACKED": 3,
              "RANDOM_STATE": 12648430,
              "RESET_INDEX_VALUES": false,
              "ROW_SAMPLING_METHOD": "random",
              "SAMPLING_FACTOR": 0.1,
              "SAMPLING_METHOD": "random",
              "STRINGIFY_COLUMN_VALUES": true,
              "STRINGIFY_INDEX_VALUES": false
            },
            "sample_history": [],
            "sampling_time": "2023-05-17T17:11:05.674413",
            "user_variable_name": null,
            "variable_name": "unk_dataframe_1bc01e26400e438aacea59314f3c375d"
          }
        },
        "jupyter": {
          "outputs_hidden": false,
          "source_hidden": false
        },
        "noteable": {
          "cell_type": "code"
        }
      },
      "outputs": [
        {
          "data": {
            "text/html": [
              "<div>\n",
              "<style scoped>\n",
              "    .dataframe tbody tr th:only-of-type {\n",
              "        vertical-align: middle;\n",
              "    }\n",
              "\n",
              "    .dataframe tbody tr th {\n",
              "        vertical-align: top;\n",
              "    }\n",
              "\n",
              "    .dataframe thead th {\n",
              "        text-align: right;\n",
              "    }\n",
              "</style>\n",
              "<table border=\"1\" class=\"dataframe\">\n",
              "  <thead>\n",
              "    <tr style=\"text-align: right;\">\n",
              "      <th></th>\n",
              "      <th>storypoint</th>\n",
              "      <th>sentiment</th>\n",
              "      <th>text</th>\n",
              "      <th>class</th>\n",
              "      <th>processed_text</th>\n",
              "    </tr>\n",
              "  </thead>\n",
              "  <tbody>\n",
              "    <tr>\n",
              "      <th>0</th>\n",
              "      <td>5</td>\n",
              "      <td>0.063889</td>\n",
              "      <td>Generic webwork aliases may clash plugins Some...</td>\n",
              "      <td>0</td>\n",
              "      <td>generic webwork aliases may clash plugins web ...</td>\n",
              "    </tr>\n",
              "    <tr>\n",
              "      <th>1</th>\n",
              "      <td>5</td>\n",
              "      <td>0.063889</td>\n",
              "      <td>Generic webwork aliases may clash plugins Some...</td>\n",
              "      <td>0</td>\n",
              "      <td>generic webwork aliases may clash plugins web ...</td>\n",
              "    </tr>\n",
              "    <tr>\n",
              "      <th>2</th>\n",
              "      <td>2</td>\n",
              "      <td>0.000000</td>\n",
              "      <td>Add text Agile Gadget Invalid Project message ...</td>\n",
              "      <td>0</td>\n",
              "      <td>add text agile gadget invalid project message ...</td>\n",
              "    </tr>\n",
              "    <tr>\n",
              "      <th>3</th>\n",
              "      <td>2</td>\n",
              "      <td>0.000000</td>\n",
              "      <td>Add text Agile Gadget Invalid Project message ...</td>\n",
              "      <td>0</td>\n",
              "      <td>add text agile gadget invalid project message ...</td>\n",
              "    </tr>\n",
              "    <tr>\n",
              "      <th>4</th>\n",
              "      <td>5</td>\n",
              "      <td>0.107576</td>\n",
              "      <td>Version set create issue screen JIRA GreenHopp...</td>\n",
              "      <td>0</td>\n",
              "      <td>version set create issue screen jira greenhopp...</td>\n",
              "    </tr>\n",
              "  </tbody>\n",
              "</table>\n",
              "</div>"
            ],
            "text/plain": [
              "   storypoint  sentiment                                               text   \n",
              "0           5   0.063889  Generic webwork aliases may clash plugins Some...  \\\n",
              "1           5   0.063889  Generic webwork aliases may clash plugins Some...   \n",
              "2           2   0.000000  Add text Agile Gadget Invalid Project message ...   \n",
              "3           2   0.000000  Add text Agile Gadget Invalid Project message ...   \n",
              "4           5   0.107576  Version set create issue screen JIRA GreenHopp...   \n",
              "\n",
              "   class                                     processed_text  \n",
              "0      0  generic webwork aliases may clash plugins web ...  \n",
              "1      0  generic webwork aliases may clash plugins web ...  \n",
              "2      0  add text agile gadget invalid project message ...  \n",
              "3      0  add text agile gadget invalid project message ...  \n",
              "4      0  version set create issue screen jira greenhopp...  "
            ]
          },
          "execution_count": 3,
          "metadata": {},
          "output_type": "execute_result"
        }
      ],
      "source": [
        "from nltk.corpus import stopwords\n",
        "from nltk.tokenize import word_tokenize\n",
        "import re\n",
        "\n",
        "stop_words = set(stopwords.words('english'))\n",
        "\n",
        "def preprocess_text(text):\n",
        "    # Lowercase the text\n",
        "    text = text.lower()\n",
        "    # Remove punctuation\n",
        "    text = re.sub(r'[^\\w\\s]', '', text)\n",
        "    # Remove stopwords\n",
        "    text = ' '.join(word for word in text.split() if word not in stop_words)\n",
        "    return text\n",
        "\n",
        "data['processed_text'] = data['text'].apply(preprocess_text)\n",
        "data.head()"
      ]
    },
    {
      "cell_type": "code",
      "execution_count": 4,
      "id": "d4fca3a9-c6c6-430e-aec6-f26eafdacf78",
      "metadata": {
        "ExecuteTime": {
          "end_time": "2023-05-17T17:20:04.667326+00:00",
          "start_time": "2023-05-17T17:11:06.947360+00:00"
        },
        "jupyter": {
          "outputs_hidden": false,
          "source_hidden": false
        },
        "noteable": {
          "cell_type": "code"
        },
        "scrolled": false
      },
      "outputs": [
        {
          "name": "stdout",
          "output_type": "stream",
          "text": [
            "[-0.48717538 -0.06293322  0.18147032  0.13056554 -0.07494892 -0.07212879\n",
            "  0.2015386   0.14203858 -0.13750927 -0.03098527  0.09638905 -0.24395503\n",
            " -0.4168806   0.49545988 -0.79972386  0.01706588 -0.2326653   0.35001996\n",
            " -0.1532671   0.25148958 -0.35036498 -0.06931615 -0.4384722   0.04848916\n",
            " -0.0714991  -0.07830384 -0.18356806  0.09204054  0.02743439  0.13786492\n",
            " -0.31791526  0.00558359 -0.4082227  -0.1494239   0.02581196 -0.07935595\n",
            "  0.10135195  0.38455516  0.267086   -0.21474642  0.24403259  0.02848558\n",
            " -0.36254683 -0.08348499  0.23912618  0.15393817  0.4517555   0.5995889\n",
            "  0.19151881  0.09041619 -0.04936492 -0.2045324  -0.26401067  0.23128626\n",
            "  0.02390004  0.15423988 -0.00887669 -0.17818931 -0.7477868  -0.22201811\n",
            "  0.21925707  0.02298299  0.00092903  0.24181189  0.04422707 -0.04388613\n",
            " -0.38963863 -0.39566332 -0.2552814   0.65251315  0.30780202 -0.06667045\n",
            "  0.1253015  -0.11500777 -0.012413   -0.1502553   0.23092784  0.24710104\n",
            " -0.24315938  0.30209535  0.43959996  0.02598473 -0.32273462  0.02677778\n",
            " -0.4011471   0.22166102  0.22563116  0.54169995 -0.08740258  0.17463535\n",
            "  0.14532295 -0.19935666 -0.11590966  0.59052545 -0.03062996  0.32142267\n",
            " -0.5122183  -0.13509889  0.2626109  -0.11480878]\n"
          ]
        }
      ],
      "source": [
        "import fasttext\n",
        "\n",
        "# Save preprocessed text to a file as FastText expects file input\n",
        "with open('preprocessed_text.txt', 'w') as f:\n",
        "    for item in data['processed_text'].tolist():\n",
        "        f.write('%s\\n' % item)\n",
        "\n",
        "# Train the FastText model\n",
        "model = fasttext.train_unsupervised('preprocessed_text.txt')\n",
        "\n",
        "# Let's see the embedding of a sample word 'project'\n",
        "print(model['project'])"
      ]
    },
    {
      "cell_type": "code",
      "execution_count": 5,
      "id": "220c6938-68f8-4dd5-9ee7-90969457d159",
      "metadata": {
        "ExecuteTime": {
          "end_time": "2023-05-17T17:20:23.010438+00:00",
          "start_time": "2023-05-17T17:20:04.944522+00:00"
        },
        "jupyter": {
          "outputs_hidden": false,
          "source_hidden": false
        },
        "noteable": {
          "cell_type": "code"
        }
      },
      "outputs": [
        {
          "name": "stderr",
          "output_type": "stream",
          "text": [
            "c:\\Users\\hawkp\\miniconda3\\envs\\agile\\lib\\site-packages\\sklearn\\feature_extraction\\text.py:528: UserWarning: The parameter 'token_pattern' will not be used since 'tokenizer' is not None'\n",
            "  warnings.warn(\n"
          ]
        },
        {
          "name": "stdout",
          "output_type": "stream",
          "text": [
            "Shape of weighted embeddings: (56325, 100)\n"
          ]
        }
      ],
      "source": [
        "from sklearn.feature_extraction.text import TfidfVectorizer\n",
        "import numpy as np\n",
        "\n",
        "# Initialize TfidfVectorizer with the same tokenizer we used for FastText\n",
        "vectorizer = TfidfVectorizer(tokenizer=word_tokenize)\n",
        "# Fit and transform the vectorizer on our corpus\n",
        "tfidf_matrix = vectorizer.fit_transform(data['processed_text'])\n",
        "# Get the words in our corpus\n",
        "words = vectorizer.get_feature_names_out()\n",
        "# Get the FastText embeddings for each word in our corpus\n",
        "embeddings = np.array([model.get_word_vector(word) for word in words])\n",
        "# Multiply the TF-IDF matrix by the embeddings to get the weighted embeddings\n",
        "weighted_embeddings = tfidf_matrix @ embeddings\n",
        "print('Shape of weighted embeddings:', weighted_embeddings.shape)"
      ]
    },
    {
      "cell_type": "code",
      "execution_count": 6,
      "id": "dc1700fc-c88e-418c-9b20-ffc333cf2594",
      "metadata": {
        "ExecuteTime": {
          "end_time": "2023-05-17T17:20:36.168062+00:00",
          "start_time": "2023-05-17T17:20:35.989264+00:00"
        },
        "jupyter": {
          "outputs_hidden": false,
          "source_hidden": false
        },
        "noteable": {
          "cell_type": "code"
        }
      },
      "outputs": [
        {
          "name": "stdout",
          "output_type": "stream",
          "text": [
            "Shape of training data: (45060, 100)\n",
            "Shape of testing data: (11265, 100)\n"
          ]
        }
      ],
      "source": [
        "from sklearn.model_selection import train_test_split\n",
        "\n",
        "X = weighted_embeddings\n",
        "y = data['class']\n",
        "X_train, X_test, y_train, y_test = train_test_split(X, y, test_size=0.2, random_state=42)\n",
        "print('Shape of training data:', X_train.shape)\n",
        "print('Shape of testing data:', X_test.shape)"
      ]
    },
    {
      "cell_type": "code",
      "execution_count": 7,
      "id": "373dee63-d849-4704-9116-76d3e1fa4df0",
      "metadata": {
        "ExecuteTime": {
          "end_time": "2023-05-17T17:28:59.168332+00:00",
          "start_time": "2023-05-17T17:28:56.403107+00:00"
        },
        "jupyter": {
          "outputs_hidden": false,
          "source_hidden": false
        },
        "noteable": {
          "cell_type": "code"
        }
      },
      "outputs": [
        {
          "name": "stdout",
          "output_type": "stream",
          "text": [
            "Shape of training data: torch.Size([45060, 100])\n",
            "Shape of testing data: torch.Size([11265, 100])\n"
          ]
        }
      ],
      "source": [
        "import torch\n",
        "from sklearn.model_selection import train_test_split\n",
        "\n",
        "# Convert the embeddings and labels into PyTorch tensors\n",
        "X = torch.tensor(weighted_embeddings, dtype=torch.float)\n",
        "y = torch.tensor(data['class'].values, dtype=torch.long)\n",
        "\n",
        "# Split the data into training and testing sets\n",
        "X_train, X_test, y_train, y_test = train_test_split(X, y, test_size=0.2, random_state=42)\n",
        "print('Shape of training data:', X_train.shape)\n",
        "print('Shape of testing data:', X_test.shape)"
      ]
    },
    {
      "cell_type": "code",
      "execution_count": 8,
      "id": "57bf0b34",
      "metadata": {},
      "outputs": [],
      "source": [
        "from torch.utils.data import TensorDataset, DataLoader\n",
        "\n",
        "# Create data loaders\n",
        "train_data = TensorDataset(X_train, y_train)\n",
        "train_loader = DataLoader(train_data, batch_size=256, shuffle=True)\n",
        "\n",
        "test_data = TensorDataset(X_test, y_test)\n",
        "test_loader = DataLoader(test_data, batch_size=256, shuffle=True)"
      ]
    },
    {
      "cell_type": "code",
      "execution_count": 9,
      "id": "ad5534f8",
      "metadata": {},
      "outputs": [],
      "source": [
        "def train(model, optimizer, criterion, data_loader):\n",
        "    model.train()\n",
        "    for data, target in data_loader:\n",
        "        optimizer.zero_grad()\n",
        "        output = model(data.unsqueeze(1))\n",
        "        loss = criterion(output, target)\n",
        "        loss.backward()\n",
        "        optimizer.step()"
      ]
    },
    {
      "cell_type": "code",
      "execution_count": 10,
      "id": "e3997ddc",
      "metadata": {},
      "outputs": [],
      "source": [
        "def test(model, criterion, data_loader):\n",
        "    model.eval()\n",
        "    test_loss = 0\n",
        "    correct = 0\n",
        "    with torch.no_grad():\n",
        "        for data, target in data_loader:\n",
        "            output = model(data.unsqueeze(1))\n",
        "            test_loss += criterion(output, target).item()\n",
        "            pred = output.argmax(dim=1, keepdim=True)\n",
        "            correct += pred.eq(target.view_as(pred)).sum().item()\n",
        "    test_loss /= len(data_loader.dataset)\n",
        "    print('Test set: Average loss: {:.4f}, Accuracy: {}/{} ({:.0f}%)\\n'.format(\n",
        "        test_loss, correct, len(data_loader.dataset),\n",
        "        100. * correct / len(data_loader.dataset)))"
      ]
    },
    {
      "cell_type": "code",
      "execution_count": 11,
      "id": "1a759332",
      "metadata": {},
      "outputs": [],
      "source": [
        "from sklearn.metrics import accuracy_score, classification_report, confusion_matrix\n",
        "import matplotlib.pyplot as plt\n",
        "import seaborn as sns\n",
        "\n",
        "def plot_confusion_matrix(y_true, y_pred, labels):\n",
        "    cm = confusion_matrix(y_true, y_pred, labels=labels)\n",
        "    ax = plt.subplot()\n",
        "    sns.heatmap(cm, annot=True, ax=ax, cmap='Blues', fmt='g')\n",
        "\n",
        "    ax.set_xlabel('Predicted labels')\n",
        "    ax.set_ylabel('True labels')\n",
        "    ax.set_title('Confusion Matrix')\n",
        "    ax.xaxis.set_ticklabels(labels)\n",
        "    ax.yaxis.set_ticklabels(labels)\n",
        "    plt.show()\n",
        "\n",
        "def evaluate(model, data_loader):\n",
        "    model.eval()\n",
        "    y_true = []\n",
        "    y_pred = []\n",
        "\n",
        "    with torch.no_grad():\n",
        "        for data, target in data_loader:\n",
        "            output = model(data.unsqueeze(1))\n",
        "            pred = output.argmax(dim=1, keepdim=True)\n",
        "            y_true.extend(target.tolist())\n",
        "            y_pred.extend(pred.squeeze(1).tolist())\n",
        "\n",
        "    print(f'Accuracy:{accuracy_score(y_true, y_pred)}')\n",
        "    print()\n",
        "    print('Classification Report:')\n",
        "    print(classification_report(y_true, y_pred))\n",
        "    print()\n",
        "    print('Confusion Matrix:')\n",
        "    print(confusion_matrix(y_true, y_pred))\n",
        "    print()\n",
        "    plot_confusion_matrix(y_true, y_pred, [0,1,2])"
      ]
    },
    {
      "cell_type": "code",
      "execution_count": 12,
      "id": "4ba340ae-2978-4194-a984-a25d053bdc5c",
      "metadata": {
        "ExecuteTime": {
          "end_time": "2023-05-17T18:17:28.638987+00:00",
          "start_time": "2023-05-17T18:16:52.348589+00:00"
        },
        "jupyter": {
          "outputs_hidden": false,
          "source_hidden": false
        },
        "noteable": {
          "cell_type": "code"
        }
      },
      "outputs": [
        {
          "name": "stdout",
          "output_type": "stream",
          "text": [
            "RNN Model: RNN(\n",
            "  (rnn): RNN(100, 50, batch_first=True)\n",
            "  (fc): Linear(in_features=50, out_features=3, bias=True)\n",
            ")\n",
            "\n",
            "LSTM Model: LSTM(\n",
            "  (lstm): LSTM(100, 50, batch_first=True)\n",
            "  (fc): Linear(in_features=50, out_features=3, bias=True)\n",
            ")\n"
          ]
        }
      ],
      "source": [
        "from torch import nn, optim\n",
        "\n",
        "# Define the RNN model\n",
        "class RNN(nn.Module):\n",
        "    def __init__(self, input_size, hidden_size, num_classes):\n",
        "        super(RNN, self).__init__()\n",
        "        self.rnn = nn.RNN(input_size, hidden_size, batch_first=True)\n",
        "        self.fc = nn.Linear(hidden_size, num_classes)\n",
        "\n",
        "    def forward(self, x):\n",
        "        out, _ = self.rnn(x)\n",
        "        out = self.fc(out[:, -1, :])\n",
        "        return out\n",
        "\n",
        "# Define the LSTM model\n",
        "class LSTM(nn.Module):\n",
        "    def __init__(self, input_size, hidden_size, num_classes):\n",
        "        super(LSTM, self).__init__()\n",
        "        self.lstm = nn.LSTM(input_size, hidden_size, batch_first=True)\n",
        "        self.fc = nn.Linear(hidden_size, num_classes)\n",
        "\n",
        "    def forward(self, x):\n",
        "        out, _ = self.lstm(x)\n",
        "        out = self.fc(out[:, -1, :])\n",
        "        return out\n",
        "\n",
        "# Initialize the models\n",
        "rnn = RNN(input_size=100, hidden_size=50, num_classes=3)\n",
        "lstm = LSTM(input_size=100, hidden_size=50, num_classes=3)\n",
        "\n",
        "# Print the models\n",
        "print('RNN Model:', rnn)\n",
        "print()\n",
        "print('LSTM Model:', lstm)"
      ]
    },
    {
      "cell_type": "code",
      "execution_count": 13,
      "id": "46449cd5",
      "metadata": {},
      "outputs": [],
      "source": [
        "# Define the loss function and the optimizers\n",
        "criterion = nn.CrossEntropyLoss()\n",
        "optimizer_rnn = optim.Adam(rnn.parameters())\n",
        "optimizer_lstm = optim.Adam(lstm.parameters())"
      ]
    },
    {
      "cell_type": "code",
      "execution_count": 14,
      "id": "5aedafa7",
      "metadata": {},
      "outputs": [
        {
          "name": "stdout",
          "output_type": "stream",
          "text": [
            "Training RNN...\n",
            "Testing RNN...\n",
            "Test set: Average loss: 0.0033, Accuracy: 7157/11265 (64%)\n",
            "\n",
            "Evaluating RNN...\n",
            "Accuracy:0.6353306702174878\n",
            "\n",
            "Classification Report:\n",
            "              precision    recall  f1-score   support\n",
            "\n",
            "           0       0.65      0.68      0.66      3768\n",
            "           1       0.55      0.53      0.54      3754\n",
            "           2       0.70      0.70      0.70      3743\n",
            "\n",
            "    accuracy                           0.64     11265\n",
            "   macro avg       0.63      0.64      0.63     11265\n",
            "weighted avg       0.63      0.64      0.63     11265\n",
            "\n",
            "\n",
            "Confusion Matrix:\n",
            "[[2553  913  302]\n",
            " [ 949 2001  804]\n",
            " [ 414  726 2603]]\n",
            "\n"
          ]
        },
        {
          "data": {
            "image/png": "[encoded data removed]",
            "text/plain": [
              "<Figure size 640x480 with 2 Axes>"
            ]
          },
          "metadata": {},
          "output_type": "display_data"
        }
      ],
      "source": [
        "# Train, test and evaluate the RNN model\n",
        "print('Training RNN...')\n",
        "train(rnn, optimizer_rnn, criterion, train_loader)\n",
        "print('Testing RNN...')\n",
        "test(rnn, criterion, test_loader)\n",
        "print('Evaluating RNN...')\n",
        "evaluate(rnn, test_loader)"
      ]
    },
    {
      "cell_type": "code",
      "execution_count": 15,
      "id": "c5b9f33d",
      "metadata": {},
      "outputs": [
        {
          "name": "stdout",
          "output_type": "stream",
          "text": [
            "Training LSTM...\n",
            "Testing LSTM...\n",
            "Test set: Average loss: 0.0031, Accuracy: 7448/11265 (66%)\n",
            "\n",
            "Evaluating LSTM...\n",
            "Accuracy:0.6611628939192188\n",
            "\n",
            "Classification Report:\n",
            "              precision    recall  f1-score   support\n",
            "\n",
            "           0       0.65      0.75      0.69      3768\n",
            "           1       0.60      0.48      0.53      3754\n",
            "           2       0.73      0.75      0.74      3743\n",
            "\n",
            "    accuracy                           0.66     11265\n",
            "   macro avg       0.66      0.66      0.66     11265\n",
            "weighted avg       0.66      0.66      0.66     11265\n",
            "\n",
            "\n",
            "Confusion Matrix:\n",
            "[[2828  690  250]\n",
            " [1136 1805  813]\n",
            " [ 412  516 2815]]\n",
            "\n"
          ]
        },
        {
          "data": {
            "image/png": "[encoded data removed]",
            "text/plain": [
              "<Figure size 640x480 with 2 Axes>"
            ]
          },
          "metadata": {},
          "output_type": "display_data"
        }
      ],
      "source": [
        "# Train, test and evaluate the LSTM model\n",
        "print('Training LSTM...')\n",
        "train(lstm, optimizer_lstm, criterion, train_loader)\n",
        "print('Testing LSTM...')\n",
        "test(lstm, criterion, test_loader)\n",
        "print('Evaluating LSTM...')\n",
        "evaluate(lstm, test_loader)"
      ]
    },
    {
      "cell_type": "code",
      "execution_count": 16,
      "id": "3c184864",
      "metadata": {},
      "outputs": [
        {
          "name": "stdout",
          "output_type": "stream",
          "text": [
            "GRU Model: GRU(\n",
            "  (gru): GRU(100, 50, batch_first=True)\n",
            "  (fc): Linear(in_features=50, out_features=3, bias=True)\n",
            ")\n"
          ]
        }
      ],
      "source": [
        "# Define the GRU model\n",
        "class GRU(nn.Module):\n",
        "\n",
        "    def __init__(self, input_size, hidden_size, num_classes):\n",
        "        super(GRU, self).__init__()\n",
        "        self.gru = nn.GRU(input_size, hidden_size, batch_first=True)\n",
        "        self.fc = nn.Linear(hidden_size, num_classes)\n",
        "\n",
        "    def forward(self, x):\n",
        "        out, _ = self.gru(x)\n",
        "        out = self.fc(out[:, -1, :])\n",
        "        return out\n",
        "    \n",
        "# Initialize the model\n",
        "gru = GRU(input_size=100, hidden_size=50, num_classes=3)\n",
        "\n",
        "# Print the model\n",
        "print('GRU Model:', gru)"
      ]
    },
    {
      "cell_type": "code",
      "execution_count": 17,
      "id": "61ce1093",
      "metadata": {},
      "outputs": [],
      "source": [
        "# Define the loss function and the optimizer\n",
        "criterion = nn.CrossEntropyLoss()\n",
        "optimizer_gru = optim.Adam(gru.parameters())"
      ]
    },
    {
      "cell_type": "code",
      "execution_count": 18,
      "id": "906259d1",
      "metadata": {},
      "outputs": [
        {
          "name": "stdout",
          "output_type": "stream",
          "text": [
            "Training GRU...\n",
            "Testing GRU...\n",
            "Test set: Average loss: 0.0031, Accuracy: 7247/11265 (64%)\n",
            "\n",
            "Evaluating GRU...\n",
            "Accuracy:0.6433200177541056\n",
            "\n",
            "Classification Report:\n",
            "              precision    recall  f1-score   support\n",
            "\n",
            "           0       0.70      0.64      0.67      3768\n",
            "           1       0.55      0.53      0.54      3754\n",
            "           2       0.67      0.76      0.72      3743\n",
            "\n",
            "    accuracy                           0.64     11265\n",
            "   macro avg       0.64      0.64      0.64     11265\n",
            "weighted avg       0.64      0.64      0.64     11265\n",
            "\n",
            "\n",
            "Confusion Matrix:\n",
            "[[2405  986  377]\n",
            " [ 759 1988 1007]\n",
            " [ 281  608 2854]]\n",
            "\n"
          ]
        },
        {
          "data": {
            "image/png": "[encoded data removed]",
            "text/plain": [
              "<Figure size 640x480 with 2 Axes>"
            ]
          },
          "metadata": {},
          "output_type": "display_data"
        }
      ],
      "source": [
        "# Train and test the GRU model\n",
        "print('Training GRU...')\n",
        "train(gru, optimizer_gru, criterion, train_loader)\n",
        "print('Testing GRU...')\n",
        "test(gru, criterion, test_loader)\n",
        "print('Evaluating GRU...')\n",
        "evaluate(gru, test_loader)"
      ]
    },
    {
      "cell_type": "code",
      "execution_count": 19,
      "id": "cde39468",
      "metadata": {},
      "outputs": [
        {
          "name": "stdout",
          "output_type": "stream",
          "text": [
            "BiLSTM Model: BiLSTM(\n",
            "  (lstm): LSTM(100, 50, batch_first=True, bidirectional=True)\n",
            "  (fc): Linear(in_features=100, out_features=3, bias=True)\n",
            ")\n"
          ]
        }
      ],
      "source": [
        "# Define the BiLSTM model\n",
        "class BiLSTM(nn.Module):\n",
        "    def __init__(self, input_size, hidden_size, num_classes):\n",
        "        super(BiLSTM, self).__init__()\n",
        "        self.lstm = nn.LSTM(input_size, hidden_size, batch_first=True, bidirectional=True)\n",
        "        self.fc = nn.Linear(hidden_size * 2, num_classes)\n",
        "    \n",
        "    def forward(self, x):\n",
        "        out, _ = self.lstm(x)\n",
        "        out = self.fc(out[:, -1, :])\n",
        "        return out\n",
        "        \n",
        "# Initialize the model\n",
        "bilstm = BiLSTM(input_size=100, hidden_size=50, num_classes=3)\n",
        "\n",
        "# Print the model\n",
        "print('BiLSTM Model:', bilstm)"
      ]
    },
    {
      "cell_type": "code",
      "execution_count": 20,
      "id": "312422d8",
      "metadata": {},
      "outputs": [],
      "source": [
        "# Define the loss function and the optimizer\n",
        "criterion = nn.CrossEntropyLoss()\n",
        "optimizer_bilstm = optim.Adam(bilstm.parameters())"
      ]
    },
    {
      "cell_type": "code",
      "execution_count": 21,
      "id": "7f1ac0c9",
      "metadata": {},
      "outputs": [
        {
          "name": "stdout",
          "output_type": "stream",
          "text": [
            "Training BiLSTM...\n",
            "Testing BiLSTM...\n",
            "Test set: Average loss: 0.0030, Accuracy: 7518/11265 (67%)\n",
            "\n",
            "Evaluating BiLSTM...\n",
            "Accuracy:0.6673768308921438\n",
            "\n",
            "Classification Report:\n",
            "              precision    recall  f1-score   support\n",
            "\n",
            "           0       0.69      0.73      0.71      3768\n",
            "           1       0.56      0.63      0.59      3754\n",
            "           2       0.79      0.64      0.71      3743\n",
            "\n",
            "    accuracy                           0.67     11265\n",
            "   macro avg       0.68      0.67      0.67     11265\n",
            "weighted avg       0.68      0.67      0.67     11265\n",
            "\n",
            "\n",
            "Confusion Matrix:\n",
            "[[2762  858  148]\n",
            " [ 914 2352  488]\n",
            " [ 337 1002 2404]]\n",
            "\n"
          ]
        },
        {
          "data": {
            "image/png": "[encoded data removed]",
            "text/plain": [
              "<Figure size 640x480 with 2 Axes>"
            ]
          },
          "metadata": {},
          "output_type": "display_data"
        }
      ],
      "source": [
        "# Train and test the BiLSTM model\n",
        "print('Training BiLSTM...')\n",
        "train(bilstm, optimizer_bilstm, criterion, train_loader)\n",
        "print('Testing BiLSTM...')\n",
        "test(bilstm, criterion, test_loader)\n",
        "print('Evaluating BiLSTM...')\n",
        "evaluate(bilstm, test_loader)"
      ]
    },
    {
      "cell_type": "code",
      "execution_count": 22,
      "id": "a0875889",
      "metadata": {},
      "outputs": [
        {
          "name": "stdout",
          "output_type": "stream",
          "text": [
            "BiGRU Model: BiGRU(\n",
            "  (gru): GRU(100, 50, batch_first=True, bidirectional=True)\n",
            "  (fc): Linear(in_features=100, out_features=3, bias=True)\n",
            ")\n"
          ]
        }
      ],
      "source": [
        "# Define the BiGRU model\n",
        "class BiGRU(nn.Module):\n",
        "    def __init__(self, input_size, hidden_size, num_classes):\n",
        "        super(BiGRU, self).__init__()\n",
        "        self.gru = nn.GRU(input_size, hidden_size, batch_first=True, bidirectional=True)\n",
        "        self.fc = nn.Linear(hidden_size * 2, num_classes)\n",
        "\n",
        "    def forward(self, x):\n",
        "        out, _ = self.gru(x)\n",
        "        out = self.fc(out[:, -1, :])\n",
        "        return out\n",
        "            \n",
        "# Initialize the model\n",
        "bigru = BiGRU(input_size=100, hidden_size=50, num_classes=3)\n",
        "\n",
        "# Print the model\n",
        "print('BiGRU Model:', bigru)"
      ]
    },
    {
      "cell_type": "code",
      "execution_count": 23,
      "id": "bc0b2e94",
      "metadata": {},
      "outputs": [],
      "source": [
        "# Define the loss function and the optimizer\n",
        "criterion = nn.CrossEntropyLoss()\n",
        "optimizer_bigru = optim.Adam(bigru.parameters())"
      ]
    },
    {
      "cell_type": "code",
      "execution_count": 24,
      "id": "4f71fc81",
      "metadata": {},
      "outputs": [
        {
          "name": "stdout",
          "output_type": "stream",
          "text": [
            "Training BiGRU...\n",
            "Testing BiGRU...\n",
            "Test set: Average loss: 0.0030, Accuracy: 7509/11265 (67%)\n",
            "\n",
            "Evaluating BiGRU...\n",
            "Accuracy:0.6665778961384821\n",
            "\n",
            "Classification Report:\n",
            "              precision    recall  f1-score   support\n",
            "\n",
            "           0       0.68      0.75      0.71      3768\n",
            "           1       0.61      0.49      0.55      3754\n",
            "           2       0.69      0.75      0.72      3743\n",
            "\n",
            "    accuracy                           0.67     11265\n",
            "   macro avg       0.66      0.67      0.66     11265\n",
            "weighted avg       0.66      0.67      0.66     11265\n",
            "\n",
            "\n",
            "Confusion Matrix:\n",
            "[[2838  614  316]\n",
            " [ 966 1848  940]\n",
            " [ 370  550 2823]]\n",
            "\n"
          ]
        },
        {
          "data": {
            "image/png": "[encoded data removed]",
            "text/plain": [
              "<Figure size 640x480 with 2 Axes>"
            ]
          },
          "metadata": {},
          "output_type": "display_data"
        }
      ],
      "source": [
        "# Train and test the BiGRU model\n",
        "print('Training BiGRU...')\n",
        "train(bigru, optimizer_bigru, criterion, train_loader)\n",
        "print('Testing BiGRU...')\n",
        "test(bigru, criterion, test_loader)\n",
        "\n",
        "print('Evaluating BiGRU...')\n",
        "evaluate(bigru, test_loader)"
      ]
    },
    {
      "cell_type": "code",
      "execution_count": 25,
      "id": "459916cf",
      "metadata": {},
      "outputs": [
        {
          "name": "stdout",
          "output_type": "stream",
          "text": [
            "CNN Model: CNN(\n",
            "  (conv1): Conv1d(1, 50, kernel_size=(3,), stride=(1,))\n",
            "  (conv2): Conv1d(50, 100, kernel_size=(3,), stride=(1,))\n",
            "  (fc): Linear(in_features=2400, out_features=3, bias=True)\n",
            ")\n"
          ]
        }
      ],
      "source": [
        "import torch.nn.functional as F\n",
        "\n",
        "# Define the CNN model\n",
        "class CNN(nn.Module):\n",
        "    def __init__(self, num_classes):\n",
        "        super(CNN, self).__init__()\n",
        "        self.conv1 = nn.Conv1d(1, 50, 3)\n",
        "        self.conv2 = nn.Conv1d(50, 100, 3)\n",
        "        self.fc = nn.Linear(100 * 24, num_classes)\n",
        "        \n",
        "    def forward(self, x):\n",
        "        out = F.relu(self.conv1(x))\n",
        "        out = F.relu(self.conv2(out))\n",
        "        out = out.view(-1, 100 * 24)\n",
        "        out = self.fc(out)\n",
        "        return out\n",
        "        \n",
        "# Initialize the model\n",
        "cnn = CNN(num_classes=3)\n",
        "\n",
        "# Print the model\n",
        "print('CNN Model:', cnn)"
      ]
    },
    {
      "cell_type": "code",
      "execution_count": 26,
      "id": "34869fff",
      "metadata": {},
      "outputs": [],
      "source": [
        "# Define the loss function and the optimizer\n",
        "criterion = nn.CrossEntropyLoss()\n",
        "optimizer_cnn = optim.Adam(cnn.parameters())"
      ]
    },
    {
      "cell_type": "code",
      "execution_count": 27,
      "id": "3f7298e1",
      "metadata": {},
      "outputs": [
        {
          "name": "stdout",
          "output_type": "stream",
          "text": [
            "Training CNN...\n"
          ]
        },
        {
          "ename": "ValueError",
          "evalue": "Expected input batch_size (1024) to match target batch_size (256).",
          "output_type": "error",
          "traceback": [
            "\u001b[1;31m---------------------------------------------------------------------------\u001b[0m",
            "\u001b[1;31mValueError\u001b[0m                                Traceback (most recent call last)",
            "Cell \u001b[1;32mIn[27], line 3\u001b[0m\n\u001b[0;32m      1\u001b[0m \u001b[39m# Train and test the CNN model\u001b[39;00m\n\u001b[0;32m      2\u001b[0m \u001b[39mprint\u001b[39m(\u001b[39m'\u001b[39m\u001b[39mTraining CNN...\u001b[39m\u001b[39m'\u001b[39m)\n\u001b[1;32m----> 3\u001b[0m train(cnn, optimizer_cnn, criterion, train_loader)\n\u001b[0;32m      4\u001b[0m \u001b[39mprint\u001b[39m(\u001b[39m'\u001b[39m\u001b[39mTesting CNN...\u001b[39m\u001b[39m'\u001b[39m)\n\u001b[0;32m      5\u001b[0m test(cnn, criterion, test_loader)\n",
            "Cell \u001b[1;32mIn[9], line 6\u001b[0m, in \u001b[0;36mtrain\u001b[1;34m(model, optimizer, criterion, data_loader)\u001b[0m\n\u001b[0;32m      4\u001b[0m optimizer\u001b[39m.\u001b[39mzero_grad()\n\u001b[0;32m      5\u001b[0m output \u001b[39m=\u001b[39m model(data\u001b[39m.\u001b[39munsqueeze(\u001b[39m1\u001b[39m))\n\u001b[1;32m----> 6\u001b[0m loss \u001b[39m=\u001b[39m criterion(output, target)\n\u001b[0;32m      7\u001b[0m loss\u001b[39m.\u001b[39mbackward()\n\u001b[0;32m      8\u001b[0m optimizer\u001b[39m.\u001b[39mstep()\n",
            "File \u001b[1;32mc:\\Users\\hawkp\\miniconda3\\envs\\agile\\lib\\site-packages\\torch\\nn\\modules\\module.py:1501\u001b[0m, in \u001b[0;36mModule._call_impl\u001b[1;34m(self, *args, **kwargs)\u001b[0m\n\u001b[0;32m   1496\u001b[0m \u001b[39m# If we don't have any hooks, we want to skip the rest of the logic in\u001b[39;00m\n\u001b[0;32m   1497\u001b[0m \u001b[39m# this function, and just call forward.\u001b[39;00m\n\u001b[0;32m   1498\u001b[0m \u001b[39mif\u001b[39;00m \u001b[39mnot\u001b[39;00m (\u001b[39mself\u001b[39m\u001b[39m.\u001b[39m_backward_hooks \u001b[39mor\u001b[39;00m \u001b[39mself\u001b[39m\u001b[39m.\u001b[39m_backward_pre_hooks \u001b[39mor\u001b[39;00m \u001b[39mself\u001b[39m\u001b[39m.\u001b[39m_forward_hooks \u001b[39mor\u001b[39;00m \u001b[39mself\u001b[39m\u001b[39m.\u001b[39m_forward_pre_hooks\n\u001b[0;32m   1499\u001b[0m         \u001b[39mor\u001b[39;00m _global_backward_pre_hooks \u001b[39mor\u001b[39;00m _global_backward_hooks\n\u001b[0;32m   1500\u001b[0m         \u001b[39mor\u001b[39;00m _global_forward_hooks \u001b[39mor\u001b[39;00m _global_forward_pre_hooks):\n\u001b[1;32m-> 1501\u001b[0m     \u001b[39mreturn\u001b[39;00m forward_call(\u001b[39m*\u001b[39margs, \u001b[39m*\u001b[39m\u001b[39m*\u001b[39mkwargs)\n\u001b[0;32m   1502\u001b[0m \u001b[39m# Do not call functions when jit is used\u001b[39;00m\n\u001b[0;32m   1503\u001b[0m full_backward_hooks, non_full_backward_hooks \u001b[39m=\u001b[39m [], []\n",
            "File \u001b[1;32mc:\\Users\\hawkp\\miniconda3\\envs\\agile\\lib\\site-packages\\torch\\nn\\modules\\loss.py:1174\u001b[0m, in \u001b[0;36mCrossEntropyLoss.forward\u001b[1;34m(self, input, target)\u001b[0m\n\u001b[0;32m   1173\u001b[0m \u001b[39mdef\u001b[39;00m \u001b[39mforward\u001b[39m(\u001b[39mself\u001b[39m, \u001b[39minput\u001b[39m: Tensor, target: Tensor) \u001b[39m-\u001b[39m\u001b[39m>\u001b[39m Tensor:\n\u001b[1;32m-> 1174\u001b[0m     \u001b[39mreturn\u001b[39;00m F\u001b[39m.\u001b[39;49mcross_entropy(\u001b[39minput\u001b[39;49m, target, weight\u001b[39m=\u001b[39;49m\u001b[39mself\u001b[39;49m\u001b[39m.\u001b[39;49mweight,\n\u001b[0;32m   1175\u001b[0m                            ignore_index\u001b[39m=\u001b[39;49m\u001b[39mself\u001b[39;49m\u001b[39m.\u001b[39;49mignore_index, reduction\u001b[39m=\u001b[39;49m\u001b[39mself\u001b[39;49m\u001b[39m.\u001b[39;49mreduction,\n\u001b[0;32m   1176\u001b[0m                            label_smoothing\u001b[39m=\u001b[39;49m\u001b[39mself\u001b[39;49m\u001b[39m.\u001b[39;49mlabel_smoothing)\n",
            "File \u001b[1;32mc:\\Users\\hawkp\\miniconda3\\envs\\agile\\lib\\site-packages\\torch\\nn\\functional.py:3029\u001b[0m, in \u001b[0;36mcross_entropy\u001b[1;34m(input, target, weight, size_average, ignore_index, reduce, reduction, label_smoothing)\u001b[0m\n\u001b[0;32m   3027\u001b[0m \u001b[39mif\u001b[39;00m size_average \u001b[39mis\u001b[39;00m \u001b[39mnot\u001b[39;00m \u001b[39mNone\u001b[39;00m \u001b[39mor\u001b[39;00m reduce \u001b[39mis\u001b[39;00m \u001b[39mnot\u001b[39;00m \u001b[39mNone\u001b[39;00m:\n\u001b[0;32m   3028\u001b[0m     reduction \u001b[39m=\u001b[39m _Reduction\u001b[39m.\u001b[39mlegacy_get_string(size_average, reduce)\n\u001b[1;32m-> 3029\u001b[0m \u001b[39mreturn\u001b[39;00m torch\u001b[39m.\u001b[39;49m_C\u001b[39m.\u001b[39;49m_nn\u001b[39m.\u001b[39;49mcross_entropy_loss(\u001b[39minput\u001b[39;49m, target, weight, _Reduction\u001b[39m.\u001b[39;49mget_enum(reduction), ignore_index, label_smoothing)\n",
            "\u001b[1;31mValueError\u001b[0m: Expected input batch_size (1024) to match target batch_size (256)."
          ]
        }
      ],
      "source": [
        "# Train and test the CNN model\n",
        "print('Training CNN...')\n",
        "train(cnn, optimizer_cnn, criterion, train_loader)\n",
        "print('Testing CNN...')\n",
        "test(cnn, criterion, test_loader)\n",
        "\n",
        "print('Evaluating CNN...')\n",
        "evaluate(cnn, test_loader)"
      ]
    },
    {
      "cell_type": "code",
      "execution_count": 28,
      "id": "d161c1bf",
      "metadata": {},
      "outputs": [
        {
          "name": "stdout",
          "output_type": "stream",
          "text": [
            "CNN-LSTM Model: CNN_LSTM(\n",
            "  (conv1): Conv1d(1, 50, kernel_size=(3,), stride=(1,))\n",
            "  (conv2): Conv1d(50, 100, kernel_size=(3,), stride=(1,))\n",
            "  (lstm): LSTM(100, 50, batch_first=True)\n",
            "  (fc): Linear(in_features=50, out_features=3, bias=True)\n",
            ")\n"
          ]
        }
      ],
      "source": [
        "# Define the CNN-LSTM model\n",
        "class CNN_LSTM(nn.Module):\n",
        "    def __init__(self, num_classes):\n",
        "        super(CNN_LSTM, self).__init__()\n",
        "        self.conv1 = nn.Conv1d(1, 50, 3)\n",
        "        self.conv2 = nn.Conv1d(50, 100, 3)\n",
        "        self.lstm = nn.LSTM(100, 50, batch_first=True)\n",
        "        self.fc = nn.Linear(50, num_classes)\n",
        "        \n",
        "    def forward(self, x):\n",
        "        out = F.relu(self.conv1(x))\n",
        "        out = F.relu(self.conv2(out))\n",
        "        out, _ = self.lstm(out)\n",
        "        out = self.fc(out[:, -1, :])\n",
        "        return out\n",
        "            \n",
        "# Initialize the model\n",
        "cnn_lstm = CNN_LSTM(num_classes=3)\n",
        "\n",
        "# Print the model\n",
        "print('CNN-LSTM Model:', cnn_lstm)"
      ]
    },
    {
      "cell_type": "code",
      "execution_count": 29,
      "id": "087859e7",
      "metadata": {},
      "outputs": [],
      "source": [
        "# Define the loss function and the optimizer\n",
        "criterion = nn.CrossEntropyLoss()\n",
        "optimizer_cnn_lstm = optim.Adam(cnn_lstm.parameters())"
      ]
    },
    {
      "cell_type": "code",
      "execution_count": 30,
      "id": "ef5f2761",
      "metadata": {},
      "outputs": [
        {
          "name": "stdout",
          "output_type": "stream",
          "text": [
            "Training CNN-LSTM...\n"
          ]
        },
        {
          "ename": "RuntimeError",
          "evalue": "input.size(-1) must be equal to input_size. Expected 100, got 96",
          "output_type": "error",
          "traceback": [
            "\u001b[1;31m---------------------------------------------------------------------------\u001b[0m",
            "\u001b[1;31mRuntimeError\u001b[0m                              Traceback (most recent call last)",
            "Cell \u001b[1;32mIn[30], line 3\u001b[0m\n\u001b[0;32m      1\u001b[0m \u001b[39m# Train and test the CNN-LSTM model\u001b[39;00m\n\u001b[0;32m      2\u001b[0m \u001b[39mprint\u001b[39m(\u001b[39m'\u001b[39m\u001b[39mTraining CNN-LSTM...\u001b[39m\u001b[39m'\u001b[39m)\n\u001b[1;32m----> 3\u001b[0m train(cnn_lstm, optimizer_cnn_lstm, criterion, train_loader)\n\u001b[0;32m      4\u001b[0m \u001b[39mprint\u001b[39m(\u001b[39m'\u001b[39m\u001b[39mTesting CNN-LSTM...\u001b[39m\u001b[39m'\u001b[39m)\n\u001b[0;32m      5\u001b[0m test(cnn_lstm, criterion, test_loader)\n",
            "Cell \u001b[1;32mIn[9], line 5\u001b[0m, in \u001b[0;36mtrain\u001b[1;34m(model, optimizer, criterion, data_loader)\u001b[0m\n\u001b[0;32m      3\u001b[0m \u001b[39mfor\u001b[39;00m data, target \u001b[39min\u001b[39;00m data_loader:\n\u001b[0;32m      4\u001b[0m     optimizer\u001b[39m.\u001b[39mzero_grad()\n\u001b[1;32m----> 5\u001b[0m     output \u001b[39m=\u001b[39m model(data\u001b[39m.\u001b[39;49munsqueeze(\u001b[39m1\u001b[39;49m))\n\u001b[0;32m      6\u001b[0m     loss \u001b[39m=\u001b[39m criterion(output, target)\n\u001b[0;32m      7\u001b[0m     loss\u001b[39m.\u001b[39mbackward()\n",
            "File \u001b[1;32mc:\\Users\\hawkp\\miniconda3\\envs\\agile\\lib\\site-packages\\torch\\nn\\modules\\module.py:1501\u001b[0m, in \u001b[0;36mModule._call_impl\u001b[1;34m(self, *args, **kwargs)\u001b[0m\n\u001b[0;32m   1496\u001b[0m \u001b[39m# If we don't have any hooks, we want to skip the rest of the logic in\u001b[39;00m\n\u001b[0;32m   1497\u001b[0m \u001b[39m# this function, and just call forward.\u001b[39;00m\n\u001b[0;32m   1498\u001b[0m \u001b[39mif\u001b[39;00m \u001b[39mnot\u001b[39;00m (\u001b[39mself\u001b[39m\u001b[39m.\u001b[39m_backward_hooks \u001b[39mor\u001b[39;00m \u001b[39mself\u001b[39m\u001b[39m.\u001b[39m_backward_pre_hooks \u001b[39mor\u001b[39;00m \u001b[39mself\u001b[39m\u001b[39m.\u001b[39m_forward_hooks \u001b[39mor\u001b[39;00m \u001b[39mself\u001b[39m\u001b[39m.\u001b[39m_forward_pre_hooks\n\u001b[0;32m   1499\u001b[0m         \u001b[39mor\u001b[39;00m _global_backward_pre_hooks \u001b[39mor\u001b[39;00m _global_backward_hooks\n\u001b[0;32m   1500\u001b[0m         \u001b[39mor\u001b[39;00m _global_forward_hooks \u001b[39mor\u001b[39;00m _global_forward_pre_hooks):\n\u001b[1;32m-> 1501\u001b[0m     \u001b[39mreturn\u001b[39;00m forward_call(\u001b[39m*\u001b[39margs, \u001b[39m*\u001b[39m\u001b[39m*\u001b[39mkwargs)\n\u001b[0;32m   1502\u001b[0m \u001b[39m# Do not call functions when jit is used\u001b[39;00m\n\u001b[0;32m   1503\u001b[0m full_backward_hooks, non_full_backward_hooks \u001b[39m=\u001b[39m [], []\n",
            "Cell \u001b[1;32mIn[28], line 13\u001b[0m, in \u001b[0;36mCNN_LSTM.forward\u001b[1;34m(self, x)\u001b[0m\n\u001b[0;32m     11\u001b[0m out \u001b[39m=\u001b[39m F\u001b[39m.\u001b[39mrelu(\u001b[39mself\u001b[39m\u001b[39m.\u001b[39mconv1(x))\n\u001b[0;32m     12\u001b[0m out \u001b[39m=\u001b[39m F\u001b[39m.\u001b[39mrelu(\u001b[39mself\u001b[39m\u001b[39m.\u001b[39mconv2(out))\n\u001b[1;32m---> 13\u001b[0m out, _ \u001b[39m=\u001b[39m \u001b[39mself\u001b[39;49m\u001b[39m.\u001b[39;49mlstm(out)\n\u001b[0;32m     14\u001b[0m out \u001b[39m=\u001b[39m \u001b[39mself\u001b[39m\u001b[39m.\u001b[39mfc(out[:, \u001b[39m-\u001b[39m\u001b[39m1\u001b[39m, :])\n\u001b[0;32m     15\u001b[0m \u001b[39mreturn\u001b[39;00m out\n",
            "File \u001b[1;32mc:\\Users\\hawkp\\miniconda3\\envs\\agile\\lib\\site-packages\\torch\\nn\\modules\\module.py:1501\u001b[0m, in \u001b[0;36mModule._call_impl\u001b[1;34m(self, *args, **kwargs)\u001b[0m\n\u001b[0;32m   1496\u001b[0m \u001b[39m# If we don't have any hooks, we want to skip the rest of the logic in\u001b[39;00m\n\u001b[0;32m   1497\u001b[0m \u001b[39m# this function, and just call forward.\u001b[39;00m\n\u001b[0;32m   1498\u001b[0m \u001b[39mif\u001b[39;00m \u001b[39mnot\u001b[39;00m (\u001b[39mself\u001b[39m\u001b[39m.\u001b[39m_backward_hooks \u001b[39mor\u001b[39;00m \u001b[39mself\u001b[39m\u001b[39m.\u001b[39m_backward_pre_hooks \u001b[39mor\u001b[39;00m \u001b[39mself\u001b[39m\u001b[39m.\u001b[39m_forward_hooks \u001b[39mor\u001b[39;00m \u001b[39mself\u001b[39m\u001b[39m.\u001b[39m_forward_pre_hooks\n\u001b[0;32m   1499\u001b[0m         \u001b[39mor\u001b[39;00m _global_backward_pre_hooks \u001b[39mor\u001b[39;00m _global_backward_hooks\n\u001b[0;32m   1500\u001b[0m         \u001b[39mor\u001b[39;00m _global_forward_hooks \u001b[39mor\u001b[39;00m _global_forward_pre_hooks):\n\u001b[1;32m-> 1501\u001b[0m     \u001b[39mreturn\u001b[39;00m forward_call(\u001b[39m*\u001b[39margs, \u001b[39m*\u001b[39m\u001b[39m*\u001b[39mkwargs)\n\u001b[0;32m   1502\u001b[0m \u001b[39m# Do not call functions when jit is used\u001b[39;00m\n\u001b[0;32m   1503\u001b[0m full_backward_hooks, non_full_backward_hooks \u001b[39m=\u001b[39m [], []\n",
            "File \u001b[1;32mc:\\Users\\hawkp\\miniconda3\\envs\\agile\\lib\\site-packages\\torch\\nn\\modules\\rnn.py:810\u001b[0m, in \u001b[0;36mLSTM.forward\u001b[1;34m(self, input, hx)\u001b[0m\n\u001b[0;32m    806\u001b[0m     \u001b[39m# Each batch of the hidden state should match the input sequence that\u001b[39;00m\n\u001b[0;32m    807\u001b[0m     \u001b[39m# the user believes he/she is passing in.\u001b[39;00m\n\u001b[0;32m    808\u001b[0m     hx \u001b[39m=\u001b[39m \u001b[39mself\u001b[39m\u001b[39m.\u001b[39mpermute_hidden(hx, sorted_indices)\n\u001b[1;32m--> 810\u001b[0m \u001b[39mself\u001b[39;49m\u001b[39m.\u001b[39;49mcheck_forward_args(\u001b[39minput\u001b[39;49m, hx, batch_sizes)\n\u001b[0;32m    811\u001b[0m \u001b[39mif\u001b[39;00m batch_sizes \u001b[39mis\u001b[39;00m \u001b[39mNone\u001b[39;00m:\n\u001b[0;32m    812\u001b[0m     result \u001b[39m=\u001b[39m _VF\u001b[39m.\u001b[39mlstm(\u001b[39minput\u001b[39m, hx, \u001b[39mself\u001b[39m\u001b[39m.\u001b[39m_flat_weights, \u001b[39mself\u001b[39m\u001b[39m.\u001b[39mbias, \u001b[39mself\u001b[39m\u001b[39m.\u001b[39mnum_layers,\n\u001b[0;32m    813\u001b[0m                       \u001b[39mself\u001b[39m\u001b[39m.\u001b[39mdropout, \u001b[39mself\u001b[39m\u001b[39m.\u001b[39mtraining, \u001b[39mself\u001b[39m\u001b[39m.\u001b[39mbidirectional, \u001b[39mself\u001b[39m\u001b[39m.\u001b[39mbatch_first)\n",
            "File \u001b[1;32mc:\\Users\\hawkp\\miniconda3\\envs\\agile\\lib\\site-packages\\torch\\nn\\modules\\rnn.py:730\u001b[0m, in \u001b[0;36mLSTM.check_forward_args\u001b[1;34m(self, input, hidden, batch_sizes)\u001b[0m\n\u001b[0;32m    725\u001b[0m \u001b[39mdef\u001b[39;00m \u001b[39mcheck_forward_args\u001b[39m(\u001b[39mself\u001b[39m,  \u001b[39m# type: ignore[override]\u001b[39;00m\n\u001b[0;32m    726\u001b[0m                        \u001b[39minput\u001b[39m: Tensor,\n\u001b[0;32m    727\u001b[0m                        hidden: Tuple[Tensor, Tensor],\n\u001b[0;32m    728\u001b[0m                        batch_sizes: Optional[Tensor],\n\u001b[0;32m    729\u001b[0m                        ):\n\u001b[1;32m--> 730\u001b[0m     \u001b[39mself\u001b[39;49m\u001b[39m.\u001b[39;49mcheck_input(\u001b[39minput\u001b[39;49m, batch_sizes)\n\u001b[0;32m    731\u001b[0m     \u001b[39mself\u001b[39m\u001b[39m.\u001b[39mcheck_hidden_size(hidden[\u001b[39m0\u001b[39m], \u001b[39mself\u001b[39m\u001b[39m.\u001b[39mget_expected_hidden_size(\u001b[39minput\u001b[39m, batch_sizes),\n\u001b[0;32m    732\u001b[0m                            \u001b[39m'\u001b[39m\u001b[39mExpected hidden[0] size \u001b[39m\u001b[39m{}\u001b[39;00m\u001b[39m, got \u001b[39m\u001b[39m{}\u001b[39;00m\u001b[39m'\u001b[39m)\n\u001b[0;32m    733\u001b[0m     \u001b[39mself\u001b[39m\u001b[39m.\u001b[39mcheck_hidden_size(hidden[\u001b[39m1\u001b[39m], \u001b[39mself\u001b[39m\u001b[39m.\u001b[39mget_expected_cell_size(\u001b[39minput\u001b[39m, batch_sizes),\n\u001b[0;32m    734\u001b[0m                            \u001b[39m'\u001b[39m\u001b[39mExpected hidden[1] size \u001b[39m\u001b[39m{}\u001b[39;00m\u001b[39m, got \u001b[39m\u001b[39m{}\u001b[39;00m\u001b[39m'\u001b[39m)\n",
            "File \u001b[1;32mc:\\Users\\hawkp\\miniconda3\\envs\\agile\\lib\\site-packages\\torch\\nn\\modules\\rnn.py:218\u001b[0m, in \u001b[0;36mRNNBase.check_input\u001b[1;34m(self, input, batch_sizes)\u001b[0m\n\u001b[0;32m    214\u001b[0m     \u001b[39mraise\u001b[39;00m \u001b[39mRuntimeError\u001b[39;00m(\n\u001b[0;32m    215\u001b[0m         \u001b[39m'\u001b[39m\u001b[39minput must have \u001b[39m\u001b[39m{}\u001b[39;00m\u001b[39m dimensions, got \u001b[39m\u001b[39m{}\u001b[39;00m\u001b[39m'\u001b[39m\u001b[39m.\u001b[39mformat(\n\u001b[0;32m    216\u001b[0m             expected_input_dim, \u001b[39minput\u001b[39m\u001b[39m.\u001b[39mdim()))\n\u001b[0;32m    217\u001b[0m \u001b[39mif\u001b[39;00m \u001b[39mself\u001b[39m\u001b[39m.\u001b[39minput_size \u001b[39m!=\u001b[39m \u001b[39minput\u001b[39m\u001b[39m.\u001b[39msize(\u001b[39m-\u001b[39m\u001b[39m1\u001b[39m):\n\u001b[1;32m--> 218\u001b[0m     \u001b[39mraise\u001b[39;00m \u001b[39mRuntimeError\u001b[39;00m(\n\u001b[0;32m    219\u001b[0m         \u001b[39m'\u001b[39m\u001b[39minput.size(-1) must be equal to input_size. Expected \u001b[39m\u001b[39m{}\u001b[39;00m\u001b[39m, got \u001b[39m\u001b[39m{}\u001b[39;00m\u001b[39m'\u001b[39m\u001b[39m.\u001b[39mformat(\n\u001b[0;32m    220\u001b[0m             \u001b[39mself\u001b[39m\u001b[39m.\u001b[39minput_size, \u001b[39minput\u001b[39m\u001b[39m.\u001b[39msize(\u001b[39m-\u001b[39m\u001b[39m1\u001b[39m)))\n",
            "\u001b[1;31mRuntimeError\u001b[0m: input.size(-1) must be equal to input_size. Expected 100, got 96"
          ]
        }
      ],
      "source": [
        "# Train and test the CNN-LSTM model\n",
        "print('Training CNN-LSTM...')\n",
        "train(cnn_lstm, optimizer_cnn_lstm, criterion, train_loader)\n",
        "print('Testing CNN-LSTM...')\n",
        "test(cnn_lstm, criterion, test_loader)\n",
        "\n",
        "print('Evaluating CNN-LSTM...')\n",
        "evaluate(cnn_lstm, test_loader)"
      ]
    },
    {
      "cell_type": "code",
      "execution_count": 31,
      "id": "efb50fd7",
      "metadata": {},
      "outputs": [
        {
          "name": "stdout",
          "output_type": "stream",
          "text": [
            "CNN-BiLSTM Model: CNN_BiLSTM(\n",
            "  (conv1): Conv1d(1, 50, kernel_size=(3,), stride=(1,))\n",
            "  (conv2): Conv1d(50, 100, kernel_size=(3,), stride=(1,))\n",
            "  (lstm): LSTM(100, 50, batch_first=True, bidirectional=True)\n",
            "  (fc): Linear(in_features=100, out_features=3, bias=True)\n",
            ")\n"
          ]
        }
      ],
      "source": [
        "# Define the CNN-BiLSTM model\n",
        "class CNN_BiLSTM(nn.Module):            \n",
        "    def __init__(self, num_classes):\n",
        "        super(CNN_BiLSTM, self).__init__()\n",
        "        self.conv1 = nn.Conv1d(1, 50, 3)\n",
        "        self.conv2 = nn.Conv1d(50, 100, 3)\n",
        "        self.lstm = nn.LSTM(100, 50, batch_first=True, bidirectional=True)\n",
        "        self.fc = nn.Linear(100, num_classes)\n",
        "        \n",
        "    def forward(self, x):\n",
        "        out = F.relu(self.conv1(x))\n",
        "        out = F.relu(self.conv2(out))\n",
        "        out, _ = self.lstm(out)\n",
        "        out = self.fc(out[:, -1, :])\n",
        "        return out\n",
        "                \n",
        "# Initialize the model\n",
        "cnn_bilstm = CNN_BiLSTM(num_classes=3)\n",
        "\n",
        "# Print the model\n",
        "print('CNN-BiLSTM Model:', cnn_bilstm)"
      ]
    },
    {
      "cell_type": "code",
      "execution_count": 32,
      "id": "2259ada7",
      "metadata": {},
      "outputs": [],
      "source": [
        "# Define the loss function and the optimizer\n",
        "criterion = nn.CrossEntropyLoss()\n",
        "optimizer_cnn_bilstm = optim.Adam(cnn_bilstm.parameters())"
      ]
    },
    {
      "cell_type": "code",
      "execution_count": 33,
      "id": "cd5e1b35",
      "metadata": {},
      "outputs": [
        {
          "name": "stdout",
          "output_type": "stream",
          "text": [
            "Training CNN-BiLSTM...\n"
          ]
        },
        {
          "ename": "RuntimeError",
          "evalue": "input.size(-1) must be equal to input_size. Expected 100, got 96",
          "output_type": "error",
          "traceback": [
            "\u001b[1;31m---------------------------------------------------------------------------\u001b[0m",
            "\u001b[1;31mRuntimeError\u001b[0m                              Traceback (most recent call last)",
            "Cell \u001b[1;32mIn[33], line 3\u001b[0m\n\u001b[0;32m      1\u001b[0m \u001b[39m# Train and test the CNN-BiLSTM model\u001b[39;00m\n\u001b[0;32m      2\u001b[0m \u001b[39mprint\u001b[39m(\u001b[39m'\u001b[39m\u001b[39mTraining CNN-BiLSTM...\u001b[39m\u001b[39m'\u001b[39m)\n\u001b[1;32m----> 3\u001b[0m train(cnn_bilstm, optimizer_cnn_bilstm, criterion, train_loader)\n\u001b[0;32m      4\u001b[0m \u001b[39mprint\u001b[39m(\u001b[39m'\u001b[39m\u001b[39mTesting CNN-BiLSTM...\u001b[39m\u001b[39m'\u001b[39m)\n\u001b[0;32m      5\u001b[0m test(cnn_bilstm, criterion, test_loader)\n",
            "Cell \u001b[1;32mIn[9], line 5\u001b[0m, in \u001b[0;36mtrain\u001b[1;34m(model, optimizer, criterion, data_loader)\u001b[0m\n\u001b[0;32m      3\u001b[0m \u001b[39mfor\u001b[39;00m data, target \u001b[39min\u001b[39;00m data_loader:\n\u001b[0;32m      4\u001b[0m     optimizer\u001b[39m.\u001b[39mzero_grad()\n\u001b[1;32m----> 5\u001b[0m     output \u001b[39m=\u001b[39m model(data\u001b[39m.\u001b[39;49munsqueeze(\u001b[39m1\u001b[39;49m))\n\u001b[0;32m      6\u001b[0m     loss \u001b[39m=\u001b[39m criterion(output, target)\n\u001b[0;32m      7\u001b[0m     loss\u001b[39m.\u001b[39mbackward()\n",
            "File \u001b[1;32mc:\\Users\\hawkp\\miniconda3\\envs\\agile\\lib\\site-packages\\torch\\nn\\modules\\module.py:1501\u001b[0m, in \u001b[0;36mModule._call_impl\u001b[1;34m(self, *args, **kwargs)\u001b[0m\n\u001b[0;32m   1496\u001b[0m \u001b[39m# If we don't have any hooks, we want to skip the rest of the logic in\u001b[39;00m\n\u001b[0;32m   1497\u001b[0m \u001b[39m# this function, and just call forward.\u001b[39;00m\n\u001b[0;32m   1498\u001b[0m \u001b[39mif\u001b[39;00m \u001b[39mnot\u001b[39;00m (\u001b[39mself\u001b[39m\u001b[39m.\u001b[39m_backward_hooks \u001b[39mor\u001b[39;00m \u001b[39mself\u001b[39m\u001b[39m.\u001b[39m_backward_pre_hooks \u001b[39mor\u001b[39;00m \u001b[39mself\u001b[39m\u001b[39m.\u001b[39m_forward_hooks \u001b[39mor\u001b[39;00m \u001b[39mself\u001b[39m\u001b[39m.\u001b[39m_forward_pre_hooks\n\u001b[0;32m   1499\u001b[0m         \u001b[39mor\u001b[39;00m _global_backward_pre_hooks \u001b[39mor\u001b[39;00m _global_backward_hooks\n\u001b[0;32m   1500\u001b[0m         \u001b[39mor\u001b[39;00m _global_forward_hooks \u001b[39mor\u001b[39;00m _global_forward_pre_hooks):\n\u001b[1;32m-> 1501\u001b[0m     \u001b[39mreturn\u001b[39;00m forward_call(\u001b[39m*\u001b[39margs, \u001b[39m*\u001b[39m\u001b[39m*\u001b[39mkwargs)\n\u001b[0;32m   1502\u001b[0m \u001b[39m# Do not call functions when jit is used\u001b[39;00m\n\u001b[0;32m   1503\u001b[0m full_backward_hooks, non_full_backward_hooks \u001b[39m=\u001b[39m [], []\n",
            "Cell \u001b[1;32mIn[31], line 13\u001b[0m, in \u001b[0;36mCNN_BiLSTM.forward\u001b[1;34m(self, x)\u001b[0m\n\u001b[0;32m     11\u001b[0m out \u001b[39m=\u001b[39m F\u001b[39m.\u001b[39mrelu(\u001b[39mself\u001b[39m\u001b[39m.\u001b[39mconv1(x))\n\u001b[0;32m     12\u001b[0m out \u001b[39m=\u001b[39m F\u001b[39m.\u001b[39mrelu(\u001b[39mself\u001b[39m\u001b[39m.\u001b[39mconv2(out))\n\u001b[1;32m---> 13\u001b[0m out, _ \u001b[39m=\u001b[39m \u001b[39mself\u001b[39;49m\u001b[39m.\u001b[39;49mlstm(out)\n\u001b[0;32m     14\u001b[0m out \u001b[39m=\u001b[39m \u001b[39mself\u001b[39m\u001b[39m.\u001b[39mfc(out[:, \u001b[39m-\u001b[39m\u001b[39m1\u001b[39m, :])\n\u001b[0;32m     15\u001b[0m \u001b[39mreturn\u001b[39;00m out\n",
            "File \u001b[1;32mc:\\Users\\hawkp\\miniconda3\\envs\\agile\\lib\\site-packages\\torch\\nn\\modules\\module.py:1501\u001b[0m, in \u001b[0;36mModule._call_impl\u001b[1;34m(self, *args, **kwargs)\u001b[0m\n\u001b[0;32m   1496\u001b[0m \u001b[39m# If we don't have any hooks, we want to skip the rest of the logic in\u001b[39;00m\n\u001b[0;32m   1497\u001b[0m \u001b[39m# this function, and just call forward.\u001b[39;00m\n\u001b[0;32m   1498\u001b[0m \u001b[39mif\u001b[39;00m \u001b[39mnot\u001b[39;00m (\u001b[39mself\u001b[39m\u001b[39m.\u001b[39m_backward_hooks \u001b[39mor\u001b[39;00m \u001b[39mself\u001b[39m\u001b[39m.\u001b[39m_backward_pre_hooks \u001b[39mor\u001b[39;00m \u001b[39mself\u001b[39m\u001b[39m.\u001b[39m_forward_hooks \u001b[39mor\u001b[39;00m \u001b[39mself\u001b[39m\u001b[39m.\u001b[39m_forward_pre_hooks\n\u001b[0;32m   1499\u001b[0m         \u001b[39mor\u001b[39;00m _global_backward_pre_hooks \u001b[39mor\u001b[39;00m _global_backward_hooks\n\u001b[0;32m   1500\u001b[0m         \u001b[39mor\u001b[39;00m _global_forward_hooks \u001b[39mor\u001b[39;00m _global_forward_pre_hooks):\n\u001b[1;32m-> 1501\u001b[0m     \u001b[39mreturn\u001b[39;00m forward_call(\u001b[39m*\u001b[39margs, \u001b[39m*\u001b[39m\u001b[39m*\u001b[39mkwargs)\n\u001b[0;32m   1502\u001b[0m \u001b[39m# Do not call functions when jit is used\u001b[39;00m\n\u001b[0;32m   1503\u001b[0m full_backward_hooks, non_full_backward_hooks \u001b[39m=\u001b[39m [], []\n",
            "File \u001b[1;32mc:\\Users\\hawkp\\miniconda3\\envs\\agile\\lib\\site-packages\\torch\\nn\\modules\\rnn.py:810\u001b[0m, in \u001b[0;36mLSTM.forward\u001b[1;34m(self, input, hx)\u001b[0m\n\u001b[0;32m    806\u001b[0m     \u001b[39m# Each batch of the hidden state should match the input sequence that\u001b[39;00m\n\u001b[0;32m    807\u001b[0m     \u001b[39m# the user believes he/she is passing in.\u001b[39;00m\n\u001b[0;32m    808\u001b[0m     hx \u001b[39m=\u001b[39m \u001b[39mself\u001b[39m\u001b[39m.\u001b[39mpermute_hidden(hx, sorted_indices)\n\u001b[1;32m--> 810\u001b[0m \u001b[39mself\u001b[39;49m\u001b[39m.\u001b[39;49mcheck_forward_args(\u001b[39minput\u001b[39;49m, hx, batch_sizes)\n\u001b[0;32m    811\u001b[0m \u001b[39mif\u001b[39;00m batch_sizes \u001b[39mis\u001b[39;00m \u001b[39mNone\u001b[39;00m:\n\u001b[0;32m    812\u001b[0m     result \u001b[39m=\u001b[39m _VF\u001b[39m.\u001b[39mlstm(\u001b[39minput\u001b[39m, hx, \u001b[39mself\u001b[39m\u001b[39m.\u001b[39m_flat_weights, \u001b[39mself\u001b[39m\u001b[39m.\u001b[39mbias, \u001b[39mself\u001b[39m\u001b[39m.\u001b[39mnum_layers,\n\u001b[0;32m    813\u001b[0m                       \u001b[39mself\u001b[39m\u001b[39m.\u001b[39mdropout, \u001b[39mself\u001b[39m\u001b[39m.\u001b[39mtraining, \u001b[39mself\u001b[39m\u001b[39m.\u001b[39mbidirectional, \u001b[39mself\u001b[39m\u001b[39m.\u001b[39mbatch_first)\n",
            "File \u001b[1;32mc:\\Users\\hawkp\\miniconda3\\envs\\agile\\lib\\site-packages\\torch\\nn\\modules\\rnn.py:730\u001b[0m, in \u001b[0;36mLSTM.check_forward_args\u001b[1;34m(self, input, hidden, batch_sizes)\u001b[0m\n\u001b[0;32m    725\u001b[0m \u001b[39mdef\u001b[39;00m \u001b[39mcheck_forward_args\u001b[39m(\u001b[39mself\u001b[39m,  \u001b[39m# type: ignore[override]\u001b[39;00m\n\u001b[0;32m    726\u001b[0m                        \u001b[39minput\u001b[39m: Tensor,\n\u001b[0;32m    727\u001b[0m                        hidden: Tuple[Tensor, Tensor],\n\u001b[0;32m    728\u001b[0m                        batch_sizes: Optional[Tensor],\n\u001b[0;32m    729\u001b[0m                        ):\n\u001b[1;32m--> 730\u001b[0m     \u001b[39mself\u001b[39;49m\u001b[39m.\u001b[39;49mcheck_input(\u001b[39minput\u001b[39;49m, batch_sizes)\n\u001b[0;32m    731\u001b[0m     \u001b[39mself\u001b[39m\u001b[39m.\u001b[39mcheck_hidden_size(hidden[\u001b[39m0\u001b[39m], \u001b[39mself\u001b[39m\u001b[39m.\u001b[39mget_expected_hidden_size(\u001b[39minput\u001b[39m, batch_sizes),\n\u001b[0;32m    732\u001b[0m                            \u001b[39m'\u001b[39m\u001b[39mExpected hidden[0] size \u001b[39m\u001b[39m{}\u001b[39;00m\u001b[39m, got \u001b[39m\u001b[39m{}\u001b[39;00m\u001b[39m'\u001b[39m)\n\u001b[0;32m    733\u001b[0m     \u001b[39mself\u001b[39m\u001b[39m.\u001b[39mcheck_hidden_size(hidden[\u001b[39m1\u001b[39m], \u001b[39mself\u001b[39m\u001b[39m.\u001b[39mget_expected_cell_size(\u001b[39minput\u001b[39m, batch_sizes),\n\u001b[0;32m    734\u001b[0m                            \u001b[39m'\u001b[39m\u001b[39mExpected hidden[1] size \u001b[39m\u001b[39m{}\u001b[39;00m\u001b[39m, got \u001b[39m\u001b[39m{}\u001b[39;00m\u001b[39m'\u001b[39m)\n",
            "File \u001b[1;32mc:\\Users\\hawkp\\miniconda3\\envs\\agile\\lib\\site-packages\\torch\\nn\\modules\\rnn.py:218\u001b[0m, in \u001b[0;36mRNNBase.check_input\u001b[1;34m(self, input, batch_sizes)\u001b[0m\n\u001b[0;32m    214\u001b[0m     \u001b[39mraise\u001b[39;00m \u001b[39mRuntimeError\u001b[39;00m(\n\u001b[0;32m    215\u001b[0m         \u001b[39m'\u001b[39m\u001b[39minput must have \u001b[39m\u001b[39m{}\u001b[39;00m\u001b[39m dimensions, got \u001b[39m\u001b[39m{}\u001b[39;00m\u001b[39m'\u001b[39m\u001b[39m.\u001b[39mformat(\n\u001b[0;32m    216\u001b[0m             expected_input_dim, \u001b[39minput\u001b[39m\u001b[39m.\u001b[39mdim()))\n\u001b[0;32m    217\u001b[0m \u001b[39mif\u001b[39;00m \u001b[39mself\u001b[39m\u001b[39m.\u001b[39minput_size \u001b[39m!=\u001b[39m \u001b[39minput\u001b[39m\u001b[39m.\u001b[39msize(\u001b[39m-\u001b[39m\u001b[39m1\u001b[39m):\n\u001b[1;32m--> 218\u001b[0m     \u001b[39mraise\u001b[39;00m \u001b[39mRuntimeError\u001b[39;00m(\n\u001b[0;32m    219\u001b[0m         \u001b[39m'\u001b[39m\u001b[39minput.size(-1) must be equal to input_size. Expected \u001b[39m\u001b[39m{}\u001b[39;00m\u001b[39m, got \u001b[39m\u001b[39m{}\u001b[39;00m\u001b[39m'\u001b[39m\u001b[39m.\u001b[39mformat(\n\u001b[0;32m    220\u001b[0m             \u001b[39mself\u001b[39m\u001b[39m.\u001b[39minput_size, \u001b[39minput\u001b[39m\u001b[39m.\u001b[39msize(\u001b[39m-\u001b[39m\u001b[39m1\u001b[39m)))\n",
            "\u001b[1;31mRuntimeError\u001b[0m: input.size(-1) must be equal to input_size. Expected 100, got 96"
          ]
        }
      ],
      "source": [
        "# Train and test the CNN-BiLSTM model\n",
        "print('Training CNN-BiLSTM...')\n",
        "train(cnn_bilstm, optimizer_cnn_bilstm, criterion, train_loader)\n",
        "print('Testing CNN-BiLSTM...')\n",
        "test(cnn_bilstm, criterion, test_loader)\n",
        "\n",
        "print('Evaluating CNN-BiLSTM...')\n",
        "evaluate(cnn_bilstm, test_loader)"
      ]
    },
    {
      "cell_type": "code",
      "execution_count": 34,
      "id": "8dfcc1f6",
      "metadata": {},
      "outputs": [
        {
          "name": "stdout",
          "output_type": "stream",
          "text": [
            "CNN-GRU Model: CNN_GRU(\n",
            "  (conv1): Conv1d(1, 50, kernel_size=(3,), stride=(1,))\n",
            "  (conv2): Conv1d(50, 100, kernel_size=(3,), stride=(1,))\n",
            "  (gru): GRU(100, 50, batch_first=True)\n",
            "  (fc): Linear(in_features=50, out_features=3, bias=True)\n",
            ")\n"
          ]
        }
      ],
      "source": [
        "# Define the CNN-GRU model\n",
        "class CNN_GRU(nn.Module):\n",
        "    def __init__(self, num_classes):\n",
        "        super(CNN_GRU, self).__init__()\n",
        "        self.conv1 = nn.Conv1d(1, 50, 3)\n",
        "        self.conv2 = nn.Conv1d(50, 100, 3)\n",
        "        self.gru = nn.GRU(100, 50, batch_first=True)\n",
        "        self.fc = nn.Linear(50, num_classes)\n",
        "        \n",
        "    def forward(self, x):\n",
        "        out = F.relu(self.conv1(x))\n",
        "        out = F.relu(self.conv2(out))\n",
        "        out, _ = self.gru(out)\n",
        "        out = self.fc(out[:, -1, :])\n",
        "        return out\n",
        "                        \n",
        "# Initialize the model\n",
        "cnn_gru = CNN_GRU(num_classes=3)\n",
        "\n",
        "# Print the model\n",
        "print('CNN-GRU Model:', cnn_gru)"
      ]
    },
    {
      "cell_type": "code",
      "execution_count": 35,
      "id": "fdbcb87e",
      "metadata": {},
      "outputs": [],
      "source": [
        "# Define the loss function and the optimizer\n",
        "criterion = nn.CrossEntropyLoss()\n",
        "optimizer_cnn_gru = optim.Adam(cnn_gru.parameters())"
      ]
    },
    {
      "cell_type": "code",
      "execution_count": 36,
      "id": "1995a177",
      "metadata": {},
      "outputs": [
        {
          "name": "stdout",
          "output_type": "stream",
          "text": [
            "Training CNN-GRU...\n"
          ]
        },
        {
          "ename": "RuntimeError",
          "evalue": "input.size(-1) must be equal to input_size. Expected 100, got 96",
          "output_type": "error",
          "traceback": [
            "\u001b[1;31m---------------------------------------------------------------------------\u001b[0m",
            "\u001b[1;31mRuntimeError\u001b[0m                              Traceback (most recent call last)",
            "Cell \u001b[1;32mIn[36], line 3\u001b[0m\n\u001b[0;32m      1\u001b[0m \u001b[39m# Train and test the CNN-GRU model\u001b[39;00m\n\u001b[0;32m      2\u001b[0m \u001b[39mprint\u001b[39m(\u001b[39m'\u001b[39m\u001b[39mTraining CNN-GRU...\u001b[39m\u001b[39m'\u001b[39m)\n\u001b[1;32m----> 3\u001b[0m train(cnn_gru, optimizer_cnn_gru, criterion, train_loader)\n\u001b[0;32m      4\u001b[0m \u001b[39mprint\u001b[39m(\u001b[39m'\u001b[39m\u001b[39mTesting CNN-GRU...\u001b[39m\u001b[39m'\u001b[39m)\n\u001b[0;32m      5\u001b[0m test(cnn_gru, criterion, test_loader)\n",
            "Cell \u001b[1;32mIn[9], line 5\u001b[0m, in \u001b[0;36mtrain\u001b[1;34m(model, optimizer, criterion, data_loader)\u001b[0m\n\u001b[0;32m      3\u001b[0m \u001b[39mfor\u001b[39;00m data, target \u001b[39min\u001b[39;00m data_loader:\n\u001b[0;32m      4\u001b[0m     optimizer\u001b[39m.\u001b[39mzero_grad()\n\u001b[1;32m----> 5\u001b[0m     output \u001b[39m=\u001b[39m model(data\u001b[39m.\u001b[39;49munsqueeze(\u001b[39m1\u001b[39;49m))\n\u001b[0;32m      6\u001b[0m     loss \u001b[39m=\u001b[39m criterion(output, target)\n\u001b[0;32m      7\u001b[0m     loss\u001b[39m.\u001b[39mbackward()\n",
            "File \u001b[1;32mc:\\Users\\hawkp\\miniconda3\\envs\\agile\\lib\\site-packages\\torch\\nn\\modules\\module.py:1501\u001b[0m, in \u001b[0;36mModule._call_impl\u001b[1;34m(self, *args, **kwargs)\u001b[0m\n\u001b[0;32m   1496\u001b[0m \u001b[39m# If we don't have any hooks, we want to skip the rest of the logic in\u001b[39;00m\n\u001b[0;32m   1497\u001b[0m \u001b[39m# this function, and just call forward.\u001b[39;00m\n\u001b[0;32m   1498\u001b[0m \u001b[39mif\u001b[39;00m \u001b[39mnot\u001b[39;00m (\u001b[39mself\u001b[39m\u001b[39m.\u001b[39m_backward_hooks \u001b[39mor\u001b[39;00m \u001b[39mself\u001b[39m\u001b[39m.\u001b[39m_backward_pre_hooks \u001b[39mor\u001b[39;00m \u001b[39mself\u001b[39m\u001b[39m.\u001b[39m_forward_hooks \u001b[39mor\u001b[39;00m \u001b[39mself\u001b[39m\u001b[39m.\u001b[39m_forward_pre_hooks\n\u001b[0;32m   1499\u001b[0m         \u001b[39mor\u001b[39;00m _global_backward_pre_hooks \u001b[39mor\u001b[39;00m _global_backward_hooks\n\u001b[0;32m   1500\u001b[0m         \u001b[39mor\u001b[39;00m _global_forward_hooks \u001b[39mor\u001b[39;00m _global_forward_pre_hooks):\n\u001b[1;32m-> 1501\u001b[0m     \u001b[39mreturn\u001b[39;00m forward_call(\u001b[39m*\u001b[39margs, \u001b[39m*\u001b[39m\u001b[39m*\u001b[39mkwargs)\n\u001b[0;32m   1502\u001b[0m \u001b[39m# Do not call functions when jit is used\u001b[39;00m\n\u001b[0;32m   1503\u001b[0m full_backward_hooks, non_full_backward_hooks \u001b[39m=\u001b[39m [], []\n",
            "Cell \u001b[1;32mIn[34], line 13\u001b[0m, in \u001b[0;36mCNN_GRU.forward\u001b[1;34m(self, x)\u001b[0m\n\u001b[0;32m     11\u001b[0m out \u001b[39m=\u001b[39m F\u001b[39m.\u001b[39mrelu(\u001b[39mself\u001b[39m\u001b[39m.\u001b[39mconv1(x))\n\u001b[0;32m     12\u001b[0m out \u001b[39m=\u001b[39m F\u001b[39m.\u001b[39mrelu(\u001b[39mself\u001b[39m\u001b[39m.\u001b[39mconv2(out))\n\u001b[1;32m---> 13\u001b[0m out, _ \u001b[39m=\u001b[39m \u001b[39mself\u001b[39;49m\u001b[39m.\u001b[39;49mgru(out)\n\u001b[0;32m     14\u001b[0m out \u001b[39m=\u001b[39m \u001b[39mself\u001b[39m\u001b[39m.\u001b[39mfc(out[:, \u001b[39m-\u001b[39m\u001b[39m1\u001b[39m, :])\n\u001b[0;32m     15\u001b[0m \u001b[39mreturn\u001b[39;00m out\n",
            "File \u001b[1;32mc:\\Users\\hawkp\\miniconda3\\envs\\agile\\lib\\site-packages\\torch\\nn\\modules\\module.py:1501\u001b[0m, in \u001b[0;36mModule._call_impl\u001b[1;34m(self, *args, **kwargs)\u001b[0m\n\u001b[0;32m   1496\u001b[0m \u001b[39m# If we don't have any hooks, we want to skip the rest of the logic in\u001b[39;00m\n\u001b[0;32m   1497\u001b[0m \u001b[39m# this function, and just call forward.\u001b[39;00m\n\u001b[0;32m   1498\u001b[0m \u001b[39mif\u001b[39;00m \u001b[39mnot\u001b[39;00m (\u001b[39mself\u001b[39m\u001b[39m.\u001b[39m_backward_hooks \u001b[39mor\u001b[39;00m \u001b[39mself\u001b[39m\u001b[39m.\u001b[39m_backward_pre_hooks \u001b[39mor\u001b[39;00m \u001b[39mself\u001b[39m\u001b[39m.\u001b[39m_forward_hooks \u001b[39mor\u001b[39;00m \u001b[39mself\u001b[39m\u001b[39m.\u001b[39m_forward_pre_hooks\n\u001b[0;32m   1499\u001b[0m         \u001b[39mor\u001b[39;00m _global_backward_pre_hooks \u001b[39mor\u001b[39;00m _global_backward_hooks\n\u001b[0;32m   1500\u001b[0m         \u001b[39mor\u001b[39;00m _global_forward_hooks \u001b[39mor\u001b[39;00m _global_forward_pre_hooks):\n\u001b[1;32m-> 1501\u001b[0m     \u001b[39mreturn\u001b[39;00m forward_call(\u001b[39m*\u001b[39margs, \u001b[39m*\u001b[39m\u001b[39m*\u001b[39mkwargs)\n\u001b[0;32m   1502\u001b[0m \u001b[39m# Do not call functions when jit is used\u001b[39;00m\n\u001b[0;32m   1503\u001b[0m full_backward_hooks, non_full_backward_hooks \u001b[39m=\u001b[39m [], []\n",
            "File \u001b[1;32mc:\\Users\\hawkp\\miniconda3\\envs\\agile\\lib\\site-packages\\torch\\nn\\modules\\rnn.py:996\u001b[0m, in \u001b[0;36mGRU.forward\u001b[1;34m(self, input, hx)\u001b[0m\n\u001b[0;32m    991\u001b[0m \u001b[39melse\u001b[39;00m:\n\u001b[0;32m    992\u001b[0m     \u001b[39m# Each batch of the hidden state should match the input sequence that\u001b[39;00m\n\u001b[0;32m    993\u001b[0m     \u001b[39m# the user believes he/she is passing in.\u001b[39;00m\n\u001b[0;32m    994\u001b[0m     hx \u001b[39m=\u001b[39m \u001b[39mself\u001b[39m\u001b[39m.\u001b[39mpermute_hidden(hx, sorted_indices)\n\u001b[1;32m--> 996\u001b[0m \u001b[39mself\u001b[39;49m\u001b[39m.\u001b[39;49mcheck_forward_args(\u001b[39minput\u001b[39;49m, hx, batch_sizes)\n\u001b[0;32m    997\u001b[0m \u001b[39mif\u001b[39;00m batch_sizes \u001b[39mis\u001b[39;00m \u001b[39mNone\u001b[39;00m:\n\u001b[0;32m    998\u001b[0m     result \u001b[39m=\u001b[39m _VF\u001b[39m.\u001b[39mgru(\u001b[39minput\u001b[39m, hx, \u001b[39mself\u001b[39m\u001b[39m.\u001b[39m_flat_weights, \u001b[39mself\u001b[39m\u001b[39m.\u001b[39mbias, \u001b[39mself\u001b[39m\u001b[39m.\u001b[39mnum_layers,\n\u001b[0;32m    999\u001b[0m                      \u001b[39mself\u001b[39m\u001b[39m.\u001b[39mdropout, \u001b[39mself\u001b[39m\u001b[39m.\u001b[39mtraining, \u001b[39mself\u001b[39m\u001b[39m.\u001b[39mbidirectional, \u001b[39mself\u001b[39m\u001b[39m.\u001b[39mbatch_first)\n",
            "File \u001b[1;32mc:\\Users\\hawkp\\miniconda3\\envs\\agile\\lib\\site-packages\\torch\\nn\\modules\\rnn.py:253\u001b[0m, in \u001b[0;36mRNNBase.check_forward_args\u001b[1;34m(self, input, hidden, batch_sizes)\u001b[0m\n\u001b[0;32m    252\u001b[0m \u001b[39mdef\u001b[39;00m \u001b[39mcheck_forward_args\u001b[39m(\u001b[39mself\u001b[39m, \u001b[39minput\u001b[39m: Tensor, hidden: Tensor, batch_sizes: Optional[Tensor]):\n\u001b[1;32m--> 253\u001b[0m     \u001b[39mself\u001b[39;49m\u001b[39m.\u001b[39;49mcheck_input(\u001b[39minput\u001b[39;49m, batch_sizes)\n\u001b[0;32m    254\u001b[0m     expected_hidden_size \u001b[39m=\u001b[39m \u001b[39mself\u001b[39m\u001b[39m.\u001b[39mget_expected_hidden_size(\u001b[39minput\u001b[39m, batch_sizes)\n\u001b[0;32m    256\u001b[0m     \u001b[39mself\u001b[39m\u001b[39m.\u001b[39mcheck_hidden_size(hidden, expected_hidden_size)\n",
            "File \u001b[1;32mc:\\Users\\hawkp\\miniconda3\\envs\\agile\\lib\\site-packages\\torch\\nn\\modules\\rnn.py:218\u001b[0m, in \u001b[0;36mRNNBase.check_input\u001b[1;34m(self, input, batch_sizes)\u001b[0m\n\u001b[0;32m    214\u001b[0m     \u001b[39mraise\u001b[39;00m \u001b[39mRuntimeError\u001b[39;00m(\n\u001b[0;32m    215\u001b[0m         \u001b[39m'\u001b[39m\u001b[39minput must have \u001b[39m\u001b[39m{}\u001b[39;00m\u001b[39m dimensions, got \u001b[39m\u001b[39m{}\u001b[39;00m\u001b[39m'\u001b[39m\u001b[39m.\u001b[39mformat(\n\u001b[0;32m    216\u001b[0m             expected_input_dim, \u001b[39minput\u001b[39m\u001b[39m.\u001b[39mdim()))\n\u001b[0;32m    217\u001b[0m \u001b[39mif\u001b[39;00m \u001b[39mself\u001b[39m\u001b[39m.\u001b[39minput_size \u001b[39m!=\u001b[39m \u001b[39minput\u001b[39m\u001b[39m.\u001b[39msize(\u001b[39m-\u001b[39m\u001b[39m1\u001b[39m):\n\u001b[1;32m--> 218\u001b[0m     \u001b[39mraise\u001b[39;00m \u001b[39mRuntimeError\u001b[39;00m(\n\u001b[0;32m    219\u001b[0m         \u001b[39m'\u001b[39m\u001b[39minput.size(-1) must be equal to input_size. Expected \u001b[39m\u001b[39m{}\u001b[39;00m\u001b[39m, got \u001b[39m\u001b[39m{}\u001b[39;00m\u001b[39m'\u001b[39m\u001b[39m.\u001b[39mformat(\n\u001b[0;32m    220\u001b[0m             \u001b[39mself\u001b[39m\u001b[39m.\u001b[39minput_size, \u001b[39minput\u001b[39m\u001b[39m.\u001b[39msize(\u001b[39m-\u001b[39m\u001b[39m1\u001b[39m)))\n",
            "\u001b[1;31mRuntimeError\u001b[0m: input.size(-1) must be equal to input_size. Expected 100, got 96"
          ]
        }
      ],
      "source": [
        "# Train and test the CNN-GRU model\n",
        "print('Training CNN-GRU...')\n",
        "train(cnn_gru, optimizer_cnn_gru, criterion, train_loader)\n",
        "print('Testing CNN-GRU...')\n",
        "test(cnn_gru, criterion, test_loader)\n",
        "\n",
        "print('Evaluating CNN-GRU...')\n",
        "evaluate(cnn_gru, test_loader)"
      ]
    },
    {
      "cell_type": "code",
      "execution_count": 37,
      "id": "d2d17334",
      "metadata": {},
      "outputs": [
        {
          "name": "stdout",
          "output_type": "stream",
          "text": [
            "CNN-BiGRU Model: CNN_BiGRU(\n",
            "  (conv1): Conv1d(1, 50, kernel_size=(3,), stride=(1,))\n",
            "  (conv2): Conv1d(50, 100, kernel_size=(3,), stride=(1,))\n",
            "  (gru): GRU(100, 50, batch_first=True, bidirectional=True)\n",
            "  (fc): Linear(in_features=100, out_features=3, bias=True)\n",
            ")\n"
          ]
        }
      ],
      "source": [
        "# Define the CNN-BiGRU model\n",
        "class CNN_BiGRU(nn.Module):\n",
        "    def __init__(self, num_classes):\n",
        "        super(CNN_BiGRU, self).__init__()\n",
        "        self.conv1 = nn.Conv1d(1, 50, 3)\n",
        "        self.conv2 = nn.Conv1d(50, 100, 3)\n",
        "        self.gru = nn.GRU(100, 50, batch_first=True, bidirectional=True)\n",
        "        self.fc = nn.Linear(100, num_classes)\n",
        "        \n",
        "    def forward(self, x):\n",
        "        out = F.relu(self.conv1(x))\n",
        "        out = F.relu(self.conv2(out))\n",
        "        out, _ = self.gru(out)\n",
        "        out = self.fc(out[:, -1, :])\n",
        "        return out\n",
        "                                    \n",
        "# Initialize the model\n",
        "cnn_bigru = CNN_BiGRU(num_classes=3)\n",
        "\n",
        "# Print the model\n",
        "print('CNN-BiGRU Model:', cnn_bigru)"
      ]
    },
    {
      "cell_type": "code",
      "execution_count": 38,
      "id": "d1a9a265",
      "metadata": {},
      "outputs": [],
      "source": [
        "# Define the loss function and the optimizer\n",
        "criterion = nn.CrossEntropyLoss()\n",
        "optimizer_cnn_bigru = optim.Adam(cnn_bigru.parameters())"
      ]
    },
    {
      "cell_type": "code",
      "execution_count": 39,
      "id": "566c06ce",
      "metadata": {},
      "outputs": [
        {
          "name": "stdout",
          "output_type": "stream",
          "text": [
            "Training CNN-BiGRU...\n"
          ]
        },
        {
          "ename": "RuntimeError",
          "evalue": "input.size(-1) must be equal to input_size. Expected 100, got 96",
          "output_type": "error",
          "traceback": [
            "\u001b[1;31m---------------------------------------------------------------------------\u001b[0m",
            "\u001b[1;31mRuntimeError\u001b[0m                              Traceback (most recent call last)",
            "Cell \u001b[1;32mIn[39], line 3\u001b[0m\n\u001b[0;32m      1\u001b[0m \u001b[39m# Train and test the CNN-BiGRU model\u001b[39;00m\n\u001b[0;32m      2\u001b[0m \u001b[39mprint\u001b[39m(\u001b[39m'\u001b[39m\u001b[39mTraining CNN-BiGRU...\u001b[39m\u001b[39m'\u001b[39m)\n\u001b[1;32m----> 3\u001b[0m train(cnn_bigru, optimizer_cnn_bigru, criterion, train_loader)\n\u001b[0;32m      4\u001b[0m \u001b[39mprint\u001b[39m(\u001b[39m'\u001b[39m\u001b[39mTesting CNN-BiGRU...\u001b[39m\u001b[39m'\u001b[39m)\n\u001b[0;32m      5\u001b[0m test(cnn_bigru, criterion, test_loader)\n",
            "Cell \u001b[1;32mIn[9], line 5\u001b[0m, in \u001b[0;36mtrain\u001b[1;34m(model, optimizer, criterion, data_loader)\u001b[0m\n\u001b[0;32m      3\u001b[0m \u001b[39mfor\u001b[39;00m data, target \u001b[39min\u001b[39;00m data_loader:\n\u001b[0;32m      4\u001b[0m     optimizer\u001b[39m.\u001b[39mzero_grad()\n\u001b[1;32m----> 5\u001b[0m     output \u001b[39m=\u001b[39m model(data\u001b[39m.\u001b[39;49munsqueeze(\u001b[39m1\u001b[39;49m))\n\u001b[0;32m      6\u001b[0m     loss \u001b[39m=\u001b[39m criterion(output, target)\n\u001b[0;32m      7\u001b[0m     loss\u001b[39m.\u001b[39mbackward()\n",
            "File \u001b[1;32mc:\\Users\\hawkp\\miniconda3\\envs\\agile\\lib\\site-packages\\torch\\nn\\modules\\module.py:1501\u001b[0m, in \u001b[0;36mModule._call_impl\u001b[1;34m(self, *args, **kwargs)\u001b[0m\n\u001b[0;32m   1496\u001b[0m \u001b[39m# If we don't have any hooks, we want to skip the rest of the logic in\u001b[39;00m\n\u001b[0;32m   1497\u001b[0m \u001b[39m# this function, and just call forward.\u001b[39;00m\n\u001b[0;32m   1498\u001b[0m \u001b[39mif\u001b[39;00m \u001b[39mnot\u001b[39;00m (\u001b[39mself\u001b[39m\u001b[39m.\u001b[39m_backward_hooks \u001b[39mor\u001b[39;00m \u001b[39mself\u001b[39m\u001b[39m.\u001b[39m_backward_pre_hooks \u001b[39mor\u001b[39;00m \u001b[39mself\u001b[39m\u001b[39m.\u001b[39m_forward_hooks \u001b[39mor\u001b[39;00m \u001b[39mself\u001b[39m\u001b[39m.\u001b[39m_forward_pre_hooks\n\u001b[0;32m   1499\u001b[0m         \u001b[39mor\u001b[39;00m _global_backward_pre_hooks \u001b[39mor\u001b[39;00m _global_backward_hooks\n\u001b[0;32m   1500\u001b[0m         \u001b[39mor\u001b[39;00m _global_forward_hooks \u001b[39mor\u001b[39;00m _global_forward_pre_hooks):\n\u001b[1;32m-> 1501\u001b[0m     \u001b[39mreturn\u001b[39;00m forward_call(\u001b[39m*\u001b[39margs, \u001b[39m*\u001b[39m\u001b[39m*\u001b[39mkwargs)\n\u001b[0;32m   1502\u001b[0m \u001b[39m# Do not call functions when jit is used\u001b[39;00m\n\u001b[0;32m   1503\u001b[0m full_backward_hooks, non_full_backward_hooks \u001b[39m=\u001b[39m [], []\n",
            "Cell \u001b[1;32mIn[37], line 13\u001b[0m, in \u001b[0;36mCNN_BiGRU.forward\u001b[1;34m(self, x)\u001b[0m\n\u001b[0;32m     11\u001b[0m out \u001b[39m=\u001b[39m F\u001b[39m.\u001b[39mrelu(\u001b[39mself\u001b[39m\u001b[39m.\u001b[39mconv1(x))\n\u001b[0;32m     12\u001b[0m out \u001b[39m=\u001b[39m F\u001b[39m.\u001b[39mrelu(\u001b[39mself\u001b[39m\u001b[39m.\u001b[39mconv2(out))\n\u001b[1;32m---> 13\u001b[0m out, _ \u001b[39m=\u001b[39m \u001b[39mself\u001b[39;49m\u001b[39m.\u001b[39;49mgru(out)\n\u001b[0;32m     14\u001b[0m out \u001b[39m=\u001b[39m \u001b[39mself\u001b[39m\u001b[39m.\u001b[39mfc(out[:, \u001b[39m-\u001b[39m\u001b[39m1\u001b[39m, :])\n\u001b[0;32m     15\u001b[0m \u001b[39mreturn\u001b[39;00m out\n",
            "File \u001b[1;32mc:\\Users\\hawkp\\miniconda3\\envs\\agile\\lib\\site-packages\\torch\\nn\\modules\\module.py:1501\u001b[0m, in \u001b[0;36mModule._call_impl\u001b[1;34m(self, *args, **kwargs)\u001b[0m\n\u001b[0;32m   1496\u001b[0m \u001b[39m# If we don't have any hooks, we want to skip the rest of the logic in\u001b[39;00m\n\u001b[0;32m   1497\u001b[0m \u001b[39m# this function, and just call forward.\u001b[39;00m\n\u001b[0;32m   1498\u001b[0m \u001b[39mif\u001b[39;00m \u001b[39mnot\u001b[39;00m (\u001b[39mself\u001b[39m\u001b[39m.\u001b[39m_backward_hooks \u001b[39mor\u001b[39;00m \u001b[39mself\u001b[39m\u001b[39m.\u001b[39m_backward_pre_hooks \u001b[39mor\u001b[39;00m \u001b[39mself\u001b[39m\u001b[39m.\u001b[39m_forward_hooks \u001b[39mor\u001b[39;00m \u001b[39mself\u001b[39m\u001b[39m.\u001b[39m_forward_pre_hooks\n\u001b[0;32m   1499\u001b[0m         \u001b[39mor\u001b[39;00m _global_backward_pre_hooks \u001b[39mor\u001b[39;00m _global_backward_hooks\n\u001b[0;32m   1500\u001b[0m         \u001b[39mor\u001b[39;00m _global_forward_hooks \u001b[39mor\u001b[39;00m _global_forward_pre_hooks):\n\u001b[1;32m-> 1501\u001b[0m     \u001b[39mreturn\u001b[39;00m forward_call(\u001b[39m*\u001b[39margs, \u001b[39m*\u001b[39m\u001b[39m*\u001b[39mkwargs)\n\u001b[0;32m   1502\u001b[0m \u001b[39m# Do not call functions when jit is used\u001b[39;00m\n\u001b[0;32m   1503\u001b[0m full_backward_hooks, non_full_backward_hooks \u001b[39m=\u001b[39m [], []\n",
            "File \u001b[1;32mc:\\Users\\hawkp\\miniconda3\\envs\\agile\\lib\\site-packages\\torch\\nn\\modules\\rnn.py:996\u001b[0m, in \u001b[0;36mGRU.forward\u001b[1;34m(self, input, hx)\u001b[0m\n\u001b[0;32m    991\u001b[0m \u001b[39melse\u001b[39;00m:\n\u001b[0;32m    992\u001b[0m     \u001b[39m# Each batch of the hidden state should match the input sequence that\u001b[39;00m\n\u001b[0;32m    993\u001b[0m     \u001b[39m# the user believes he/she is passing in.\u001b[39;00m\n\u001b[0;32m    994\u001b[0m     hx \u001b[39m=\u001b[39m \u001b[39mself\u001b[39m\u001b[39m.\u001b[39mpermute_hidden(hx, sorted_indices)\n\u001b[1;32m--> 996\u001b[0m \u001b[39mself\u001b[39;49m\u001b[39m.\u001b[39;49mcheck_forward_args(\u001b[39minput\u001b[39;49m, hx, batch_sizes)\n\u001b[0;32m    997\u001b[0m \u001b[39mif\u001b[39;00m batch_sizes \u001b[39mis\u001b[39;00m \u001b[39mNone\u001b[39;00m:\n\u001b[0;32m    998\u001b[0m     result \u001b[39m=\u001b[39m _VF\u001b[39m.\u001b[39mgru(\u001b[39minput\u001b[39m, hx, \u001b[39mself\u001b[39m\u001b[39m.\u001b[39m_flat_weights, \u001b[39mself\u001b[39m\u001b[39m.\u001b[39mbias, \u001b[39mself\u001b[39m\u001b[39m.\u001b[39mnum_layers,\n\u001b[0;32m    999\u001b[0m                      \u001b[39mself\u001b[39m\u001b[39m.\u001b[39mdropout, \u001b[39mself\u001b[39m\u001b[39m.\u001b[39mtraining, \u001b[39mself\u001b[39m\u001b[39m.\u001b[39mbidirectional, \u001b[39mself\u001b[39m\u001b[39m.\u001b[39mbatch_first)\n",
            "File \u001b[1;32mc:\\Users\\hawkp\\miniconda3\\envs\\agile\\lib\\site-packages\\torch\\nn\\modules\\rnn.py:253\u001b[0m, in \u001b[0;36mRNNBase.check_forward_args\u001b[1;34m(self, input, hidden, batch_sizes)\u001b[0m\n\u001b[0;32m    252\u001b[0m \u001b[39mdef\u001b[39;00m \u001b[39mcheck_forward_args\u001b[39m(\u001b[39mself\u001b[39m, \u001b[39minput\u001b[39m: Tensor, hidden: Tensor, batch_sizes: Optional[Tensor]):\n\u001b[1;32m--> 253\u001b[0m     \u001b[39mself\u001b[39;49m\u001b[39m.\u001b[39;49mcheck_input(\u001b[39minput\u001b[39;49m, batch_sizes)\n\u001b[0;32m    254\u001b[0m     expected_hidden_size \u001b[39m=\u001b[39m \u001b[39mself\u001b[39m\u001b[39m.\u001b[39mget_expected_hidden_size(\u001b[39minput\u001b[39m, batch_sizes)\n\u001b[0;32m    256\u001b[0m     \u001b[39mself\u001b[39m\u001b[39m.\u001b[39mcheck_hidden_size(hidden, expected_hidden_size)\n",
            "File \u001b[1;32mc:\\Users\\hawkp\\miniconda3\\envs\\agile\\lib\\site-packages\\torch\\nn\\modules\\rnn.py:218\u001b[0m, in \u001b[0;36mRNNBase.check_input\u001b[1;34m(self, input, batch_sizes)\u001b[0m\n\u001b[0;32m    214\u001b[0m     \u001b[39mraise\u001b[39;00m \u001b[39mRuntimeError\u001b[39;00m(\n\u001b[0;32m    215\u001b[0m         \u001b[39m'\u001b[39m\u001b[39minput must have \u001b[39m\u001b[39m{}\u001b[39;00m\u001b[39m dimensions, got \u001b[39m\u001b[39m{}\u001b[39;00m\u001b[39m'\u001b[39m\u001b[39m.\u001b[39mformat(\n\u001b[0;32m    216\u001b[0m             expected_input_dim, \u001b[39minput\u001b[39m\u001b[39m.\u001b[39mdim()))\n\u001b[0;32m    217\u001b[0m \u001b[39mif\u001b[39;00m \u001b[39mself\u001b[39m\u001b[39m.\u001b[39minput_size \u001b[39m!=\u001b[39m \u001b[39minput\u001b[39m\u001b[39m.\u001b[39msize(\u001b[39m-\u001b[39m\u001b[39m1\u001b[39m):\n\u001b[1;32m--> 218\u001b[0m     \u001b[39mraise\u001b[39;00m \u001b[39mRuntimeError\u001b[39;00m(\n\u001b[0;32m    219\u001b[0m         \u001b[39m'\u001b[39m\u001b[39minput.size(-1) must be equal to input_size. Expected \u001b[39m\u001b[39m{}\u001b[39;00m\u001b[39m, got \u001b[39m\u001b[39m{}\u001b[39;00m\u001b[39m'\u001b[39m\u001b[39m.\u001b[39mformat(\n\u001b[0;32m    220\u001b[0m             \u001b[39mself\u001b[39m\u001b[39m.\u001b[39minput_size, \u001b[39minput\u001b[39m\u001b[39m.\u001b[39msize(\u001b[39m-\u001b[39m\u001b[39m1\u001b[39m)))\n",
            "\u001b[1;31mRuntimeError\u001b[0m: input.size(-1) must be equal to input_size. Expected 100, got 96"
          ]
        }
      ],
      "source": [
        "# Train and test the CNN-BiGRU model\n",
        "print('Training CNN-BiGRU...')\n",
        "train(cnn_bigru, optimizer_cnn_bigru, criterion, train_loader)\n",
        "print('Testing CNN-BiGRU...')\n",
        "test(cnn_bigru, criterion, test_loader)\n",
        "\n",
        "print('Evaluating CNN-BiGRU...')\n",
        "evaluate(cnn_bigru, test_loader)"
      ]
    },
    {
      "cell_type": "code",
      "execution_count": null,
      "id": "2164281d",
      "metadata": {},
      "outputs": [],
      "source": [
        "# Define the CNN-LSTM-GRU model\n",
        "class CNN_LSTM_GRU(nn.Module):\n",
        "    def __init__(self, num_classes):\n",
        "        super(CNN_LSTM_GRU, self).__init__()\n",
        "        self.conv1 = nn.Conv1d(1, 50, 3)\n",
        "        self.conv2 = nn.Conv1d(50, 100, 3)\n",
        "        self.lstm = nn.LSTM(100, 50, batch_first=True)\n",
        "        self.gru = nn.GRU(50, 50, batch_first=True)\n",
        "        self.fc = nn.Linear(50, num_classes)\n",
        "        \n",
        "    def forward(self, x):\n",
        "        out = F.relu(self.conv1(x))\n",
        "        out = F.relu(self.conv2(out))\n",
        "        out, _ = self.lstm(out)\n",
        "        out, _ = self.gru(out)\n",
        "        out = self.fc(out[:, -1, :])\n",
        "        return out\n",
        "                                            \n",
        "# Initialize the model\n",
        "cnn_lstm_gru = CNN_LSTM_GRU(num_classes=3)\n",
        "\n",
        "# Print the model\n",
        "print('CNN-LSTM-GRU Model:', cnn_lstm_gru)"
      ]
    },
    {
      "cell_type": "code",
      "execution_count": null,
      "id": "57f8ba7f",
      "metadata": {},
      "outputs": [],
      "source": [
        "# Define the loss function and the optimizer\n",
        "criterion = nn.CrossEntropyLoss()\n",
        "optimizer_cnn_lstm_gru = optim.Adam(cnn_lstm_gru.parameters())"
      ]
    },
    {
      "cell_type": "code",
      "execution_count": null,
      "id": "1696e479",
      "metadata": {},
      "outputs": [],
      "source": [
        "# Train and test the CNN-LSTM-GRU model\n",
        "print('Training CNN-LSTM-GRU...')\n",
        "train(cnn_lstm_gru, optimizer_cnn_lstm_gru, criterion, train_loader)\n",
        "\n",
        "print('Testing CNN-LSTM-GRU...')\n",
        "test(cnn_lstm_gru, criterion, test_loader)\n",
        "\n",
        "print('Evaluating CNN-LSTM-GRU...')\n",
        "evaluate(cnn_lstm_gru, test_loader)"
      ]
    },
    {
      "cell_type": "code",
      "execution_count": null,
      "id": "9f418b97",
      "metadata": {},
      "outputs": [],
      "source": [
        "# Define the CNN-LSTM-BiGRU model\n",
        "class CNN_LSTM_BiGRU(nn.Module):\n",
        "    def __init__(self, num_classes):\n",
        "        super(CNN_LSTM_BiGRU, self).__init__()\n",
        "        self.conv1 = nn.Conv1d(1, 50, 3)\n",
        "        self.conv2 = nn.Conv1d(50, 100, 3)\n",
        "        self.lstm = nn.LSTM(100, 50, batch_first=True)\n",
        "        self.gru = nn.GRU(50, 50, batch_first=True, bidirectional=True)\n",
        "        self.fc = nn.Linear(100, num_classes)\n",
        "        \n",
        "    def forward(self, x):\n",
        "        out = F.relu(self.conv1(x))\n",
        "        out = F.relu(self.conv2(out))\n",
        "        out, _ = self.lstm(out)\n",
        "        out, _ = self.gru(out)\n",
        "        out = self.fc(out[:, -1, :])\n",
        "        return out}\n",
        "                                                    \n",
        "# Initialize the model\n",
        "cnn_lstm_bigru = CNN_LSTM_BiGRU(num_classes=3)\n",
        "\n",
        "# Print the model\n",
        "print('CNN-LSTM-BiGRU Model:', cnn_lstm_bigru)"
      ]
    },
    {
      "cell_type": "code",
      "execution_count": null,
      "id": "ad7572bd",
      "metadata": {},
      "outputs": [],
      "source": [
        "# Define the loss function and the optimizer\n",
        "criterion = nn.CrossEntropyLoss()\n",
        "optimizer_cnn_lstm_bigru = optim.Adam(cnn_lstm_bigru.parameters())"
      ]
    },
    {
      "cell_type": "code",
      "execution_count": null,
      "id": "47aa13bc",
      "metadata": {},
      "outputs": [],
      "source": [
        "# Train and test the CNN-LSTM-BiGRU model\n",
        "print('Training CNN-LSTM-BiGRU...')\n",
        "train(cnn_lstm_bigru, optimizer_cnn_lstm_bigru, criterion, train_loader)\n",
        "\n",
        "print('Testing CNN-LSTM-BiGRU...')\n",
        "test(cnn_lstm_bigru, criterion, test_loader)\n",
        "print('Evaluating CNN-LSTM-BiGRU...')\n",
        "evaluate(cnn_lstm_bigru, test_loader)"
      ]
    },
    {
      "cell_type": "code",
      "execution_count": null,
      "id": "0777f6dd",
      "metadata": {},
      "outputs": [],
      "source": [
        "# Define the CNN-BiLSTM-GRU model\n",
        "class CNN_BiLSTM_GRU(nn.Module):\n",
        "    def __init__(self, num_classes):\n",
        "        super(CNN_BiLSTM_GRU, self).__init__()\n",
        "        self.conv1 = nn.Conv1d(1, 50, 3)\n",
        "        self.conv2 = nn.Conv1d(50, 100, 3)\n",
        "        self.lstm = nn.LSTM(100, 50, batch_first=True, bidirectional=True)\n",
        "        self.gru = nn.GRU(100, 50, batch_first=True)\n",
        "        self.fc = nn.Linear(100, num_classes)\n",
        "        \n",
        "    def forward(self, x):\n",
        "        out = F.relu(self.conv1(x))\n",
        "        out = F.relu(self.conv2(out))\n",
        "        out, _ = self.lstm(out)\n",
        "        out, _ = self.gru(out)\n",
        "        out = self.fc(out[:, -1, :])\n",
        "        return out\n",
        "                                                            \n",
        "# Initialize the model\n",
        "cnn_bilstm_gru = CNN_BiLSTM_GRU(num_classes=3)\n",
        "\n",
        "# Print the model\n",
        "print('CNN-BiLSTM-GRU Model:', cnn_bilstm_gru)"
      ]
    },
    {
      "cell_type": "code",
      "execution_count": null,
      "id": "deeb788b",
      "metadata": {},
      "outputs": [],
      "source": [
        "# Define the loss function and the optimizer\n",
        "criterion = nn.CrossEntropyLoss()\n",
        "optimizer_cnn_bilstm_gru = optim.Adam(cnn_bilstm_gru.parameters())"
      ]
    },
    {
      "cell_type": "code",
      "execution_count": null,
      "id": "36c4d021",
      "metadata": {},
      "outputs": [],
      "source": [
        "# Train and test the CNN-BiLSTM-GRU model\n",
        "print('Training CNN-BiLSTM-GRU...')\n",
        "train(cnn_bilstm_gru, optimizer_cnn_bilstm_gru, criterion, train_loader)\n",
        "\n",
        "print('Testing CNN-BiLSTM-GRU...')\n",
        "test(cnn_bilstm_gru, criterion, test_loader)\n",
        "\n",
        "print('Evaluating CNN-BiLSTM-GRU...')\n",
        "evaluate(cnn_bilstm_gru, test_loader)"
      ]
    },
    {
      "cell_type": "code",
      "execution_count": null,
      "id": "5bc787ab",
      "metadata": {},
      "outputs": [],
      "source": [
        "# Define the CNN-BiLSTM-BiGRU model\n",
        "class CNN_BiLSTM_BiGRU(nn.Module):                                               \n",
        "    def __init__(self, num_classes):\n",
        "        super(CNN_BiLSTM_BiGRU, self).__init__()\n",
        "        self.conv1 = nn.Conv1d(1, 50, 3)\n",
        "        self.conv2 = nn.Conv1d(50, 100, 3)\n",
        "        self.lstm = nn.LSTM(100, 50, batch_first=True, bidirectional=True)\n",
        "        self.gru = nn.GRU(100, 50, batch_first=True, bidirectional=True)\n",
        "        self.fc = nn.Linear(100, num_classes)\n",
        "        \n",
        "    def forward(self, x):\n",
        "        out = F.relu(self.conv1(x))\n",
        "        out = F.relu(self.conv2(out))\n",
        "        out, _ = self.lstm(out)\n",
        "        out, _ = self.gru(out)\n",
        "        out = self.fc(out[:, -1, :])\n",
        "        return out\n",
        "                                                                        \n",
        "# Initialize the model\n",
        "cnn_bilstm_bigru = CNN_BiLSTM_BiGRU(num_classes=3)\n",
        "\n",
        "# Print the model\n",
        "print('CNN-BiLSTM-BiGRU Model:', cnn_bilstm_bigru)"
      ]
    },
    {
      "cell_type": "code",
      "execution_count": null,
      "id": "7f3257ca",
      "metadata": {},
      "outputs": [],
      "source": [
        "# Define the loss function and the optimizer\n",
        "criterion = nn.CrossEntropyLoss()\n",
        "optimizer_cnn_bilstm_bigru = optim.Adam(cnn_bilstm_bigru.parameters())"
      ]
    },
    {
      "cell_type": "code",
      "execution_count": null,
      "id": "1bb34e1d",
      "metadata": {},
      "outputs": [],
      "source": [
        "# Train and test the CNN-BiLSTM-BiGRU model\n",
        "print('Training CNN-BiLSTM-BiGRU...')\n",
        "train(cnn_bilstm_bigru, optimizer_cnn_bilstm_bigru, criterion, train_loader)\n",
        "\n",
        "print('Testing CNN-BiLSTM-BiGRU...')\n",
        "test(cnn_bilstm_bigru, criterion, test_loader)\n",
        "\n",
        "print('Evaluating CNN-BiLSTM-BiGRU...')\n",
        "evaluate(cnn_bilstm_bigru, test_loader)"
      ]
    },
    {
      "cell_type": "code",
      "execution_count": null,
      "id": "607e47c4",
      "metadata": {},
      "outputs": [],
      "source": []
    },
    {
      "cell_type": "code",
      "execution_count": null,
      "id": "fa5d61ce",
      "metadata": {},
      "outputs": [],
      "source": []
    },
    {
      "cell_type": "code",
      "execution_count": null,
      "id": "466e31bf",
      "metadata": {},
      "outputs": [],
      "source": []
    }
  ],
  "metadata": {
    "display_mode": "fullwidth",
    "kernelspec": {
      "display_name": "agile",
      "language": "python",
      "name": "python3"
    },
    "language_info": {
      "codemirror_mode": {
        "name": "ipython",
        "version": 3
      },
      "file_extension": ".py",
      "mimetype": "text/x-python",
      "name": "python",
      "nbconvert_exporter": "python",
      "pygments_lexer": "ipython3",
      "version": "3.9.16"
    },
    "noteable": {
      "last_delta_id": "489ae913-0bbe-49b2-b5a8-544b50fe8b81",
      "last_transaction_id": "c6e261fb-631d-41a6-8201-c813c78bc17a"
    },
    "noteable-chatgpt": {
      "create_notebook": {
        "openai_conversation_id": "57214764-b08b-55fd-a9fd-60be8cff3396",
        "openai_ephemeral_user_id": "1d106fcd-1a1f-5059-946b-a8f2a73579d6"
      }
    },
    "nteract": {
      "version": "noteable@2.9.0"
    },
    "selected_hardware_size": "small"
  },
  "nbformat": 4,
  "nbformat_minor": 5
}
