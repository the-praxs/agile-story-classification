{
  "cells": [
    {
      "cell_type": "code",
      "execution_count": 37,
      "id": "ba7de569",
      "metadata": {},
      "outputs": [],
      "source": [
        "DATA_DIR = \"datasets/raw_orig\"\n",
        "DATA_FILE = f\"{DATA_DIR}/all_datasets.csv\"\n",
        "\n",
        "MODEL_DIR = \"models\"\n",
        "FASTTEXT_MODEL_DIR = f\"{MODEL_DIR}/fasttext\""
      ]
    },
    {
      "cell_type": "code",
      "execution_count": 38,
      "id": "d3fe72db-512e-4bd8-8173-9eff1cb1f33a",
      "metadata": {
        "ExecuteTime": {
          "end_time": "2023-05-16T16:51:13.045787+00:00",
          "start_time": "2023-05-16T16:51:08.692258+00:00"
        },
        "datalink": {
          "241272ed-c711-4c07-8f7b-b40b9a775865": {
            "applied_filters": [],
            "dataframe_info": {
              "default_index_used": true,
              "orig_num_cols": 4,
              "orig_num_rows": 23327,
              "orig_size_bytes": 746592,
              "truncated_num_cols": 4,
              "truncated_num_rows": 23327,
              "truncated_size_bytes": 746592,
              "truncated_string_columns": [
                "description"
              ]
            },
            "display_id": "241272ed-c711-4c07-8f7b-b40b9a775865",
            "dx_settings": {
              "ALLOW_NOTEABLE_ATTRS": true,
              "COLUMN_SAMPLING_METHOD": "outer",
              "DB_LOCATION": ":memory:",
              "DEV_MODE": false,
              "DISPLAY_MAX_COLUMNS": 100,
              "DISPLAY_MAX_ROWS": 50000,
              "DISPLAY_MODE": "simple",
              "ENABLE_ASSIGNMENT": true,
              "ENABLE_DATALINK": true,
              "FLATTEN_COLUMN_VALUES": true,
              "FLATTEN_INDEX_VALUES": false,
              "GENERATE_DEX_METADATA": false,
              "HTML_TABLE_SCHEMA": false,
              "LOG_LEVEL": 30,
              "MAX_RENDER_SIZE_BYTES": 104857600,
              "MAX_STRING_LENGTH": 250,
              "NUM_PAST_SAMPLES_TRACKED": 3,
              "RANDOM_STATE": 12648430,
              "RESET_INDEX_VALUES": false,
              "ROW_SAMPLING_METHOD": "random",
              "SAMPLING_FACTOR": 0.1,
              "SAMPLING_METHOD": "random",
              "STRINGIFY_COLUMN_VALUES": true,
              "STRINGIFY_INDEX_VALUES": false
            },
            "sample_history": [],
            "sampling_time": "2023-05-15T19:17:11.005098",
            "user_variable_name": "df",
            "variable_name": "df"
          },
          "4a648e53-1d1a-4d8f-a912-14e02ad0885c": {
            "applied_filters": [],
            "dataframe_info": {
              "default_index_used": true,
              "orig_num_cols": 4,
              "orig_num_rows": 23327,
              "orig_size_bytes": 746592,
              "truncated_num_cols": 4,
              "truncated_num_rows": 23327,
              "truncated_size_bytes": 746592,
              "truncated_string_columns": [
                "description"
              ]
            },
            "display_id": "4a648e53-1d1a-4d8f-a912-14e02ad0885c",
            "dx_settings": {
              "ALLOW_NOTEABLE_ATTRS": true,
              "COLUMN_SAMPLING_METHOD": "outer",
              "DB_LOCATION": ":memory:",
              "DEV_MODE": false,
              "DISPLAY_MAX_COLUMNS": 100,
              "DISPLAY_MAX_ROWS": 50000,
              "DISPLAY_MODE": "simple",
              "ENABLE_ASSIGNMENT": true,
              "ENABLE_DATALINK": true,
              "FLATTEN_COLUMN_VALUES": true,
              "FLATTEN_INDEX_VALUES": false,
              "GENERATE_DEX_METADATA": false,
              "HTML_TABLE_SCHEMA": false,
              "LOG_LEVEL": 30,
              "MAX_RENDER_SIZE_BYTES": 104857600,
              "MAX_STRING_LENGTH": 250,
              "NUM_PAST_SAMPLES_TRACKED": 3,
              "RANDOM_STATE": 12648430,
              "RESET_INDEX_VALUES": false,
              "ROW_SAMPLING_METHOD": "random",
              "SAMPLING_FACTOR": 0.1,
              "SAMPLING_METHOD": "random",
              "STRINGIFY_COLUMN_VALUES": true,
              "STRINGIFY_INDEX_VALUES": false
            },
            "sample_history": [],
            "sampling_time": "2023-05-16T10:09:19.009177",
            "user_variable_name": "df",
            "variable_name": "df"
          },
          "831b3279-5c1d-4510-b867-e674de35cf14": {
            "applied_filters": [],
            "dataframe_info": {
              "default_index_used": true,
              "orig_num_cols": 4,
              "orig_num_rows": 23327,
              "orig_size_bytes": 746592,
              "truncated_num_cols": 4,
              "truncated_num_rows": 23327,
              "truncated_size_bytes": 746592,
              "truncated_string_columns": [
                "description"
              ]
            },
            "display_id": "831b3279-5c1d-4510-b867-e674de35cf14",
            "dx_settings": {
              "ALLOW_NOTEABLE_ATTRS": true,
              "COLUMN_SAMPLING_METHOD": "outer",
              "DB_LOCATION": ":memory:",
              "DEV_MODE": false,
              "DISPLAY_MAX_COLUMNS": 100,
              "DISPLAY_MAX_ROWS": 50000,
              "DISPLAY_MODE": "simple",
              "ENABLE_ASSIGNMENT": true,
              "ENABLE_DATALINK": true,
              "FLATTEN_COLUMN_VALUES": true,
              "FLATTEN_INDEX_VALUES": false,
              "GENERATE_DEX_METADATA": false,
              "HTML_TABLE_SCHEMA": false,
              "LOG_LEVEL": 30,
              "MAX_RENDER_SIZE_BYTES": 104857600,
              "MAX_STRING_LENGTH": 250,
              "NUM_PAST_SAMPLES_TRACKED": 3,
              "RANDOM_STATE": 12648430,
              "RESET_INDEX_VALUES": false,
              "ROW_SAMPLING_METHOD": "random",
              "SAMPLING_FACTOR": 0.1,
              "SAMPLING_METHOD": "random",
              "STRINGIFY_COLUMN_VALUES": true,
              "STRINGIFY_INDEX_VALUES": false
            },
            "sample_history": [],
            "sampling_time": "2023-05-16T08:56:22.008067",
            "user_variable_name": "df",
            "variable_name": "df"
          },
          "8a067880-d2ab-4f07-8967-89eee37f6d06": {
            "applied_filters": [],
            "dataframe_info": {
              "default_index_used": true,
              "orig_num_cols": 4,
              "orig_num_rows": 23327,
              "orig_size_bytes": 746592,
              "truncated_num_cols": 4,
              "truncated_num_rows": 23327,
              "truncated_size_bytes": 746592,
              "truncated_string_columns": [
                "description"
              ]
            },
            "display_id": "8a067880-d2ab-4f07-8967-89eee37f6d06",
            "dx_settings": {
              "ALLOW_NOTEABLE_ATTRS": true,
              "COLUMN_SAMPLING_METHOD": "outer",
              "DB_LOCATION": ":memory:",
              "DEV_MODE": false,
              "DISPLAY_MAX_COLUMNS": 100,
              "DISPLAY_MAX_ROWS": 50000,
              "DISPLAY_MODE": "simple",
              "ENABLE_ASSIGNMENT": true,
              "ENABLE_DATALINK": true,
              "FLATTEN_COLUMN_VALUES": true,
              "FLATTEN_INDEX_VALUES": false,
              "GENERATE_DEX_METADATA": false,
              "HTML_TABLE_SCHEMA": false,
              "LOG_LEVEL": 30,
              "MAX_RENDER_SIZE_BYTES": 104857600,
              "MAX_STRING_LENGTH": 250,
              "NUM_PAST_SAMPLES_TRACKED": 3,
              "RANDOM_STATE": 12648430,
              "RESET_INDEX_VALUES": false,
              "ROW_SAMPLING_METHOD": "random",
              "SAMPLING_FACTOR": 0.1,
              "SAMPLING_METHOD": "random",
              "STRINGIFY_COLUMN_VALUES": true,
              "STRINGIFY_INDEX_VALUES": false
            },
            "sample_history": [],
            "sampling_time": "2023-05-16T16:51:12.723306",
            "user_variable_name": "df",
            "variable_name": "df"
          },
          "ca7f9962-cef0-4415-b8fb-8786dc450fbd": {
            "applied_filters": [],
            "dataframe_info": {
              "default_index_used": true,
              "orig_num_cols": 4,
              "orig_num_rows": 23327,
              "orig_size_bytes": 746592,
              "truncated_num_cols": 4,
              "truncated_num_rows": 23327,
              "truncated_size_bytes": 746592,
              "truncated_string_columns": [
                "description"
              ]
            },
            "display_id": "ca7f9962-cef0-4415-b8fb-8786dc450fbd",
            "dx_settings": {
              "ALLOW_NOTEABLE_ATTRS": true,
              "COLUMN_SAMPLING_METHOD": "outer",
              "DB_LOCATION": ":memory:",
              "DEV_MODE": false,
              "DISPLAY_MAX_COLUMNS": 100,
              "DISPLAY_MAX_ROWS": 50000,
              "DISPLAY_MODE": "simple",
              "ENABLE_ASSIGNMENT": true,
              "ENABLE_DATALINK": true,
              "FLATTEN_COLUMN_VALUES": true,
              "FLATTEN_INDEX_VALUES": false,
              "GENERATE_DEX_METADATA": false,
              "HTML_TABLE_SCHEMA": false,
              "LOG_LEVEL": 30,
              "MAX_RENDER_SIZE_BYTES": 104857600,
              "MAX_STRING_LENGTH": 250,
              "NUM_PAST_SAMPLES_TRACKED": 3,
              "RANDOM_STATE": 12648430,
              "RESET_INDEX_VALUES": false,
              "ROW_SAMPLING_METHOD": "random",
              "SAMPLING_FACTOR": 0.1,
              "SAMPLING_METHOD": "random",
              "STRINGIFY_COLUMN_VALUES": true,
              "STRINGIFY_INDEX_VALUES": false
            },
            "sample_history": [],
            "sampling_time": "2023-05-16T14:49:39.986847",
            "user_variable_name": "df",
            "variable_name": "df"
          },
          "cae40805-958a-45b8-a962-0abedf3ed1c3": {
            "applied_filters": [],
            "dataframe_info": {
              "default_index_used": true,
              "orig_num_cols": 4,
              "orig_num_rows": 23327,
              "orig_size_bytes": 746592,
              "truncated_num_cols": 4,
              "truncated_num_rows": 23327,
              "truncated_size_bytes": 746592,
              "truncated_string_columns": [
                "description"
              ]
            },
            "display_id": "cae40805-958a-45b8-a962-0abedf3ed1c3",
            "dx_settings": {
              "ALLOW_NOTEABLE_ATTRS": true,
              "COLUMN_SAMPLING_METHOD": "outer",
              "DB_LOCATION": ":memory:",
              "DEV_MODE": false,
              "DISPLAY_MAX_COLUMNS": 100,
              "DISPLAY_MAX_ROWS": 50000,
              "DISPLAY_MODE": "simple",
              "ENABLE_ASSIGNMENT": true,
              "ENABLE_DATALINK": true,
              "FLATTEN_COLUMN_VALUES": true,
              "FLATTEN_INDEX_VALUES": false,
              "GENERATE_DEX_METADATA": false,
              "HTML_TABLE_SCHEMA": false,
              "LOG_LEVEL": 30,
              "MAX_RENDER_SIZE_BYTES": 104857600,
              "MAX_STRING_LENGTH": 250,
              "NUM_PAST_SAMPLES_TRACKED": 3,
              "RANDOM_STATE": 12648430,
              "RESET_INDEX_VALUES": false,
              "ROW_SAMPLING_METHOD": "random",
              "SAMPLING_FACTOR": 0.1,
              "SAMPLING_METHOD": "random",
              "STRINGIFY_COLUMN_VALUES": true,
              "STRINGIFY_INDEX_VALUES": false
            },
            "sample_history": [],
            "sampling_time": "2023-05-16T14:15:47.039721",
            "user_variable_name": "df",
            "variable_name": "df"
          },
          "ed1784d8-cad0-4b22-a867-5ec74f4a3a6a": {
            "applied_filters": [],
            "dataframe_info": {
              "default_index_used": true,
              "orig_num_cols": 4,
              "orig_num_rows": 23327,
              "orig_size_bytes": 746592,
              "truncated_num_cols": 4,
              "truncated_num_rows": 23327,
              "truncated_size_bytes": 746592,
              "truncated_string_columns": [
                "description"
              ]
            },
            "display_id": "ed1784d8-cad0-4b22-a867-5ec74f4a3a6a",
            "dx_settings": {
              "ALLOW_NOTEABLE_ATTRS": true,
              "COLUMN_SAMPLING_METHOD": "outer",
              "DB_LOCATION": ":memory:",
              "DEV_MODE": false,
              "DISPLAY_MAX_COLUMNS": 100,
              "DISPLAY_MAX_ROWS": 50000,
              "DISPLAY_MODE": "simple",
              "ENABLE_ASSIGNMENT": true,
              "ENABLE_DATALINK": true,
              "FLATTEN_COLUMN_VALUES": true,
              "FLATTEN_INDEX_VALUES": false,
              "GENERATE_DEX_METADATA": false,
              "HTML_TABLE_SCHEMA": false,
              "LOG_LEVEL": 30,
              "MAX_RENDER_SIZE_BYTES": 104857600,
              "MAX_STRING_LENGTH": 250,
              "NUM_PAST_SAMPLES_TRACKED": 3,
              "RANDOM_STATE": 12648430,
              "RESET_INDEX_VALUES": false,
              "ROW_SAMPLING_METHOD": "random",
              "SAMPLING_FACTOR": 0.1,
              "SAMPLING_METHOD": "random",
              "STRINGIFY_COLUMN_VALUES": true,
              "STRINGIFY_INDEX_VALUES": false
            },
            "sample_history": [],
            "sampling_time": "2023-05-16T14:45:36.375844",
            "user_variable_name": "df",
            "variable_name": "df"
          },
          "f192e2d7-2bf5-47af-8938-e93090b6360b": {
            "applied_filters": [],
            "dataframe_info": {
              "default_index_used": true,
              "orig_num_cols": 4,
              "orig_num_rows": 23327,
              "orig_size_bytes": 746592,
              "truncated_num_cols": 4,
              "truncated_num_rows": 23327,
              "truncated_size_bytes": 746592,
              "truncated_string_columns": [
                "description"
              ]
            },
            "display_id": "f192e2d7-2bf5-47af-8938-e93090b6360b",
            "dx_settings": {
              "ALLOW_NOTEABLE_ATTRS": true,
              "COLUMN_SAMPLING_METHOD": "outer",
              "DB_LOCATION": ":memory:",
              "DEV_MODE": false,
              "DISPLAY_MAX_COLUMNS": 100,
              "DISPLAY_MAX_ROWS": 50000,
              "DISPLAY_MODE": "simple",
              "ENABLE_ASSIGNMENT": true,
              "ENABLE_DATALINK": true,
              "FLATTEN_COLUMN_VALUES": true,
              "FLATTEN_INDEX_VALUES": false,
              "GENERATE_DEX_METADATA": false,
              "HTML_TABLE_SCHEMA": false,
              "LOG_LEVEL": 30,
              "MAX_RENDER_SIZE_BYTES": 104857600,
              "MAX_STRING_LENGTH": 250,
              "NUM_PAST_SAMPLES_TRACKED": 3,
              "RANDOM_STATE": 12648430,
              "RESET_INDEX_VALUES": false,
              "ROW_SAMPLING_METHOD": "random",
              "SAMPLING_FACTOR": 0.1,
              "SAMPLING_METHOD": "random",
              "STRINGIFY_COLUMN_VALUES": true,
              "STRINGIFY_INDEX_VALUES": false
            },
            "sample_history": [],
            "sampling_time": "2023-05-16T09:02:14.806280",
            "user_variable_name": "df",
            "variable_name": "df"
          },
          "fb505370-4e58-47db-a25b-779d39dd2872": {
            "applied_filters": [],
            "dataframe_info": {
              "default_index_used": true,
              "orig_num_cols": 4,
              "orig_num_rows": 23327,
              "orig_size_bytes": 746592,
              "truncated_num_cols": 4,
              "truncated_num_rows": 23327,
              "truncated_size_bytes": 746592,
              "truncated_string_columns": [
                "description"
              ]
            },
            "display_id": "fb505370-4e58-47db-a25b-779d39dd2872",
            "dx_settings": {
              "ALLOW_NOTEABLE_ATTRS": true,
              "COLUMN_SAMPLING_METHOD": "outer",
              "DB_LOCATION": ":memory:",
              "DEV_MODE": false,
              "DISPLAY_MAX_COLUMNS": 100,
              "DISPLAY_MAX_ROWS": 50000,
              "DISPLAY_MODE": "simple",
              "ENABLE_ASSIGNMENT": true,
              "ENABLE_DATALINK": true,
              "FLATTEN_COLUMN_VALUES": true,
              "FLATTEN_INDEX_VALUES": false,
              "GENERATE_DEX_METADATA": false,
              "HTML_TABLE_SCHEMA": false,
              "LOG_LEVEL": 30,
              "MAX_RENDER_SIZE_BYTES": 104857600,
              "MAX_STRING_LENGTH": 250,
              "NUM_PAST_SAMPLES_TRACKED": 3,
              "RANDOM_STATE": 12648430,
              "RESET_INDEX_VALUES": false,
              "ROW_SAMPLING_METHOD": "random",
              "SAMPLING_FACTOR": 0.1,
              "SAMPLING_METHOD": "random",
              "STRINGIFY_COLUMN_VALUES": true,
              "STRINGIFY_INDEX_VALUES": false
            },
            "sample_history": [],
            "sampling_time": "2023-05-16T14:39:44.605867",
            "user_variable_name": "df",
            "variable_name": "df"
          }
        },
        "noteable": {
          "cell_type": "code"
        },
        "noteable-chatgpt": {
          "version": "0.16.0"
        },
        "tags": [
          "show_line_numbers"
        ]
      },
      "outputs": [
        {
          "data": {
            "text/html": [
              "<div>\n",
              "<style scoped>\n",
              "    .dataframe tbody tr th:only-of-type {\n",
              "        vertical-align: middle;\n",
              "    }\n",
              "\n",
              "    .dataframe tbody tr th {\n",
              "        vertical-align: top;\n",
              "    }\n",
              "\n",
              "    .dataframe thead th {\n",
              "        text-align: right;\n",
              "    }\n",
              "</style>\n",
              "<table border=\"1\" class=\"dataframe\">\n",
              "  <thead>\n",
              "    <tr style=\"text-align: right;\">\n",
              "      <th></th>\n",
              "      <th>issuekey</th>\n",
              "      <th>title</th>\n",
              "      <th>description</th>\n",
              "      <th>storypoint</th>\n",
              "    </tr>\n",
              "  </thead>\n",
              "  <tbody>\n",
              "    <tr>\n",
              "      <th>0</th>\n",
              "      <td>GHS-1271</td>\n",
              "      <td>As a JIRA Administrator I would like to be abl...</td>\n",
              "      <td>NaN</td>\n",
              "      <td>5</td>\n",
              "    </tr>\n",
              "    <tr>\n",
              "      <th>1</th>\n",
              "      <td>JSW-1271</td>\n",
              "      <td>As a JIRA Administrator I would like to be abl...</td>\n",
              "      <td>NaN</td>\n",
              "      <td>5</td>\n",
              "    </tr>\n",
              "    <tr>\n",
              "      <th>2</th>\n",
              "      <td>GHS-1681</td>\n",
              "      <td>Generic webwork aliases may clash with other p...</td>\n",
              "      <td>Some web work actions have commands that have ...</td>\n",
              "      <td>5</td>\n",
              "    </tr>\n",
              "    <tr>\n",
              "      <th>3</th>\n",
              "      <td>JSW-1681</td>\n",
              "      <td>Generic webwork aliases may clash with other p...</td>\n",
              "      <td>Some web work actions have commands that have ...</td>\n",
              "      <td>5</td>\n",
              "    </tr>\n",
              "    <tr>\n",
              "      <th>4</th>\n",
              "      <td>GHS-1819</td>\n",
              "      <td>Add text to the Agile Gadget \"Invalid Project\"...</td>\n",
              "      <td>When the error is \"Invalid Project\" add detail...</td>\n",
              "      <td>2</td>\n",
              "    </tr>\n",
              "    <tr>\n",
              "      <th>...</th>\n",
              "      <td>...</td>\n",
              "      <td>...</td>\n",
              "      <td>...</td>\n",
              "      <td>...</td>\n",
              "    </tr>\n",
              "    <tr>\n",
              "      <th>23322</th>\n",
              "      <td>TIMOB-23699</td>\n",
              "      <td>iOS Media.showCamera \"Temp\" file issue</td>\n",
              "      <td>h6. Issue Description     Video is recorded an...</td>\n",
              "      <td>2</td>\n",
              "    </tr>\n",
              "    <tr>\n",
              "      <th>23323</th>\n",
              "      <td>TIMOB-23701</td>\n",
              "      <td>iOS: close() is applied to multiple window vie...</td>\n",
              "      <td>*This is a regression from 5.3.1.GA*    It was...</td>\n",
              "      <td>3</td>\n",
              "    </tr>\n",
              "    <tr>\n",
              "      <th>23324</th>\n",
              "      <td>TIMOB-23702</td>\n",
              "      <td>Windows: Implement Titanium.Network.Socket</td>\n",
              "      <td>Implement {{Titanium.Network.Socket}} methods ...</td>\n",
              "      <td>8</td>\n",
              "    </tr>\n",
              "    <tr>\n",
              "      <th>23325</th>\n",
              "      <td>TIMOB-23708</td>\n",
              "      <td>Hyperloop: Android aar without asset folder fa...</td>\n",
              "      <td>Including an .aar file which doesn't have an a...</td>\n",
              "      <td>1</td>\n",
              "    </tr>\n",
              "    <tr>\n",
              "      <th>23326</th>\n",
              "      <td>TIMOB-23709</td>\n",
              "      <td>Hyperloop: Fix the and create 1_2_X branch</td>\n",
              "      <td>With Titanium SDK 5.4.0 and 6.0.0 being differ...</td>\n",
              "      <td>2</td>\n",
              "    </tr>\n",
              "  </tbody>\n",
              "</table>\n",
              "<p>23327 rows × 4 columns</p>\n",
              "</div>"
            ],
            "text/plain": [
              "          issuekey                                              title   \n",
              "0         GHS-1271  As a JIRA Administrator I would like to be abl...  \\\n",
              "1         JSW-1271  As a JIRA Administrator I would like to be abl...   \n",
              "2         GHS-1681  Generic webwork aliases may clash with other p...   \n",
              "3         JSW-1681  Generic webwork aliases may clash with other p...   \n",
              "4         GHS-1819  Add text to the Agile Gadget \"Invalid Project\"...   \n",
              "...            ...                                                ...   \n",
              "23322  TIMOB-23699             iOS Media.showCamera \"Temp\" file issue   \n",
              "23323  TIMOB-23701  iOS: close() is applied to multiple window vie...   \n",
              "23324  TIMOB-23702         Windows: Implement Titanium.Network.Socket   \n",
              "23325  TIMOB-23708  Hyperloop: Android aar without asset folder fa...   \n",
              "23326  TIMOB-23709         Hyperloop: Fix the and create 1_2_X branch   \n",
              "\n",
              "                                             description  storypoint  \n",
              "0                                                    NaN           5  \n",
              "1                                                    NaN           5  \n",
              "2      Some web work actions have commands that have ...           5  \n",
              "3      Some web work actions have commands that have ...           5  \n",
              "4      When the error is \"Invalid Project\" add detail...           2  \n",
              "...                                                  ...         ...  \n",
              "23322  h6. Issue Description     Video is recorded an...           2  \n",
              "23323  *This is a regression from 5.3.1.GA*    It was...           3  \n",
              "23324  Implement {{Titanium.Network.Socket}} methods ...           8  \n",
              "23325  Including an .aar file which doesn't have an a...           1  \n",
              "23326  With Titanium SDK 5.4.0 and 6.0.0 being differ...           2  \n",
              "\n",
              "[23327 rows x 4 columns]"
            ]
          },
          "execution_count": 38,
          "metadata": {},
          "output_type": "execute_result"
        }
      ],
      "source": [
        "import pandas as pd\n",
        "df = pd.read_csv(DATA_FILE)\n",
        "df"
      ]
    },
    {
      "cell_type": "code",
      "execution_count": 39,
      "id": "2203cb55-8730-4514-959a-cd49d6fe0c94",
      "metadata": {
        "ExecuteTime": {
          "end_time": "2023-05-16T16:51:16.211134+00:00",
          "start_time": "2023-05-16T16:51:15.979564+00:00"
        },
        "datalink": {
          "454b4c0d-2ecc-4bd5-8fcd-6f2810bf5f98": {
            "applied_filters": [],
            "dataframe_info": {
              "default_index_used": false,
              "orig_num_cols": 4,
              "orig_num_rows": 11,
              "orig_size_bytes": 440,
              "truncated_num_cols": 4,
              "truncated_num_rows": 11,
              "truncated_size_bytes": 440,
              "truncated_string_columns": []
            },
            "display_id": "454b4c0d-2ecc-4bd5-8fcd-6f2810bf5f98",
            "dx_settings": {
              "ALLOW_NOTEABLE_ATTRS": true,
              "COLUMN_SAMPLING_METHOD": "outer",
              "DB_LOCATION": ":memory:",
              "DEV_MODE": false,
              "DISPLAY_MAX_COLUMNS": 100,
              "DISPLAY_MAX_ROWS": 50000,
              "DISPLAY_MODE": "simple",
              "ENABLE_ASSIGNMENT": true,
              "ENABLE_DATALINK": true,
              "FLATTEN_COLUMN_VALUES": true,
              "FLATTEN_INDEX_VALUES": false,
              "GENERATE_DEX_METADATA": false,
              "HTML_TABLE_SCHEMA": false,
              "LOG_LEVEL": 30,
              "MAX_RENDER_SIZE_BYTES": 104857600,
              "MAX_STRING_LENGTH": 250,
              "NUM_PAST_SAMPLES_TRACKED": 3,
              "RANDOM_STATE": 12648430,
              "RESET_INDEX_VALUES": false,
              "ROW_SAMPLING_METHOD": "random",
              "SAMPLING_FACTOR": 0.1,
              "SAMPLING_METHOD": "random",
              "STRINGIFY_COLUMN_VALUES": true,
              "STRINGIFY_INDEX_VALUES": false
            },
            "sample_history": [],
            "sampling_time": "2023-05-16T14:45:39.577876",
            "user_variable_name": null,
            "variable_name": "unk_dataframe_a0ef458d0ec441e5816742000749ff21"
          },
          "4dec3b08-ad6b-4e56-b759-340cf166a794": {
            "applied_filters": [],
            "dataframe_info": {
              "default_index_used": false,
              "orig_num_cols": 4,
              "orig_num_rows": 11,
              "orig_size_bytes": 440,
              "truncated_num_cols": 4,
              "truncated_num_rows": 11,
              "truncated_size_bytes": 440,
              "truncated_string_columns": []
            },
            "display_id": "4dec3b08-ad6b-4e56-b759-340cf166a794",
            "dx_settings": {
              "ALLOW_NOTEABLE_ATTRS": true,
              "COLUMN_SAMPLING_METHOD": "outer",
              "DB_LOCATION": ":memory:",
              "DEV_MODE": false,
              "DISPLAY_MAX_COLUMNS": 100,
              "DISPLAY_MAX_ROWS": 50000,
              "DISPLAY_MODE": "simple",
              "ENABLE_ASSIGNMENT": true,
              "ENABLE_DATALINK": true,
              "FLATTEN_COLUMN_VALUES": true,
              "FLATTEN_INDEX_VALUES": false,
              "GENERATE_DEX_METADATA": false,
              "HTML_TABLE_SCHEMA": false,
              "LOG_LEVEL": 30,
              "MAX_RENDER_SIZE_BYTES": 104857600,
              "MAX_STRING_LENGTH": 250,
              "NUM_PAST_SAMPLES_TRACKED": 3,
              "RANDOM_STATE": 12648430,
              "RESET_INDEX_VALUES": false,
              "ROW_SAMPLING_METHOD": "random",
              "SAMPLING_FACTOR": 0.1,
              "SAMPLING_METHOD": "random",
              "STRINGIFY_COLUMN_VALUES": true,
              "STRINGIFY_INDEX_VALUES": false
            },
            "sample_history": [],
            "sampling_time": "2023-05-16T09:02:18.363610",
            "user_variable_name": null,
            "variable_name": "unk_dataframe_2acd37fc36294471acc8ef2ca8083ad7"
          },
          "6675e6f8-0add-4d24-b1b0-32b4e539a152": {
            "applied_filters": [],
            "dataframe_info": {
              "default_index_used": false,
              "orig_num_cols": 4,
              "orig_num_rows": 11,
              "orig_size_bytes": 440,
              "truncated_num_cols": 4,
              "truncated_num_rows": 11,
              "truncated_size_bytes": 440,
              "truncated_string_columns": []
            },
            "display_id": "6675e6f8-0add-4d24-b1b0-32b4e539a152",
            "dx_settings": {
              "ALLOW_NOTEABLE_ATTRS": true,
              "COLUMN_SAMPLING_METHOD": "outer",
              "DB_LOCATION": ":memory:",
              "DEV_MODE": false,
              "DISPLAY_MAX_COLUMNS": 100,
              "DISPLAY_MAX_ROWS": 50000,
              "DISPLAY_MODE": "simple",
              "ENABLE_ASSIGNMENT": true,
              "ENABLE_DATALINK": true,
              "FLATTEN_COLUMN_VALUES": true,
              "FLATTEN_INDEX_VALUES": false,
              "GENERATE_DEX_METADATA": false,
              "HTML_TABLE_SCHEMA": false,
              "LOG_LEVEL": 30,
              "MAX_RENDER_SIZE_BYTES": 104857600,
              "MAX_STRING_LENGTH": 250,
              "NUM_PAST_SAMPLES_TRACKED": 3,
              "RANDOM_STATE": 12648430,
              "RESET_INDEX_VALUES": false,
              "ROW_SAMPLING_METHOD": "random",
              "SAMPLING_FACTOR": 0.1,
              "SAMPLING_METHOD": "random",
              "STRINGIFY_COLUMN_VALUES": true,
              "STRINGIFY_INDEX_VALUES": false
            },
            "sample_history": [],
            "sampling_time": "2023-05-16T10:09:22.695016",
            "user_variable_name": null,
            "variable_name": "unk_dataframe_064a617f0ab145aa90724745be26ecd7"
          },
          "6c6f1e42-e60a-4f41-b5f8-be7aca081140": {
            "applied_filters": [],
            "dataframe_info": {
              "default_index_used": false,
              "orig_num_cols": 4,
              "orig_num_rows": 11,
              "orig_size_bytes": 440,
              "truncated_num_cols": 4,
              "truncated_num_rows": 11,
              "truncated_size_bytes": 440,
              "truncated_string_columns": []
            },
            "display_id": "6c6f1e42-e60a-4f41-b5f8-be7aca081140",
            "dx_settings": {
              "ALLOW_NOTEABLE_ATTRS": true,
              "COLUMN_SAMPLING_METHOD": "outer",
              "DB_LOCATION": ":memory:",
              "DEV_MODE": false,
              "DISPLAY_MAX_COLUMNS": 100,
              "DISPLAY_MAX_ROWS": 50000,
              "DISPLAY_MODE": "simple",
              "ENABLE_ASSIGNMENT": true,
              "ENABLE_DATALINK": true,
              "FLATTEN_COLUMN_VALUES": true,
              "FLATTEN_INDEX_VALUES": false,
              "GENERATE_DEX_METADATA": false,
              "HTML_TABLE_SCHEMA": false,
              "LOG_LEVEL": 30,
              "MAX_RENDER_SIZE_BYTES": 104857600,
              "MAX_STRING_LENGTH": 250,
              "NUM_PAST_SAMPLES_TRACKED": 3,
              "RANDOM_STATE": 12648430,
              "RESET_INDEX_VALUES": false,
              "ROW_SAMPLING_METHOD": "random",
              "SAMPLING_FACTOR": 0.1,
              "SAMPLING_METHOD": "random",
              "STRINGIFY_COLUMN_VALUES": true,
              "STRINGIFY_INDEX_VALUES": false
            },
            "sample_history": [],
            "sampling_time": "2023-05-16T16:51:16.054564",
            "user_variable_name": null,
            "variable_name": "unk_dataframe_e446dad4e2714b36b697218ece113150"
          },
          "965182e5-7530-48bb-b45c-a61cbdbbcb40": {
            "applied_filters": [],
            "dataframe_info": {
              "default_index_used": false,
              "orig_num_cols": 4,
              "orig_num_rows": 11,
              "orig_size_bytes": 440,
              "truncated_num_cols": 4,
              "truncated_num_rows": 11,
              "truncated_size_bytes": 440,
              "truncated_string_columns": []
            },
            "display_id": "965182e5-7530-48bb-b45c-a61cbdbbcb40",
            "dx_settings": {
              "ALLOW_NOTEABLE_ATTRS": true,
              "COLUMN_SAMPLING_METHOD": "outer",
              "DB_LOCATION": ":memory:",
              "DEV_MODE": false,
              "DISPLAY_MAX_COLUMNS": 100,
              "DISPLAY_MAX_ROWS": 50000,
              "DISPLAY_MODE": "simple",
              "ENABLE_ASSIGNMENT": true,
              "ENABLE_DATALINK": true,
              "FLATTEN_COLUMN_VALUES": true,
              "FLATTEN_INDEX_VALUES": false,
              "GENERATE_DEX_METADATA": false,
              "HTML_TABLE_SCHEMA": false,
              "LOG_LEVEL": 30,
              "MAX_RENDER_SIZE_BYTES": 104857600,
              "MAX_STRING_LENGTH": 250,
              "NUM_PAST_SAMPLES_TRACKED": 3,
              "RANDOM_STATE": 12648430,
              "RESET_INDEX_VALUES": false,
              "ROW_SAMPLING_METHOD": "random",
              "SAMPLING_FACTOR": 0.1,
              "SAMPLING_METHOD": "random",
              "STRINGIFY_COLUMN_VALUES": true,
              "STRINGIFY_INDEX_VALUES": false
            },
            "sample_history": [],
            "sampling_time": "2023-05-16T14:49:43.150093",
            "user_variable_name": null,
            "variable_name": "unk_dataframe_128bff9dbb8740359e4d6917bbee3675"
          },
          "9e896ac3-08aa-401b-8cad-774318136f8d": {
            "applied_filters": [],
            "dataframe_info": {
              "default_index_used": false,
              "orig_num_cols": 4,
              "orig_num_rows": 11,
              "orig_size_bytes": 440,
              "truncated_num_cols": 4,
              "truncated_num_rows": 11,
              "truncated_size_bytes": 440,
              "truncated_string_columns": []
            },
            "display_id": "9e896ac3-08aa-401b-8cad-774318136f8d",
            "dx_settings": {
              "ALLOW_NOTEABLE_ATTRS": true,
              "COLUMN_SAMPLING_METHOD": "outer",
              "DB_LOCATION": ":memory:",
              "DEV_MODE": false,
              "DISPLAY_MAX_COLUMNS": 100,
              "DISPLAY_MAX_ROWS": 50000,
              "DISPLAY_MODE": "simple",
              "ENABLE_ASSIGNMENT": true,
              "ENABLE_DATALINK": true,
              "FLATTEN_COLUMN_VALUES": true,
              "FLATTEN_INDEX_VALUES": false,
              "GENERATE_DEX_METADATA": false,
              "HTML_TABLE_SCHEMA": false,
              "LOG_LEVEL": 30,
              "MAX_RENDER_SIZE_BYTES": 104857600,
              "MAX_STRING_LENGTH": 250,
              "NUM_PAST_SAMPLES_TRACKED": 3,
              "RANDOM_STATE": 12648430,
              "RESET_INDEX_VALUES": false,
              "ROW_SAMPLING_METHOD": "random",
              "SAMPLING_FACTOR": 0.1,
              "SAMPLING_METHOD": "random",
              "STRINGIFY_COLUMN_VALUES": true,
              "STRINGIFY_INDEX_VALUES": false
            },
            "sample_history": [],
            "sampling_time": "2023-05-15T19:19:08.819172",
            "user_variable_name": null,
            "variable_name": "unk_dataframe_bf9984f8615441079fc309c8ad84ed4f"
          },
          "d500ae98-52a6-4766-9dae-f4de5c64fb47": {
            "applied_filters": [],
            "dataframe_info": {
              "default_index_used": false,
              "orig_num_cols": 4,
              "orig_num_rows": 11,
              "orig_size_bytes": 440,
              "truncated_num_cols": 4,
              "truncated_num_rows": 11,
              "truncated_size_bytes": 440,
              "truncated_string_columns": []
            },
            "display_id": "d500ae98-52a6-4766-9dae-f4de5c64fb47",
            "dx_settings": {
              "ALLOW_NOTEABLE_ATTRS": true,
              "COLUMN_SAMPLING_METHOD": "outer",
              "DB_LOCATION": ":memory:",
              "DEV_MODE": false,
              "DISPLAY_MAX_COLUMNS": 100,
              "DISPLAY_MAX_ROWS": 50000,
              "DISPLAY_MODE": "simple",
              "ENABLE_ASSIGNMENT": true,
              "ENABLE_DATALINK": true,
              "FLATTEN_COLUMN_VALUES": true,
              "FLATTEN_INDEX_VALUES": false,
              "GENERATE_DEX_METADATA": false,
              "HTML_TABLE_SCHEMA": false,
              "LOG_LEVEL": 30,
              "MAX_RENDER_SIZE_BYTES": 104857600,
              "MAX_STRING_LENGTH": 250,
              "NUM_PAST_SAMPLES_TRACKED": 3,
              "RANDOM_STATE": 12648430,
              "RESET_INDEX_VALUES": false,
              "ROW_SAMPLING_METHOD": "random",
              "SAMPLING_FACTOR": 0.1,
              "SAMPLING_METHOD": "random",
              "STRINGIFY_COLUMN_VALUES": true,
              "STRINGIFY_INDEX_VALUES": false
            },
            "sample_history": [],
            "sampling_time": "2023-05-16T14:39:47.802229",
            "user_variable_name": null,
            "variable_name": "unk_dataframe_497e5d043c634090b1c96cd908a5335b"
          },
          "dcda4629-0730-432d-9eed-46b51b51f0b2": {
            "applied_filters": [],
            "dataframe_info": {
              "default_index_used": false,
              "orig_num_cols": 4,
              "orig_num_rows": 11,
              "orig_size_bytes": 440,
              "truncated_num_cols": 4,
              "truncated_num_rows": 11,
              "truncated_size_bytes": 440,
              "truncated_string_columns": []
            },
            "display_id": "dcda4629-0730-432d-9eed-46b51b51f0b2",
            "dx_settings": {
              "ALLOW_NOTEABLE_ATTRS": true,
              "COLUMN_SAMPLING_METHOD": "outer",
              "DB_LOCATION": ":memory:",
              "DEV_MODE": false,
              "DISPLAY_MAX_COLUMNS": 100,
              "DISPLAY_MAX_ROWS": 50000,
              "DISPLAY_MODE": "simple",
              "ENABLE_ASSIGNMENT": true,
              "ENABLE_DATALINK": true,
              "FLATTEN_COLUMN_VALUES": true,
              "FLATTEN_INDEX_VALUES": false,
              "GENERATE_DEX_METADATA": false,
              "HTML_TABLE_SCHEMA": false,
              "LOG_LEVEL": 30,
              "MAX_RENDER_SIZE_BYTES": 104857600,
              "MAX_STRING_LENGTH": 250,
              "NUM_PAST_SAMPLES_TRACKED": 3,
              "RANDOM_STATE": 12648430,
              "RESET_INDEX_VALUES": false,
              "ROW_SAMPLING_METHOD": "random",
              "SAMPLING_FACTOR": 0.1,
              "SAMPLING_METHOD": "random",
              "STRINGIFY_COLUMN_VALUES": true,
              "STRINGIFY_INDEX_VALUES": false
            },
            "sample_history": [],
            "sampling_time": "2023-05-16T08:56:25.301241",
            "user_variable_name": null,
            "variable_name": "unk_dataframe_8587b2f0207249bdb7c0f8e4ef095622"
          },
          "f069ca2a-711c-4fd2-95db-014a77c97537": {
            "applied_filters": [],
            "dataframe_info": {
              "default_index_used": false,
              "orig_num_cols": 4,
              "orig_num_rows": 11,
              "orig_size_bytes": 440,
              "truncated_num_cols": 4,
              "truncated_num_rows": 11,
              "truncated_size_bytes": 440,
              "truncated_string_columns": []
            },
            "display_id": "f069ca2a-711c-4fd2-95db-014a77c97537",
            "dx_settings": {
              "ALLOW_NOTEABLE_ATTRS": true,
              "COLUMN_SAMPLING_METHOD": "outer",
              "DB_LOCATION": ":memory:",
              "DEV_MODE": false,
              "DISPLAY_MAX_COLUMNS": 100,
              "DISPLAY_MAX_ROWS": 50000,
              "DISPLAY_MODE": "simple",
              "ENABLE_ASSIGNMENT": true,
              "ENABLE_DATALINK": true,
              "FLATTEN_COLUMN_VALUES": true,
              "FLATTEN_INDEX_VALUES": false,
              "GENERATE_DEX_METADATA": false,
              "HTML_TABLE_SCHEMA": false,
              "LOG_LEVEL": 30,
              "MAX_RENDER_SIZE_BYTES": 104857600,
              "MAX_STRING_LENGTH": 250,
              "NUM_PAST_SAMPLES_TRACKED": 3,
              "RANDOM_STATE": 12648430,
              "RESET_INDEX_VALUES": false,
              "ROW_SAMPLING_METHOD": "random",
              "SAMPLING_FACTOR": 0.1,
              "SAMPLING_METHOD": "random",
              "STRINGIFY_COLUMN_VALUES": true,
              "STRINGIFY_INDEX_VALUES": false
            },
            "sample_history": [],
            "sampling_time": "2023-05-16T14:15:51.613392",
            "user_variable_name": null,
            "variable_name": "unk_dataframe_5035f881daff4134b3ff65cbc1cf363e"
          }
        },
        "noteable": {
          "cell_type": "code"
        },
        "noteable-chatgpt": {
          "version": "0.16.0"
        },
        "tags": [
          "show_line_numbers"
        ]
      },
      "outputs": [
        {
          "data": {
            "text/html": [
              "<div>\n",
              "<style scoped>\n",
              "    .dataframe tbody tr th:only-of-type {\n",
              "        vertical-align: middle;\n",
              "    }\n",
              "\n",
              "    .dataframe tbody tr th {\n",
              "        vertical-align: top;\n",
              "    }\n",
              "\n",
              "    .dataframe thead th {\n",
              "        text-align: right;\n",
              "    }\n",
              "</style>\n",
              "<table border=\"1\" class=\"dataframe\">\n",
              "  <thead>\n",
              "    <tr style=\"text-align: right;\">\n",
              "      <th></th>\n",
              "      <th>issuekey</th>\n",
              "      <th>title</th>\n",
              "      <th>description</th>\n",
              "      <th>storypoint</th>\n",
              "    </tr>\n",
              "  </thead>\n",
              "  <tbody>\n",
              "    <tr>\n",
              "      <th>count</th>\n",
              "      <td>23327</td>\n",
              "      <td>23327</td>\n",
              "      <td>21092</td>\n",
              "      <td>23327.000000</td>\n",
              "    </tr>\n",
              "    <tr>\n",
              "      <th>unique</th>\n",
              "      <td>23313</td>\n",
              "      <td>23089</td>\n",
              "      <td>20805</td>\n",
              "      <td>NaN</td>\n",
              "    </tr>\n",
              "    <tr>\n",
              "      <th>top</th>\n",
              "      <td>DM-22</td>\n",
              "      <td>Export babili translations into trunk of SVN</td>\n",
              "      <td>See https://confluence.lsstcorp.org/display/DM...</td>\n",
              "      <td>NaN</td>\n",
              "    </tr>\n",
              "    <tr>\n",
              "      <th>freq</th>\n",
              "      <td>3</td>\n",
              "      <td>21</td>\n",
              "      <td>13</td>\n",
              "      <td>NaN</td>\n",
              "    </tr>\n",
              "    <tr>\n",
              "      <th>mean</th>\n",
              "      <td>NaN</td>\n",
              "      <td>NaN</td>\n",
              "      <td>NaN</td>\n",
              "      <td>6.215116</td>\n",
              "    </tr>\n",
              "    <tr>\n",
              "      <th>std</th>\n",
              "      <td>NaN</td>\n",
              "      <td>NaN</td>\n",
              "      <td>NaN</td>\n",
              "      <td>10.005808</td>\n",
              "    </tr>\n",
              "    <tr>\n",
              "      <th>min</th>\n",
              "      <td>NaN</td>\n",
              "      <td>NaN</td>\n",
              "      <td>NaN</td>\n",
              "      <td>1.000000</td>\n",
              "    </tr>\n",
              "    <tr>\n",
              "      <th>25%</th>\n",
              "      <td>NaN</td>\n",
              "      <td>NaN</td>\n",
              "      <td>NaN</td>\n",
              "      <td>2.000000</td>\n",
              "    </tr>\n",
              "    <tr>\n",
              "      <th>50%</th>\n",
              "      <td>NaN</td>\n",
              "      <td>NaN</td>\n",
              "      <td>NaN</td>\n",
              "      <td>4.000000</td>\n",
              "    </tr>\n",
              "    <tr>\n",
              "      <th>75%</th>\n",
              "      <td>NaN</td>\n",
              "      <td>NaN</td>\n",
              "      <td>NaN</td>\n",
              "      <td>8.000000</td>\n",
              "    </tr>\n",
              "    <tr>\n",
              "      <th>max</th>\n",
              "      <td>NaN</td>\n",
              "      <td>NaN</td>\n",
              "      <td>NaN</td>\n",
              "      <td>100.000000</td>\n",
              "    </tr>\n",
              "  </tbody>\n",
              "</table>\n",
              "</div>"
            ],
            "text/plain": [
              "       issuekey                                         title   \n",
              "count     23327                                         23327  \\\n",
              "unique    23313                                         23089   \n",
              "top       DM-22  Export babili translations into trunk of SVN   \n",
              "freq          3                                            21   \n",
              "mean        NaN                                           NaN   \n",
              "std         NaN                                           NaN   \n",
              "min         NaN                                           NaN   \n",
              "25%         NaN                                           NaN   \n",
              "50%         NaN                                           NaN   \n",
              "75%         NaN                                           NaN   \n",
              "max         NaN                                           NaN   \n",
              "\n",
              "                                              description    storypoint  \n",
              "count                                               21092  23327.000000  \n",
              "unique                                              20805           NaN  \n",
              "top     See https://confluence.lsstcorp.org/display/DM...           NaN  \n",
              "freq                                                   13           NaN  \n",
              "mean                                                  NaN      6.215116  \n",
              "std                                                   NaN     10.005808  \n",
              "min                                                   NaN      1.000000  \n",
              "25%                                                   NaN      2.000000  \n",
              "50%                                                   NaN      4.000000  \n",
              "75%                                                   NaN      8.000000  \n",
              "max                                                   NaN    100.000000  "
            ]
          },
          "execution_count": 39,
          "metadata": {},
          "output_type": "execute_result"
        }
      ],
      "source": [
        "# Descriptive statistics\n",
        "df.describe(include='all')"
      ]
    },
    {
      "cell_type": "code",
      "execution_count": 40,
      "id": "65560a45-a2c6-4267-922c-088be89b5ca4",
      "metadata": {
        "ExecuteTime": {
          "end_time": "2023-05-16T16:51:19.302332+00:00",
          "start_time": "2023-05-16T16:51:16.273038+00:00"
        },
        "noteable": {
          "cell_type": "code"
        },
        "noteable-chatgpt": {
          "version": "0.16.0"
        },
        "tags": [
          "show_line_numbers"
        ]
      },
      "outputs": [
        {
          "data": {
            "image/png": "[encoded data removed]",
            "text/plain": [
              "<Figure size 1000x600 with 1 Axes>"
            ]
          },
          "metadata": {},
          "output_type": "display_data"
        }
      ],
      "source": [
        "import matplotlib.pyplot as plt\n",
        "import seaborn as sns\n",
        "# Data visualization\n",
        "plt.figure(figsize=(10, 6))\n",
        "sns.histplot(df['storypoint'], kde=True)\n",
        "plt.title('Distribution of Story Points')\n",
        "plt.show()"
      ]
    },
    {
      "cell_type": "code",
      "execution_count": 41,
      "id": "97cdb02f-49d8-4d72-b6dd-420954442abb",
      "metadata": {
        "ExecuteTime": {
          "end_time": "2023-05-16T16:51:20.002177+00:00",
          "start_time": "2023-05-16T16:51:19.804186+00:00"
        },
        "datalink": {
          "115c00db-4885-418e-84df-71af28f5efcb": {
            "applied_filters": [],
            "dataframe_info": {
              "default_index_used": true,
              "orig_num_cols": 3,
              "orig_num_rows": 5,
              "orig_size_bytes": 248,
              "truncated_num_cols": 3,
              "truncated_num_rows": 5,
              "truncated_size_bytes": 248,
              "truncated_string_columns": [
                "description"
              ]
            },
            "display_id": "115c00db-4885-418e-84df-71af28f5efcb",
            "dx_settings": {
              "ALLOW_NOTEABLE_ATTRS": true,
              "COLUMN_SAMPLING_METHOD": "outer",
              "DB_LOCATION": ":memory:",
              "DEV_MODE": false,
              "DISPLAY_MAX_COLUMNS": 100,
              "DISPLAY_MAX_ROWS": 50000,
              "DISPLAY_MODE": "simple",
              "ENABLE_ASSIGNMENT": true,
              "ENABLE_DATALINK": true,
              "FLATTEN_COLUMN_VALUES": true,
              "FLATTEN_INDEX_VALUES": false,
              "GENERATE_DEX_METADATA": false,
              "HTML_TABLE_SCHEMA": false,
              "LOG_LEVEL": 30,
              "MAX_RENDER_SIZE_BYTES": 104857600,
              "MAX_STRING_LENGTH": 250,
              "NUM_PAST_SAMPLES_TRACKED": 3,
              "RANDOM_STATE": 12648430,
              "RESET_INDEX_VALUES": false,
              "ROW_SAMPLING_METHOD": "random",
              "SAMPLING_FACTOR": 0.1,
              "SAMPLING_METHOD": "random",
              "STRINGIFY_COLUMN_VALUES": true,
              "STRINGIFY_INDEX_VALUES": false
            },
            "sample_history": [],
            "sampling_time": "2023-05-15T19:22:47.635419",
            "user_variable_name": null,
            "variable_name": "unk_dataframe_1d860e2b915f4e10b6ab7e3a10cfd185"
          },
          "57d538bd-4236-4edb-bdae-43bc37ea4477": {
            "applied_filters": [],
            "dataframe_info": {
              "default_index_used": true,
              "orig_num_cols": 3,
              "orig_num_rows": 5,
              "orig_size_bytes": 248,
              "truncated_num_cols": 3,
              "truncated_num_rows": 5,
              "truncated_size_bytes": 248,
              "truncated_string_columns": [
                "description"
              ]
            },
            "display_id": "57d538bd-4236-4edb-bdae-43bc37ea4477",
            "dx_settings": {
              "ALLOW_NOTEABLE_ATTRS": true,
              "COLUMN_SAMPLING_METHOD": "outer",
              "DB_LOCATION": ":memory:",
              "DEV_MODE": false,
              "DISPLAY_MAX_COLUMNS": 100,
              "DISPLAY_MAX_ROWS": 50000,
              "DISPLAY_MODE": "simple",
              "ENABLE_ASSIGNMENT": true,
              "ENABLE_DATALINK": true,
              "FLATTEN_COLUMN_VALUES": true,
              "FLATTEN_INDEX_VALUES": false,
              "GENERATE_DEX_METADATA": false,
              "HTML_TABLE_SCHEMA": false,
              "LOG_LEVEL": 30,
              "MAX_RENDER_SIZE_BYTES": 104857600,
              "MAX_STRING_LENGTH": 250,
              "NUM_PAST_SAMPLES_TRACKED": 3,
              "RANDOM_STATE": 12648430,
              "RESET_INDEX_VALUES": false,
              "ROW_SAMPLING_METHOD": "random",
              "SAMPLING_FACTOR": 0.1,
              "SAMPLING_METHOD": "random",
              "STRINGIFY_COLUMN_VALUES": true,
              "STRINGIFY_INDEX_VALUES": false
            },
            "sample_history": [],
            "sampling_time": "2023-05-16T09:02:19.961935",
            "user_variable_name": null,
            "variable_name": "unk_dataframe_e14ba9d3434043efab76a8828a4ac64c"
          },
          "7264be11-8075-4869-a6ec-0e44d70ec05d": {
            "applied_filters": [],
            "dataframe_info": {
              "default_index_used": true,
              "orig_num_cols": 3,
              "orig_num_rows": 5,
              "orig_size_bytes": 248,
              "truncated_num_cols": 3,
              "truncated_num_rows": 5,
              "truncated_size_bytes": 248,
              "truncated_string_columns": [
                "description"
              ]
            },
            "display_id": "7264be11-8075-4869-a6ec-0e44d70ec05d",
            "dx_settings": {
              "ALLOW_NOTEABLE_ATTRS": true,
              "COLUMN_SAMPLING_METHOD": "outer",
              "DB_LOCATION": ":memory:",
              "DEV_MODE": false,
              "DISPLAY_MAX_COLUMNS": 100,
              "DISPLAY_MAX_ROWS": 50000,
              "DISPLAY_MODE": "simple",
              "ENABLE_ASSIGNMENT": true,
              "ENABLE_DATALINK": true,
              "FLATTEN_COLUMN_VALUES": true,
              "FLATTEN_INDEX_VALUES": false,
              "GENERATE_DEX_METADATA": false,
              "HTML_TABLE_SCHEMA": false,
              "LOG_LEVEL": 30,
              "MAX_RENDER_SIZE_BYTES": 104857600,
              "MAX_STRING_LENGTH": 250,
              "NUM_PAST_SAMPLES_TRACKED": 3,
              "RANDOM_STATE": 12648430,
              "RESET_INDEX_VALUES": false,
              "ROW_SAMPLING_METHOD": "random",
              "SAMPLING_FACTOR": 0.1,
              "SAMPLING_METHOD": "random",
              "STRINGIFY_COLUMN_VALUES": true,
              "STRINGIFY_INDEX_VALUES": false
            },
            "sample_history": [],
            "sampling_time": "2023-05-16T14:15:55.155854",
            "user_variable_name": null,
            "variable_name": "unk_dataframe_6575416edc5540cba06367abce14761e"
          },
          "779d040f-9246-4388-813d-a849aea1c212": {
            "applied_filters": [],
            "dataframe_info": {
              "default_index_used": true,
              "orig_num_cols": 3,
              "orig_num_rows": 5,
              "orig_size_bytes": 248,
              "truncated_num_cols": 3,
              "truncated_num_rows": 5,
              "truncated_size_bytes": 248,
              "truncated_string_columns": [
                "description"
              ]
            },
            "display_id": "779d040f-9246-4388-813d-a849aea1c212",
            "dx_settings": {
              "ALLOW_NOTEABLE_ATTRS": true,
              "COLUMN_SAMPLING_METHOD": "outer",
              "DB_LOCATION": ":memory:",
              "DEV_MODE": false,
              "DISPLAY_MAX_COLUMNS": 100,
              "DISPLAY_MAX_ROWS": 50000,
              "DISPLAY_MODE": "simple",
              "ENABLE_ASSIGNMENT": true,
              "ENABLE_DATALINK": true,
              "FLATTEN_COLUMN_VALUES": true,
              "FLATTEN_INDEX_VALUES": false,
              "GENERATE_DEX_METADATA": false,
              "HTML_TABLE_SCHEMA": false,
              "LOG_LEVEL": 30,
              "MAX_RENDER_SIZE_BYTES": 104857600,
              "MAX_STRING_LENGTH": 250,
              "NUM_PAST_SAMPLES_TRACKED": 3,
              "RANDOM_STATE": 12648430,
              "RESET_INDEX_VALUES": false,
              "ROW_SAMPLING_METHOD": "random",
              "SAMPLING_FACTOR": 0.1,
              "SAMPLING_METHOD": "random",
              "STRINGIFY_COLUMN_VALUES": true,
              "STRINGIFY_INDEX_VALUES": false
            },
            "sample_history": [],
            "sampling_time": "2023-05-16T14:45:43.317837",
            "user_variable_name": null,
            "variable_name": "unk_dataframe_6eececa92cc3420ead02fbc6efffa218"
          },
          "925743c6-7225-4b16-add5-af45ee06cb43": {
            "applied_filters": [],
            "dataframe_info": {
              "default_index_used": true,
              "orig_num_cols": 3,
              "orig_num_rows": 5,
              "orig_size_bytes": 248,
              "truncated_num_cols": 3,
              "truncated_num_rows": 5,
              "truncated_size_bytes": 248,
              "truncated_string_columns": [
                "description"
              ]
            },
            "display_id": "925743c6-7225-4b16-add5-af45ee06cb43",
            "dx_settings": {
              "ALLOW_NOTEABLE_ATTRS": true,
              "COLUMN_SAMPLING_METHOD": "outer",
              "DB_LOCATION": ":memory:",
              "DEV_MODE": false,
              "DISPLAY_MAX_COLUMNS": 100,
              "DISPLAY_MAX_ROWS": 50000,
              "DISPLAY_MODE": "simple",
              "ENABLE_ASSIGNMENT": true,
              "ENABLE_DATALINK": true,
              "FLATTEN_COLUMN_VALUES": true,
              "FLATTEN_INDEX_VALUES": false,
              "GENERATE_DEX_METADATA": false,
              "HTML_TABLE_SCHEMA": false,
              "LOG_LEVEL": 30,
              "MAX_RENDER_SIZE_BYTES": 104857600,
              "MAX_STRING_LENGTH": 250,
              "NUM_PAST_SAMPLES_TRACKED": 3,
              "RANDOM_STATE": 12648430,
              "RESET_INDEX_VALUES": false,
              "ROW_SAMPLING_METHOD": "random",
              "SAMPLING_FACTOR": 0.1,
              "SAMPLING_METHOD": "random",
              "STRINGIFY_COLUMN_VALUES": true,
              "STRINGIFY_INDEX_VALUES": false
            },
            "sample_history": [],
            "sampling_time": "2023-05-16T08:56:28.673434",
            "user_variable_name": null,
            "variable_name": "unk_dataframe_113299068a814abd9de24c3764ce7647"
          },
          "99b02a1c-d4b8-4c7c-96ad-cad2b23f91e3": {
            "applied_filters": [],
            "dataframe_info": {
              "default_index_used": true,
              "orig_num_cols": 3,
              "orig_num_rows": 5,
              "orig_size_bytes": 248,
              "truncated_num_cols": 3,
              "truncated_num_rows": 5,
              "truncated_size_bytes": 248,
              "truncated_string_columns": [
                "description"
              ]
            },
            "display_id": "99b02a1c-d4b8-4c7c-96ad-cad2b23f91e3",
            "dx_settings": {
              "ALLOW_NOTEABLE_ATTRS": true,
              "COLUMN_SAMPLING_METHOD": "outer",
              "DB_LOCATION": ":memory:",
              "DEV_MODE": false,
              "DISPLAY_MAX_COLUMNS": 100,
              "DISPLAY_MAX_ROWS": 50000,
              "DISPLAY_MODE": "simple",
              "ENABLE_ASSIGNMENT": true,
              "ENABLE_DATALINK": true,
              "FLATTEN_COLUMN_VALUES": true,
              "FLATTEN_INDEX_VALUES": false,
              "GENERATE_DEX_METADATA": false,
              "HTML_TABLE_SCHEMA": false,
              "LOG_LEVEL": 30,
              "MAX_RENDER_SIZE_BYTES": 104857600,
              "MAX_STRING_LENGTH": 250,
              "NUM_PAST_SAMPLES_TRACKED": 3,
              "RANDOM_STATE": 12648430,
              "RESET_INDEX_VALUES": false,
              "ROW_SAMPLING_METHOD": "random",
              "SAMPLING_FACTOR": 0.1,
              "SAMPLING_METHOD": "random",
              "STRINGIFY_COLUMN_VALUES": true,
              "STRINGIFY_INDEX_VALUES": false
            },
            "sample_history": [],
            "sampling_time": "2023-05-16T14:49:44.892918",
            "user_variable_name": null,
            "variable_name": "unk_dataframe_255edbb2550a4ce789f6f267fe83e94e"
          },
          "bef3a7bd-c12b-4f11-a626-e7e433258d7a": {
            "applied_filters": [],
            "dataframe_info": {
              "default_index_used": true,
              "orig_num_cols": 3,
              "orig_num_rows": 5,
              "orig_size_bytes": 248,
              "truncated_num_cols": 3,
              "truncated_num_rows": 5,
              "truncated_size_bytes": 248,
              "truncated_string_columns": [
                "description"
              ]
            },
            "display_id": "bef3a7bd-c12b-4f11-a626-e7e433258d7a",
            "dx_settings": {
              "ALLOW_NOTEABLE_ATTRS": true,
              "COLUMN_SAMPLING_METHOD": "outer",
              "DB_LOCATION": ":memory:",
              "DEV_MODE": false,
              "DISPLAY_MAX_COLUMNS": 100,
              "DISPLAY_MAX_ROWS": 50000,
              "DISPLAY_MODE": "simple",
              "ENABLE_ASSIGNMENT": true,
              "ENABLE_DATALINK": true,
              "FLATTEN_COLUMN_VALUES": true,
              "FLATTEN_INDEX_VALUES": false,
              "GENERATE_DEX_METADATA": false,
              "HTML_TABLE_SCHEMA": false,
              "LOG_LEVEL": 30,
              "MAX_RENDER_SIZE_BYTES": 104857600,
              "MAX_STRING_LENGTH": 250,
              "NUM_PAST_SAMPLES_TRACKED": 3,
              "RANDOM_STATE": 12648430,
              "RESET_INDEX_VALUES": false,
              "ROW_SAMPLING_METHOD": "random",
              "SAMPLING_FACTOR": 0.1,
              "SAMPLING_METHOD": "random",
              "STRINGIFY_COLUMN_VALUES": true,
              "STRINGIFY_INDEX_VALUES": false
            },
            "sample_history": [],
            "sampling_time": "2023-05-16T10:09:26.266957",
            "user_variable_name": null,
            "variable_name": "unk_dataframe_0b28845198504127becef6e34d145745"
          },
          "f859c293-5799-474a-9606-d79d81db90ab": {
            "applied_filters": [],
            "dataframe_info": {
              "default_index_used": true,
              "orig_num_cols": 3,
              "orig_num_rows": 5,
              "orig_size_bytes": 248,
              "truncated_num_cols": 3,
              "truncated_num_rows": 5,
              "truncated_size_bytes": 248,
              "truncated_string_columns": [
                "description"
              ]
            },
            "display_id": "f859c293-5799-474a-9606-d79d81db90ab",
            "dx_settings": {
              "ALLOW_NOTEABLE_ATTRS": true,
              "COLUMN_SAMPLING_METHOD": "outer",
              "DB_LOCATION": ":memory:",
              "DEV_MODE": false,
              "DISPLAY_MAX_COLUMNS": 100,
              "DISPLAY_MAX_ROWS": 50000,
              "DISPLAY_MODE": "simple",
              "ENABLE_ASSIGNMENT": true,
              "ENABLE_DATALINK": true,
              "FLATTEN_COLUMN_VALUES": true,
              "FLATTEN_INDEX_VALUES": false,
              "GENERATE_DEX_METADATA": false,
              "HTML_TABLE_SCHEMA": false,
              "LOG_LEVEL": 30,
              "MAX_RENDER_SIZE_BYTES": 104857600,
              "MAX_STRING_LENGTH": 250,
              "NUM_PAST_SAMPLES_TRACKED": 3,
              "RANDOM_STATE": 12648430,
              "RESET_INDEX_VALUES": false,
              "ROW_SAMPLING_METHOD": "random",
              "SAMPLING_FACTOR": 0.1,
              "SAMPLING_METHOD": "random",
              "STRINGIFY_COLUMN_VALUES": true,
              "STRINGIFY_INDEX_VALUES": false
            },
            "sample_history": [],
            "sampling_time": "2023-05-16T16:51:19.844849",
            "user_variable_name": null,
            "variable_name": "unk_dataframe_eee0de7895504ac28ddf55c36cabcede"
          }
        },
        "noteable": {
          "cell_type": "code"
        },
        "noteable-chatgpt": {
          "version": "0.16.0"
        },
        "tags": [
          "show_line_numbers"
        ]
      },
      "outputs": [
        {
          "data": {
            "text/html": [
              "<div>\n",
              "<style scoped>\n",
              "    .dataframe tbody tr th:only-of-type {\n",
              "        vertical-align: middle;\n",
              "    }\n",
              "\n",
              "    .dataframe tbody tr th {\n",
              "        vertical-align: top;\n",
              "    }\n",
              "\n",
              "    .dataframe thead th {\n",
              "        text-align: right;\n",
              "    }\n",
              "</style>\n",
              "<table border=\"1\" class=\"dataframe\">\n",
              "  <thead>\n",
              "    <tr style=\"text-align: right;\">\n",
              "      <th></th>\n",
              "      <th>title</th>\n",
              "      <th>description</th>\n",
              "      <th>storypoint</th>\n",
              "    </tr>\n",
              "  </thead>\n",
              "  <tbody>\n",
              "    <tr>\n",
              "      <th>0</th>\n",
              "      <td>As a JIRA Administrator I would like to be abl...</td>\n",
              "      <td>NaN</td>\n",
              "      <td>5</td>\n",
              "    </tr>\n",
              "    <tr>\n",
              "      <th>1</th>\n",
              "      <td>As a JIRA Administrator I would like to be abl...</td>\n",
              "      <td>NaN</td>\n",
              "      <td>5</td>\n",
              "    </tr>\n",
              "    <tr>\n",
              "      <th>2</th>\n",
              "      <td>Generic webwork aliases may clash with other p...</td>\n",
              "      <td>Some web work actions have commands that have ...</td>\n",
              "      <td>5</td>\n",
              "    </tr>\n",
              "    <tr>\n",
              "      <th>3</th>\n",
              "      <td>Generic webwork aliases may clash with other p...</td>\n",
              "      <td>Some web work actions have commands that have ...</td>\n",
              "      <td>5</td>\n",
              "    </tr>\n",
              "    <tr>\n",
              "      <th>4</th>\n",
              "      <td>Add text to the Agile Gadget \"Invalid Project\"...</td>\n",
              "      <td>When the error is \"Invalid Project\" add detail...</td>\n",
              "      <td>2</td>\n",
              "    </tr>\n",
              "  </tbody>\n",
              "</table>\n",
              "</div>"
            ],
            "text/plain": [
              "                                               title   \n",
              "0  As a JIRA Administrator I would like to be abl...  \\\n",
              "1  As a JIRA Administrator I would like to be abl...   \n",
              "2  Generic webwork aliases may clash with other p...   \n",
              "3  Generic webwork aliases may clash with other p...   \n",
              "4  Add text to the Agile Gadget \"Invalid Project\"...   \n",
              "\n",
              "                                         description  storypoint  \n",
              "0                                                NaN           5  \n",
              "1                                                NaN           5  \n",
              "2  Some web work actions have commands that have ...           5  \n",
              "3  Some web work actions have commands that have ...           5  \n",
              "4  When the error is \"Invalid Project\" add detail...           2  "
            ]
          },
          "execution_count": 41,
          "metadata": {},
          "output_type": "execute_result"
        }
      ],
      "source": [
        "# Drop the 'issuekey' column\n",
        "df = df.drop(['issuekey'], axis=1)\n",
        "# Check the first few rows of the updated dataframe\n",
        "df.head()"
      ]
    },
    {
      "cell_type": "code",
      "execution_count": 42,
      "id": "49fe525c-a305-4231-bad5-b2cd4559ec7a",
      "metadata": {
        "ExecuteTime": {
          "end_time": "2023-05-16T16:51:29.345052+00:00",
          "start_time": "2023-05-16T16:51:20.011737+00:00"
        },
        "noteable": {
          "cell_type": "code"
        },
        "noteable-chatgpt": {
          "version": "0.16.0"
        },
        "tags": [
          "show_line_numbers"
        ]
      },
      "outputs": [
        {
          "data": {
            "image/png": "[encoded data removed]",
            "text/plain": [
              "<Figure size 1000x600 with 1 Axes>"
            ]
          },
          "metadata": {},
          "output_type": "display_data"
        }
      ],
      "source": [
        "from wordcloud import WordCloud, STOPWORDS\n",
        "# Combine all titles and descriptions into one text\n",
        "text = ' '.join(df['title'].dropna().tolist() + df['description'].dropna().tolist())\n",
        "# Create and generate a word cloud image\n",
        "wordcloud = WordCloud(stopwords=STOPWORDS, background_color='white').generate(text)\n",
        "# Display the generated image\n",
        "plt.figure(figsize=(10, 6))\n",
        "plt.imshow(wordcloud, interpolation='bilinear')\n",
        "plt.axis('off')\n",
        "plt.show()"
      ]
    },
    {
      "cell_type": "code",
      "execution_count": 43,
      "id": "955b46dc-2e74-4f78-ad7c-1fec9b70c77b",
      "metadata": {
        "ExecuteTime": {
          "end_time": "2023-05-16T16:52:26.551211+00:00",
          "start_time": "2023-05-16T16:51:29.675545+00:00"
        },
        "datalink": {
          "000ed703-eaa3-4dc5-8660-ee4192ffb8cf": {
            "applied_filters": [],
            "dataframe_info": {
              "default_index_used": false,
              "orig_num_cols": 1,
              "orig_num_rows": 1001,
              "orig_size_bytes": 16016,
              "truncated_num_cols": 1,
              "truncated_num_rows": 1001,
              "truncated_size_bytes": 16016,
              "truncated_string_columns": []
            },
            "display_id": "000ed703-eaa3-4dc5-8660-ee4192ffb8cf",
            "dx_settings": {
              "ALLOW_NOTEABLE_ATTRS": true,
              "COLUMN_SAMPLING_METHOD": "outer",
              "DB_LOCATION": ":memory:",
              "DEV_MODE": false,
              "DISPLAY_MAX_COLUMNS": 100,
              "DISPLAY_MAX_ROWS": 50000,
              "DISPLAY_MODE": "simple",
              "ENABLE_ASSIGNMENT": true,
              "ENABLE_DATALINK": true,
              "FLATTEN_COLUMN_VALUES": true,
              "FLATTEN_INDEX_VALUES": false,
              "GENERATE_DEX_METADATA": false,
              "HTML_TABLE_SCHEMA": false,
              "LOG_LEVEL": 30,
              "MAX_RENDER_SIZE_BYTES": 104857600,
              "MAX_STRING_LENGTH": 250,
              "NUM_PAST_SAMPLES_TRACKED": 3,
              "RANDOM_STATE": 12648430,
              "RESET_INDEX_VALUES": false,
              "ROW_SAMPLING_METHOD": "random",
              "SAMPLING_FACTOR": 0.1,
              "SAMPLING_METHOD": "random",
              "STRINGIFY_COLUMN_VALUES": true,
              "STRINGIFY_INDEX_VALUES": false
            },
            "sample_history": [],
            "sampling_time": "2023-05-16T14:50:52.913817",
            "user_variable_name": null,
            "variable_name": "unk_dataframe_ba3c61c1017b4f36a43414d22541fb96"
          },
          "0c36548e-7ffc-43e1-933f-d65e0f4831b3": {
            "applied_filters": [],
            "dataframe_info": {
              "default_index_used": false,
              "orig_num_cols": 1,
              "orig_num_rows": 1001,
              "orig_size_bytes": 16016,
              "truncated_num_cols": 1,
              "truncated_num_rows": 1001,
              "truncated_size_bytes": 16016,
              "truncated_string_columns": []
            },
            "display_id": "0c36548e-7ffc-43e1-933f-d65e0f4831b3",
            "dx_settings": {
              "ALLOW_NOTEABLE_ATTRS": true,
              "COLUMN_SAMPLING_METHOD": "outer",
              "DB_LOCATION": ":memory:",
              "DEV_MODE": false,
              "DISPLAY_MAX_COLUMNS": 100,
              "DISPLAY_MAX_ROWS": 50000,
              "DISPLAY_MODE": "simple",
              "ENABLE_ASSIGNMENT": true,
              "ENABLE_DATALINK": true,
              "FLATTEN_COLUMN_VALUES": true,
              "FLATTEN_INDEX_VALUES": false,
              "GENERATE_DEX_METADATA": false,
              "HTML_TABLE_SCHEMA": false,
              "LOG_LEVEL": 30,
              "MAX_RENDER_SIZE_BYTES": 104857600,
              "MAX_STRING_LENGTH": 250,
              "NUM_PAST_SAMPLES_TRACKED": 3,
              "RANDOM_STATE": 12648430,
              "RESET_INDEX_VALUES": false,
              "ROW_SAMPLING_METHOD": "random",
              "SAMPLING_FACTOR": 0.1,
              "SAMPLING_METHOD": "random",
              "STRINGIFY_COLUMN_VALUES": true,
              "STRINGIFY_INDEX_VALUES": false
            },
            "sample_history": [],
            "sampling_time": "2023-05-16T14:43:10.882288",
            "user_variable_name": null,
            "variable_name": "unk_dataframe_f7629923812c4dc788e504a6e23b4bec"
          },
          "26f7edc3-a160-4209-a964-280330901643": {
            "applied_filters": [],
            "dataframe_info": {
              "default_index_used": false,
              "orig_num_cols": 1,
              "orig_num_rows": 1001,
              "orig_size_bytes": 16016,
              "truncated_num_cols": 1,
              "truncated_num_rows": 1001,
              "truncated_size_bytes": 16016,
              "truncated_string_columns": []
            },
            "display_id": "26f7edc3-a160-4209-a964-280330901643",
            "dx_settings": {
              "ALLOW_NOTEABLE_ATTRS": true,
              "COLUMN_SAMPLING_METHOD": "outer",
              "DB_LOCATION": ":memory:",
              "DEV_MODE": false,
              "DISPLAY_MAX_COLUMNS": 100,
              "DISPLAY_MAX_ROWS": 50000,
              "DISPLAY_MODE": "simple",
              "ENABLE_ASSIGNMENT": true,
              "ENABLE_DATALINK": true,
              "FLATTEN_COLUMN_VALUES": true,
              "FLATTEN_INDEX_VALUES": false,
              "GENERATE_DEX_METADATA": false,
              "HTML_TABLE_SCHEMA": false,
              "LOG_LEVEL": 30,
              "MAX_RENDER_SIZE_BYTES": 104857600,
              "MAX_STRING_LENGTH": 250,
              "NUM_PAST_SAMPLES_TRACKED": 3,
              "RANDOM_STATE": 12648430,
              "RESET_INDEX_VALUES": false,
              "ROW_SAMPLING_METHOD": "random",
              "SAMPLING_FACTOR": 0.1,
              "SAMPLING_METHOD": "random",
              "STRINGIFY_COLUMN_VALUES": true,
              "STRINGIFY_INDEX_VALUES": false
            },
            "sample_history": [],
            "sampling_time": "2023-05-16T16:52:26.392326",
            "user_variable_name": null,
            "variable_name": "unk_dataframe_1212cf0629904ef5a4e55efc7ad3279d"
          },
          "4a1797f7-d24b-4180-8964-c01540f7599b": {
            "applied_filters": [],
            "dataframe_info": {
              "default_index_used": false,
              "orig_num_cols": 1,
              "orig_num_rows": 1001,
              "orig_size_bytes": 16016,
              "truncated_num_cols": 1,
              "truncated_num_rows": 1001,
              "truncated_size_bytes": 16016,
              "truncated_string_columns": []
            },
            "display_id": "4a1797f7-d24b-4180-8964-c01540f7599b",
            "dx_settings": {
              "ALLOW_NOTEABLE_ATTRS": true,
              "COLUMN_SAMPLING_METHOD": "outer",
              "DB_LOCATION": ":memory:",
              "DEV_MODE": false,
              "DISPLAY_MAX_COLUMNS": 100,
              "DISPLAY_MAX_ROWS": 50000,
              "DISPLAY_MODE": "simple",
              "ENABLE_ASSIGNMENT": true,
              "ENABLE_DATALINK": true,
              "FLATTEN_COLUMN_VALUES": true,
              "FLATTEN_INDEX_VALUES": false,
              "GENERATE_DEX_METADATA": false,
              "HTML_TABLE_SCHEMA": false,
              "LOG_LEVEL": 30,
              "MAX_RENDER_SIZE_BYTES": 104857600,
              "MAX_STRING_LENGTH": 250,
              "NUM_PAST_SAMPLES_TRACKED": 3,
              "RANDOM_STATE": 12648430,
              "RESET_INDEX_VALUES": false,
              "ROW_SAMPLING_METHOD": "random",
              "SAMPLING_FACTOR": 0.1,
              "SAMPLING_METHOD": "random",
              "STRINGIFY_COLUMN_VALUES": true,
              "STRINGIFY_INDEX_VALUES": false
            },
            "sample_history": [],
            "sampling_time": "2023-05-15T19:30:02.564649",
            "user_variable_name": null,
            "variable_name": "unk_dataframe_4327cff1556f4305a72d63c964527135"
          },
          "5ab54e1d-1758-4018-84c5-7904263e9029": {
            "applied_filters": [],
            "dataframe_info": {
              "default_index_used": false,
              "orig_num_cols": 1,
              "orig_num_rows": 1001,
              "orig_size_bytes": 16016,
              "truncated_num_cols": 1,
              "truncated_num_rows": 1001,
              "truncated_size_bytes": 16016,
              "truncated_string_columns": []
            },
            "display_id": "5ab54e1d-1758-4018-84c5-7904263e9029",
            "dx_settings": {
              "ALLOW_NOTEABLE_ATTRS": true,
              "COLUMN_SAMPLING_METHOD": "outer",
              "DB_LOCATION": ":memory:",
              "DEV_MODE": false,
              "DISPLAY_MAX_COLUMNS": 100,
              "DISPLAY_MAX_ROWS": 50000,
              "DISPLAY_MODE": "simple",
              "ENABLE_ASSIGNMENT": true,
              "ENABLE_DATALINK": true,
              "FLATTEN_COLUMN_VALUES": true,
              "FLATTEN_INDEX_VALUES": false,
              "GENERATE_DEX_METADATA": false,
              "HTML_TABLE_SCHEMA": false,
              "LOG_LEVEL": 30,
              "MAX_RENDER_SIZE_BYTES": 104857600,
              "MAX_STRING_LENGTH": 250,
              "NUM_PAST_SAMPLES_TRACKED": 3,
              "RANDOM_STATE": 12648430,
              "RESET_INDEX_VALUES": false,
              "ROW_SAMPLING_METHOD": "random",
              "SAMPLING_FACTOR": 0.1,
              "SAMPLING_METHOD": "random",
              "STRINGIFY_COLUMN_VALUES": true,
              "STRINGIFY_INDEX_VALUES": false
            },
            "sample_history": [],
            "sampling_time": "2023-05-16T09:03:27.064197",
            "user_variable_name": null,
            "variable_name": "unk_dataframe_c6302e1df9a9461a824d02b256be6d7f"
          },
          "cbc49d05-4d5a-4fae-add0-c16ee5ab81a0": {
            "applied_filters": [],
            "dataframe_info": {
              "default_index_used": false,
              "orig_num_cols": 1,
              "orig_num_rows": 1001,
              "orig_size_bytes": 16016,
              "truncated_num_cols": 1,
              "truncated_num_rows": 1001,
              "truncated_size_bytes": 16016,
              "truncated_string_columns": []
            },
            "display_id": "cbc49d05-4d5a-4fae-add0-c16ee5ab81a0",
            "dx_settings": {
              "ALLOW_NOTEABLE_ATTRS": true,
              "COLUMN_SAMPLING_METHOD": "outer",
              "DB_LOCATION": ":memory:",
              "DEV_MODE": false,
              "DISPLAY_MAX_COLUMNS": 100,
              "DISPLAY_MAX_ROWS": 50000,
              "DISPLAY_MODE": "simple",
              "ENABLE_ASSIGNMENT": true,
              "ENABLE_DATALINK": true,
              "FLATTEN_COLUMN_VALUES": true,
              "FLATTEN_INDEX_VALUES": false,
              "GENERATE_DEX_METADATA": false,
              "HTML_TABLE_SCHEMA": false,
              "LOG_LEVEL": 30,
              "MAX_RENDER_SIZE_BYTES": 104857600,
              "MAX_STRING_LENGTH": 250,
              "NUM_PAST_SAMPLES_TRACKED": 3,
              "RANDOM_STATE": 12648430,
              "RESET_INDEX_VALUES": false,
              "ROW_SAMPLING_METHOD": "random",
              "SAMPLING_FACTOR": 0.1,
              "SAMPLING_METHOD": "random",
              "STRINGIFY_COLUMN_VALUES": true,
              "STRINGIFY_INDEX_VALUES": false
            },
            "sample_history": [],
            "sampling_time": "2023-05-16T10:10:35.793387",
            "user_variable_name": null,
            "variable_name": "unk_dataframe_c7e1c7f3d6524520a1c2403697df1fc9"
          },
          "e8afed46-9d2b-49f1-a128-fae731dc2140": {
            "applied_filters": [],
            "dataframe_info": {
              "default_index_used": false,
              "orig_num_cols": 1,
              "orig_num_rows": 1001,
              "orig_size_bytes": 16016,
              "truncated_num_cols": 1,
              "truncated_num_rows": 1001,
              "truncated_size_bytes": 16016,
              "truncated_string_columns": []
            },
            "display_id": "e8afed46-9d2b-49f1-a128-fae731dc2140",
            "dx_settings": {
              "ALLOW_NOTEABLE_ATTRS": true,
              "COLUMN_SAMPLING_METHOD": "outer",
              "DB_LOCATION": ":memory:",
              "DEV_MODE": false,
              "DISPLAY_MAX_COLUMNS": 100,
              "DISPLAY_MAX_ROWS": 50000,
              "DISPLAY_MODE": "simple",
              "ENABLE_ASSIGNMENT": true,
              "ENABLE_DATALINK": true,
              "FLATTEN_COLUMN_VALUES": true,
              "FLATTEN_INDEX_VALUES": false,
              "GENERATE_DEX_METADATA": false,
              "HTML_TABLE_SCHEMA": false,
              "LOG_LEVEL": 30,
              "MAX_RENDER_SIZE_BYTES": 104857600,
              "MAX_STRING_LENGTH": 250,
              "NUM_PAST_SAMPLES_TRACKED": 3,
              "RANDOM_STATE": 12648430,
              "RESET_INDEX_VALUES": false,
              "ROW_SAMPLING_METHOD": "random",
              "SAMPLING_FACTOR": 0.1,
              "SAMPLING_METHOD": "random",
              "STRINGIFY_COLUMN_VALUES": true,
              "STRINGIFY_INDEX_VALUES": false
            },
            "sample_history": [],
            "sampling_time": "2023-05-16T14:17:02.689159",
            "user_variable_name": null,
            "variable_name": "unk_dataframe_dd42fc43501e4f389fd91e3ad237875f"
          }
        },
        "noteable": {
          "cell_type": "code"
        },
        "noteable-chatgpt": {
          "version": "0.16.0"
        },
        "tags": [
          "show_line_numbers"
        ]
      },
      "outputs": [
        {
          "data": {
            "text/plain": [
              "storypoint      1.000000\n",
              "add_to_log      0.069414\n",
              "moodle          0.066475\n",
              "php             0.060118\n",
              "mod             0.053398\n",
              "                  ...   \n",
              "ti             -0.031883\n",
              "run            -0.032494\n",
              "createwindow   -0.032675\n",
              "win            -0.033037\n",
              "like           -0.040069\n",
              "Name: storypoint, Length: 1001, dtype: float64"
            ]
          },
          "execution_count": 43,
          "metadata": {},
          "output_type": "execute_result"
        }
      ],
      "source": [
        "from sklearn.feature_extraction.text import CountVectorizer\n",
        "# Create a CountVectorizer object\n",
        "vectorizer = CountVectorizer(stop_words='english', max_features=1000)\n",
        "# Fit and transform the 'description' column\n",
        "X = vectorizer.fit_transform(df['description'].dropna())\n",
        "# Create a dataframe from the transformed data\n",
        "word_count = pd.DataFrame(X.toarray(), columns=vectorizer.get_feature_names_out())\n",
        "# Add the 'storypoint' column to the dataframe\n",
        "word_count['storypoint'] = df['storypoint']\n",
        "# Calculate the correlation between the word count and 'storypoint'\n",
        "correlation = word_count.corr()['storypoint'].sort_values(ascending=False)\n",
        "correlation"
      ]
    },
    {
      "cell_type": "code",
      "execution_count": 44,
      "id": "1368367c-5b57-48b8-9273-711a6b60a3ab",
      "metadata": {
        "ExecuteTime": {
          "end_time": "2023-05-15T19:34:24.800050+00:00",
          "start_time": "2023-05-15T19:34:09.187618+00:00"
        },
        "datalink": {
          "bb69eeec-9319-47a2-b6bc-557d13bb6dd8": {
            "applied_filters": [],
            "dataframe_info": {
              "default_index_used": true,
              "orig_num_cols": 4,
              "orig_num_rows": 5,
              "orig_size_bytes": 288,
              "truncated_num_cols": 4,
              "truncated_num_rows": 5,
              "truncated_size_bytes": 288,
              "truncated_string_columns": [
                "description"
              ]
            },
            "display_id": "bb69eeec-9319-47a2-b6bc-557d13bb6dd8",
            "dx_settings": {
              "ALLOW_NOTEABLE_ATTRS": true,
              "COLUMN_SAMPLING_METHOD": "outer",
              "DB_LOCATION": ":memory:",
              "DEV_MODE": false,
              "DISPLAY_MAX_COLUMNS": 100,
              "DISPLAY_MAX_ROWS": 50000,
              "DISPLAY_MODE": "simple",
              "ENABLE_ASSIGNMENT": true,
              "ENABLE_DATALINK": true,
              "FLATTEN_COLUMN_VALUES": true,
              "FLATTEN_INDEX_VALUES": false,
              "GENERATE_DEX_METADATA": false,
              "HTML_TABLE_SCHEMA": false,
              "LOG_LEVEL": 30,
              "MAX_RENDER_SIZE_BYTES": 104857600,
              "MAX_STRING_LENGTH": 250,
              "NUM_PAST_SAMPLES_TRACKED": 3,
              "RANDOM_STATE": 12648430,
              "RESET_INDEX_VALUES": false,
              "ROW_SAMPLING_METHOD": "random",
              "SAMPLING_FACTOR": 0.1,
              "SAMPLING_METHOD": "random",
              "STRINGIFY_COLUMN_VALUES": true,
              "STRINGIFY_INDEX_VALUES": false
            },
            "sample_history": [],
            "sampling_time": "2023-05-15T19:34:24.642329",
            "user_variable_name": null,
            "variable_name": "unk_dataframe_31c2628c8b384646b30d3ee96c9620a5"
          }
        },
        "noteable": {
          "cell_type": "code"
        },
        "noteable-chatgpt": {
          "version": "0.16.0"
        },
        "tags": [
          "show_line_numbers"
        ]
      },
      "outputs": [
        {
          "data": {
            "text/html": [
              "<div>\n",
              "<style scoped>\n",
              "    .dataframe tbody tr th:only-of-type {\n",
              "        vertical-align: middle;\n",
              "    }\n",
              "\n",
              "    .dataframe tbody tr th {\n",
              "        vertical-align: top;\n",
              "    }\n",
              "\n",
              "    .dataframe thead th {\n",
              "        text-align: right;\n",
              "    }\n",
              "</style>\n",
              "<table border=\"1\" class=\"dataframe\">\n",
              "  <thead>\n",
              "    <tr style=\"text-align: right;\">\n",
              "      <th></th>\n",
              "      <th>title</th>\n",
              "      <th>description</th>\n",
              "      <th>storypoint</th>\n",
              "      <th>sentiment</th>\n",
              "    </tr>\n",
              "  </thead>\n",
              "  <tbody>\n",
              "    <tr>\n",
              "      <th>0</th>\n",
              "      <td>As a JIRA Administrator I would like to be abl...</td>\n",
              "      <td>NaN</td>\n",
              "      <td>5</td>\n",
              "      <td>NaN</td>\n",
              "    </tr>\n",
              "    <tr>\n",
              "      <th>1</th>\n",
              "      <td>As a JIRA Administrator I would like to be abl...</td>\n",
              "      <td>NaN</td>\n",
              "      <td>5</td>\n",
              "      <td>NaN</td>\n",
              "    </tr>\n",
              "    <tr>\n",
              "      <th>2</th>\n",
              "      <td>Generic webwork aliases may clash with other p...</td>\n",
              "      <td>Some web work actions have commands that have ...</td>\n",
              "      <td>5</td>\n",
              "      <td>0.063889</td>\n",
              "    </tr>\n",
              "    <tr>\n",
              "      <th>3</th>\n",
              "      <td>Generic webwork aliases may clash with other p...</td>\n",
              "      <td>Some web work actions have commands that have ...</td>\n",
              "      <td>5</td>\n",
              "      <td>0.063889</td>\n",
              "    </tr>\n",
              "    <tr>\n",
              "      <th>4</th>\n",
              "      <td>Add text to the Agile Gadget \"Invalid Project\"...</td>\n",
              "      <td>When the error is \"Invalid Project\" add detail...</td>\n",
              "      <td>2</td>\n",
              "      <td>0.000000</td>\n",
              "    </tr>\n",
              "  </tbody>\n",
              "</table>\n",
              "</div>"
            ],
            "text/plain": [
              "                                               title   \n",
              "0  As a JIRA Administrator I would like to be abl...  \\\n",
              "1  As a JIRA Administrator I would like to be abl...   \n",
              "2  Generic webwork aliases may clash with other p...   \n",
              "3  Generic webwork aliases may clash with other p...   \n",
              "4  Add text to the Agile Gadget \"Invalid Project\"...   \n",
              "\n",
              "                                         description  storypoint  sentiment  \n",
              "0                                                NaN           5        NaN  \n",
              "1                                                NaN           5        NaN  \n",
              "2  Some web work actions have commands that have ...           5   0.063889  \n",
              "3  Some web work actions have commands that have ...           5   0.063889  \n",
              "4  When the error is \"Invalid Project\" add detail...           2   0.000000  "
            ]
          },
          "execution_count": 44,
          "metadata": {},
          "output_type": "execute_result"
        }
      ],
      "source": [
        "from textblob import TextBlob\n",
        "\n",
        "# Function to get the polarity of text\n",
        "def get_polarity(text):\n",
        "    if isinstance(text, str):\n",
        "        return TextBlob(text).sentiment.polarity\n",
        "    else:\n",
        "        return None\n",
        "\n",
        "# Apply function to the 'description' column\n",
        "df['sentiment'] = df['description'].apply(get_polarity)\n",
        "\n",
        "# Display the dataframe with the new 'sentiment' column\n",
        "df.head()"
      ]
    },
    {
      "cell_type": "code",
      "execution_count": 45,
      "id": "558c9d77-43d4-44f5-b61d-1d042c0b3e1f",
      "metadata": {
        "ExecuteTime": {
          "end_time": "2023-05-15T19:37:34.521283+00:00",
          "start_time": "2023-05-15T19:37:17.864222+00:00"
        },
        "datalink": {
          "695a1585-ab34-486d-8aa4-3b55868fa663": {
            "applied_filters": [],
            "dataframe_info": {
              "default_index_used": true,
              "orig_num_cols": 4,
              "orig_num_rows": 5,
              "orig_size_bytes": 372,
              "truncated_num_cols": 4,
              "truncated_num_rows": 5,
              "truncated_size_bytes": 372,
              "truncated_string_columns": [
                "description"
              ]
            },
            "display_id": "695a1585-ab34-486d-8aa4-3b55868fa663",
            "dx_settings": {
              "ALLOW_NOTEABLE_ATTRS": true,
              "COLUMN_SAMPLING_METHOD": "outer",
              "DB_LOCATION": ":memory:",
              "DEV_MODE": false,
              "DISPLAY_MAX_COLUMNS": 100,
              "DISPLAY_MAX_ROWS": 50000,
              "DISPLAY_MODE": "simple",
              "ENABLE_ASSIGNMENT": true,
              "ENABLE_DATALINK": true,
              "FLATTEN_COLUMN_VALUES": true,
              "FLATTEN_INDEX_VALUES": false,
              "GENERATE_DEX_METADATA": false,
              "HTML_TABLE_SCHEMA": false,
              "LOG_LEVEL": 30,
              "MAX_RENDER_SIZE_BYTES": 104857600,
              "MAX_STRING_LENGTH": 250,
              "NUM_PAST_SAMPLES_TRACKED": 3,
              "RANDOM_STATE": 12648430,
              "RESET_INDEX_VALUES": false,
              "ROW_SAMPLING_METHOD": "random",
              "SAMPLING_FACTOR": 0.1,
              "SAMPLING_METHOD": "random",
              "STRINGIFY_COLUMN_VALUES": true,
              "STRINGIFY_INDEX_VALUES": false
            },
            "sample_history": [],
            "sampling_time": "2023-05-15T19:37:34.363631",
            "user_variable_name": null,
            "variable_name": "unk_dataframe_fe01106df119411da19f6bd7382f530b"
          }
        },
        "noteable": {
          "cell_type": "code"
        },
        "noteable-chatgpt": {
          "version": "0.16.0"
        },
        "tags": [
          "show_line_numbers"
        ]
      },
      "outputs": [
        {
          "name": "stderr",
          "output_type": "stream",
          "text": [
            "C:\\Users\\hawkp\\AppData\\Local\\Temp\\ipykernel_12260\\1539991893.py:4: SettingWithCopyWarning: \n",
            "A value is trying to be set on a copy of a slice from a DataFrame.\n",
            "Try using .loc[row_indexer,col_indexer] = value instead\n",
            "\n",
            "See the caveats in the documentation: https://pandas.pydata.org/pandas-docs/stable/user_guide/indexing.html#returning-a-view-versus-a-copy\n",
            "  df_clean['sentiment'] = df_clean['description'].apply(get_polarity)\n"
          ]
        },
        {
          "data": {
            "text/html": [
              "<div>\n",
              "<style scoped>\n",
              "    .dataframe tbody tr th:only-of-type {\n",
              "        vertical-align: middle;\n",
              "    }\n",
              "\n",
              "    .dataframe tbody tr th {\n",
              "        vertical-align: top;\n",
              "    }\n",
              "\n",
              "    .dataframe thead th {\n",
              "        text-align: right;\n",
              "    }\n",
              "</style>\n",
              "<table border=\"1\" class=\"dataframe\">\n",
              "  <thead>\n",
              "    <tr style=\"text-align: right;\">\n",
              "      <th></th>\n",
              "      <th>title</th>\n",
              "      <th>description</th>\n",
              "      <th>storypoint</th>\n",
              "      <th>sentiment</th>\n",
              "    </tr>\n",
              "  </thead>\n",
              "  <tbody>\n",
              "    <tr>\n",
              "      <th>2</th>\n",
              "      <td>Generic webwork aliases may clash with other p...</td>\n",
              "      <td>Some web work actions have commands that have ...</td>\n",
              "      <td>5</td>\n",
              "      <td>0.063889</td>\n",
              "    </tr>\n",
              "    <tr>\n",
              "      <th>3</th>\n",
              "      <td>Generic webwork aliases may clash with other p...</td>\n",
              "      <td>Some web work actions have commands that have ...</td>\n",
              "      <td>5</td>\n",
              "      <td>0.063889</td>\n",
              "    </tr>\n",
              "    <tr>\n",
              "      <th>4</th>\n",
              "      <td>Add text to the Agile Gadget \"Invalid Project\"...</td>\n",
              "      <td>When the error is \"Invalid Project\" add detail...</td>\n",
              "      <td>2</td>\n",
              "      <td>0.000000</td>\n",
              "    </tr>\n",
              "    <tr>\n",
              "      <th>5</th>\n",
              "      <td>Add text to the Agile Gadget \"Invalid Project\"...</td>\n",
              "      <td>When the error is \"Invalid Project\" add detail...</td>\n",
              "      <td>2</td>\n",
              "      <td>0.000000</td>\n",
              "    </tr>\n",
              "    <tr>\n",
              "      <th>6</th>\n",
              "      <td>Greenhopper ranking field is not displayed cor...</td>\n",
              "      <td>When using Greenhopper ranking field in conjun...</td>\n",
              "      <td>20</td>\n",
              "      <td>0.000000</td>\n",
              "    </tr>\n",
              "  </tbody>\n",
              "</table>\n",
              "</div>"
            ],
            "text/plain": [
              "                                               title   \n",
              "2  Generic webwork aliases may clash with other p...  \\\n",
              "3  Generic webwork aliases may clash with other p...   \n",
              "4  Add text to the Agile Gadget \"Invalid Project\"...   \n",
              "5  Add text to the Agile Gadget \"Invalid Project\"...   \n",
              "6  Greenhopper ranking field is not displayed cor...   \n",
              "\n",
              "                                         description  storypoint  sentiment  \n",
              "2  Some web work actions have commands that have ...           5   0.063889  \n",
              "3  Some web work actions have commands that have ...           5   0.063889  \n",
              "4  When the error is \"Invalid Project\" add detail...           2   0.000000  \n",
              "5  When the error is \"Invalid Project\" add detail...           2   0.000000  \n",
              "6  When using Greenhopper ranking field in conjun...          20   0.000000  "
            ]
          },
          "execution_count": 45,
          "metadata": {},
          "output_type": "execute_result"
        }
      ],
      "source": [
        "# Drop rows with NaN in the 'description' column\n",
        "df_clean = df.dropna(subset=['description'])\n",
        "# Apply function to the 'description' column of the cleaned dataframe\n",
        "df_clean['sentiment'] = df_clean['description'].apply(get_polarity)\n",
        "# Display the cleaned dataframe with the new 'sentiment' column\n",
        "df_clean.head()"
      ]
    },
    {
      "cell_type": "code",
      "execution_count": 46,
      "id": "c6c97122-fc71-48f3-8436-2bcc70122671",
      "metadata": {
        "ExecuteTime": {
          "end_time": "2023-05-15T19:40:45.047055+00:00",
          "start_time": "2023-05-15T19:40:44.827507+00:00"
        },
        "datalink": {
          "efd17322-7f54-4fe6-858e-f91c465a2c67": {
            "applied_filters": [],
            "dataframe_info": {
              "default_index_used": true,
              "orig_num_cols": 4,
              "orig_num_rows": 5,
              "orig_size_bytes": 288,
              "truncated_num_cols": 4,
              "truncated_num_rows": 5,
              "truncated_size_bytes": 288,
              "truncated_string_columns": [
                "description"
              ]
            },
            "display_id": "efd17322-7f54-4fe6-858e-f91c465a2c67",
            "dx_settings": {
              "ALLOW_NOTEABLE_ATTRS": true,
              "COLUMN_SAMPLING_METHOD": "outer",
              "DB_LOCATION": ":memory:",
              "DEV_MODE": false,
              "DISPLAY_MAX_COLUMNS": 100,
              "DISPLAY_MAX_ROWS": 50000,
              "DISPLAY_MODE": "simple",
              "ENABLE_ASSIGNMENT": true,
              "ENABLE_DATALINK": true,
              "FLATTEN_COLUMN_VALUES": true,
              "FLATTEN_INDEX_VALUES": false,
              "GENERATE_DEX_METADATA": false,
              "HTML_TABLE_SCHEMA": false,
              "LOG_LEVEL": 30,
              "MAX_RENDER_SIZE_BYTES": 104857600,
              "MAX_STRING_LENGTH": 250,
              "NUM_PAST_SAMPLES_TRACKED": 3,
              "RANDOM_STATE": 12648430,
              "RESET_INDEX_VALUES": false,
              "ROW_SAMPLING_METHOD": "random",
              "SAMPLING_FACTOR": 0.1,
              "SAMPLING_METHOD": "random",
              "STRINGIFY_COLUMN_VALUES": true,
              "STRINGIFY_INDEX_VALUES": false
            },
            "sample_history": [],
            "sampling_time": "2023-05-15T19:40:44.889820",
            "user_variable_name": null,
            "variable_name": "unk_dataframe_07e81afabd4043569b86a89ca3672ee6"
          }
        },
        "noteable": {
          "cell_type": "code"
        },
        "noteable-chatgpt": {
          "version": "0.16.0"
        },
        "tags": [
          "show_line_numbers"
        ]
      },
      "outputs": [
        {
          "data": {
            "text/html": [
              "<div>\n",
              "<style scoped>\n",
              "    .dataframe tbody tr th:only-of-type {\n",
              "        vertical-align: middle;\n",
              "    }\n",
              "\n",
              "    .dataframe tbody tr th {\n",
              "        vertical-align: top;\n",
              "    }\n",
              "\n",
              "    .dataframe thead th {\n",
              "        text-align: right;\n",
              "    }\n",
              "</style>\n",
              "<table border=\"1\" class=\"dataframe\">\n",
              "  <thead>\n",
              "    <tr style=\"text-align: right;\">\n",
              "      <th></th>\n",
              "      <th>title</th>\n",
              "      <th>description</th>\n",
              "      <th>storypoint</th>\n",
              "      <th>sentiment</th>\n",
              "    </tr>\n",
              "  </thead>\n",
              "  <tbody>\n",
              "    <tr>\n",
              "      <th>0</th>\n",
              "      <td>Generic webwork aliases may clash with other p...</td>\n",
              "      <td>Some web work actions have commands that have ...</td>\n",
              "      <td>5</td>\n",
              "      <td>0.063889</td>\n",
              "    </tr>\n",
              "    <tr>\n",
              "      <th>1</th>\n",
              "      <td>Generic webwork aliases may clash with other p...</td>\n",
              "      <td>Some web work actions have commands that have ...</td>\n",
              "      <td>5</td>\n",
              "      <td>0.063889</td>\n",
              "    </tr>\n",
              "    <tr>\n",
              "      <th>2</th>\n",
              "      <td>Add text to the Agile Gadget \"Invalid Project\"...</td>\n",
              "      <td>When the error is \"Invalid Project\" add detail...</td>\n",
              "      <td>2</td>\n",
              "      <td>0.000000</td>\n",
              "    </tr>\n",
              "    <tr>\n",
              "      <th>3</th>\n",
              "      <td>Add text to the Agile Gadget \"Invalid Project\"...</td>\n",
              "      <td>When the error is \"Invalid Project\" add detail...</td>\n",
              "      <td>2</td>\n",
              "      <td>0.000000</td>\n",
              "    </tr>\n",
              "    <tr>\n",
              "      <th>4</th>\n",
              "      <td>Greenhopper ranking field is not displayed cor...</td>\n",
              "      <td>When using Greenhopper ranking field in conjun...</td>\n",
              "      <td>20</td>\n",
              "      <td>0.000000</td>\n",
              "    </tr>\n",
              "  </tbody>\n",
              "</table>\n",
              "</div>"
            ],
            "text/plain": [
              "                                               title   \n",
              "0  Generic webwork aliases may clash with other p...  \\\n",
              "1  Generic webwork aliases may clash with other p...   \n",
              "2  Add text to the Agile Gadget \"Invalid Project\"...   \n",
              "3  Add text to the Agile Gadget \"Invalid Project\"...   \n",
              "4  Greenhopper ranking field is not displayed cor...   \n",
              "\n",
              "                                         description  storypoint  sentiment  \n",
              "0  Some web work actions have commands that have ...           5   0.063889  \n",
              "1  Some web work actions have commands that have ...           5   0.063889  \n",
              "2  When the error is \"Invalid Project\" add detail...           2   0.000000  \n",
              "3  When the error is \"Invalid Project\" add detail...           2   0.000000  \n",
              "4  When using Greenhopper ranking field in conjun...          20   0.000000  "
            ]
          },
          "execution_count": 46,
          "metadata": {},
          "output_type": "execute_result"
        }
      ],
      "source": [
        "# Drop rows with NaN in any column\n",
        "df_clean = df.dropna()\n",
        "# Reset the index of the cleaned dataframe\n",
        "df_clean.reset_index(drop=True, inplace=True)\n",
        "# Display the cleaned dataframe\n",
        "df_clean.head()"
      ]
    },
    {
      "cell_type": "code",
      "execution_count": 47,
      "id": "e428a946-7fb9-401d-96bb-1f1df20be6cf",
      "metadata": {
        "ExecuteTime": {
          "end_time": "2023-05-15T19:54:43.583630+00:00",
          "start_time": "2023-05-15T19:54:43.045286+00:00"
        },
        "jupyter": {
          "outputs_hidden": false,
          "source_hidden": false
        },
        "noteable": {
          "cell_type": "code"
        },
        "tags": [
          "show_line_numbers"
        ]
      },
      "outputs": [
        {
          "name": "stderr",
          "output_type": "stream",
          "text": [
            "[nltk_data] Downloading package stopwords to\n",
            "[nltk_data]     C:\\Users\\hawkp\\AppData\\Roaming\\nltk_data...\n",
            "[nltk_data]   Package stopwords is already up-to-date!\n",
            "[nltk_data] Downloading package punkt to\n",
            "[nltk_data]     C:\\Users\\hawkp\\AppData\\Roaming\\nltk_data...\n",
            "[nltk_data]   Package punkt is already up-to-date!\n"
          ]
        },
        {
          "data": {
            "text/plain": [
              "True"
            ]
          },
          "execution_count": 47,
          "metadata": {},
          "output_type": "execute_result"
        }
      ],
      "source": [
        "import nltk\n",
        "\n",
        "nltk.download('stopwords')\n",
        "nltk.download('punkt')"
      ]
    },
    {
      "cell_type": "code",
      "execution_count": 48,
      "id": "8fa58f6c-0935-4bab-ad49-59ab55d23842",
      "metadata": {
        "ExecuteTime": {
          "end_time": "2023-05-15T20:04:53.745848+00:00",
          "start_time": "2023-05-15T20:04:28.778853+00:00"
        },
        "datalink": {
          "a9b5e6a2-bdbb-49df-b4fd-e66d5945844c": {
            "applied_filters": [],
            "dataframe_info": {
              "default_index_used": true,
              "orig_num_cols": 3,
              "orig_num_rows": 5,
              "orig_size_bytes": 248,
              "truncated_num_cols": 3,
              "truncated_num_rows": 5,
              "truncated_size_bytes": 248,
              "truncated_string_columns": [
                "text"
              ]
            },
            "display_id": "a9b5e6a2-bdbb-49df-b4fd-e66d5945844c",
            "dx_settings": {
              "ALLOW_NOTEABLE_ATTRS": true,
              "COLUMN_SAMPLING_METHOD": "outer",
              "DB_LOCATION": ":memory:",
              "DEV_MODE": false,
              "DISPLAY_MAX_COLUMNS": 100,
              "DISPLAY_MAX_ROWS": 50000,
              "DISPLAY_MODE": "simple",
              "ENABLE_ASSIGNMENT": true,
              "ENABLE_DATALINK": true,
              "FLATTEN_COLUMN_VALUES": true,
              "FLATTEN_INDEX_VALUES": false,
              "GENERATE_DEX_METADATA": false,
              "HTML_TABLE_SCHEMA": false,
              "LOG_LEVEL": 30,
              "MAX_RENDER_SIZE_BYTES": 104857600,
              "MAX_STRING_LENGTH": 250,
              "NUM_PAST_SAMPLES_TRACKED": 3,
              "RANDOM_STATE": 12648430,
              "RESET_INDEX_VALUES": false,
              "ROW_SAMPLING_METHOD": "random",
              "SAMPLING_FACTOR": 0.1,
              "SAMPLING_METHOD": "random",
              "STRINGIFY_COLUMN_VALUES": true,
              "STRINGIFY_INDEX_VALUES": false
            },
            "sample_history": [],
            "sampling_time": "2023-05-15T20:04:53.589777",
            "user_variable_name": null,
            "variable_name": "unk_dataframe_f7f26303892c413881123eff50d21aac"
          }
        },
        "noteable": {
          "cell_type": "code"
        },
        "noteable-chatgpt": {
          "version": "0.16.0"
        },
        "tags": [
          "show_line_numbers"
        ]
      },
      "outputs": [
        {
          "name": "stderr",
          "output_type": "stream",
          "text": [
            "C:\\Users\\hawkp\\AppData\\Local\\Temp\\ipykernel_12260\\2624240021.py:19: MarkupResemblesLocatorWarning: The input looks more like a filename than markup. You may want to open this file and pass the filehandle into Beautiful Soup.\n",
            "  text = BeautifulSoup(text, 'html.parser').get_text()\n",
            "c:\\Users\\hawkp\\miniconda3\\envs\\agile\\lib\\site-packages\\bs4\\builder\\__init__.py:545: XMLParsedAsHTMLWarning: It looks like you're parsing an XML document using an HTML parser. If this really is an HTML document (maybe it's XHTML?), you can ignore or filter this warning. If it's XML, you should know that using an XML parser will be more reliable. To parse this document as XML, make sure you have the lxml package installed, and pass the keyword argument `features=\"xml\"` into the BeautifulSoup constructor.\n",
            "  warnings.warn(\n"
          ]
        },
        {
          "data": {
            "text/html": [
              "<div>\n",
              "<style scoped>\n",
              "    .dataframe tbody tr th:only-of-type {\n",
              "        vertical-align: middle;\n",
              "    }\n",
              "\n",
              "    .dataframe tbody tr th {\n",
              "        vertical-align: top;\n",
              "    }\n",
              "\n",
              "    .dataframe thead th {\n",
              "        text-align: right;\n",
              "    }\n",
              "</style>\n",
              "<table border=\"1\" class=\"dataframe\">\n",
              "  <thead>\n",
              "    <tr style=\"text-align: right;\">\n",
              "      <th></th>\n",
              "      <th>storypoint</th>\n",
              "      <th>sentiment</th>\n",
              "      <th>text</th>\n",
              "    </tr>\n",
              "  </thead>\n",
              "  <tbody>\n",
              "    <tr>\n",
              "      <th>0</th>\n",
              "      <td>5</td>\n",
              "      <td>0.063889</td>\n",
              "      <td>Generic webwork aliases may clash plugins Some...</td>\n",
              "    </tr>\n",
              "    <tr>\n",
              "      <th>1</th>\n",
              "      <td>5</td>\n",
              "      <td>0.063889</td>\n",
              "      <td>Generic webwork aliases may clash plugins Some...</td>\n",
              "    </tr>\n",
              "    <tr>\n",
              "      <th>2</th>\n",
              "      <td>2</td>\n",
              "      <td>0.000000</td>\n",
              "      <td>Add text Agile Gadget Invalid Project message ...</td>\n",
              "    </tr>\n",
              "    <tr>\n",
              "      <th>3</th>\n",
              "      <td>2</td>\n",
              "      <td>0.000000</td>\n",
              "      <td>Add text Agile Gadget Invalid Project message ...</td>\n",
              "    </tr>\n",
              "    <tr>\n",
              "      <th>4</th>\n",
              "      <td>20</td>\n",
              "      <td>0.000000</td>\n",
              "      <td>Greenhopper ranking field displayed correctly ...</td>\n",
              "    </tr>\n",
              "  </tbody>\n",
              "</table>\n",
              "</div>"
            ],
            "text/plain": [
              "   storypoint  sentiment                                               text\n",
              "0           5   0.063889  Generic webwork aliases may clash plugins Some...\n",
              "1           5   0.063889  Generic webwork aliases may clash plugins Some...\n",
              "2           2   0.000000  Add text Agile Gadget Invalid Project message ...\n",
              "3           2   0.000000  Add text Agile Gadget Invalid Project message ...\n",
              "4          20   0.000000  Greenhopper ranking field displayed correctly ..."
            ]
          },
          "execution_count": 48,
          "metadata": {},
          "output_type": "execute_result"
        }
      ],
      "source": [
        "import re\n",
        "import nltk\n",
        "from bs4 import BeautifulSoup\n",
        "from nltk.corpus import stopwords\n",
        "from nltk.tokenize import word_tokenize\n",
        "\n",
        "# Create a deep copy of the original dataframe\n",
        "df_cleaned = df_clean.copy()\n",
        "\n",
        "# Combine 'title' and 'description' columns into a single column\n",
        "df_cleaned['text'] = df_cleaned['title'] + ' ' + df_cleaned['description']\n",
        "\n",
        "# Drop the 'title' and 'description' columns\n",
        "df_cleaned.drop(['title', 'description'], axis=1, inplace=True)\n",
        "\n",
        "# Function to clean text\n",
        "def clean_text(text):\n",
        "    # Remove HTML tags\n",
        "    text = BeautifulSoup(text, 'html.parser').get_text()\n",
        "\n",
        "    # Remove whitespaces\n",
        "    text = text.strip()\n",
        "\n",
        "    # Remove {code} tags\n",
        "    text = re.sub(r'\\{code[^\\}]*\\}[^\\{]*\\{code\\}', '', text)\n",
        "\n",
        "    # Remove URLs\n",
        "    text = re.sub(r'http\\S+|www\\S+', '', text)\n",
        "\n",
        "    # Tokenize text and remove stopwords and punctuations\n",
        "    stop_words = set(stopwords.words('english'))\n",
        "    tokens = word_tokenize(text)\n",
        "    tokens = [token for token in tokens if token.isalpha() and token not in stop_words]\n",
        "\n",
        "    return ' '.join(tokens)\n",
        "\n",
        "# Apply function to the 'text' column\n",
        "df_cleaned['text'] = df_cleaned['text'].apply(clean_text)\n",
        "\n",
        "# Display the cleaned dataframe\n",
        "df_cleaned.head()"
      ]
    },
    {
      "cell_type": "code",
      "execution_count": 49,
      "id": "3cb6b6e8-fd4b-4345-bc21-432ca6edf0b8",
      "metadata": {
        "ExecuteTime": {
          "end_time": "2023-05-15T20:13:45.272248+00:00",
          "start_time": "2023-05-15T20:13:45.044372+00:00"
        },
        "datalink": {
          "a9869979-6d09-4382-aeaa-e7d9e7d9ef70": {
            "applied_filters": [],
            "dataframe_info": {
              "default_index_used": true,
              "orig_num_cols": 4,
              "orig_num_rows": 5,
              "orig_size_bytes": 288,
              "truncated_num_cols": 4,
              "truncated_num_rows": 5,
              "truncated_size_bytes": 288,
              "truncated_string_columns": [
                "text"
              ]
            },
            "display_id": "a9869979-6d09-4382-aeaa-e7d9e7d9ef70",
            "dx_settings": {
              "ALLOW_NOTEABLE_ATTRS": true,
              "COLUMN_SAMPLING_METHOD": "outer",
              "DB_LOCATION": ":memory:",
              "DEV_MODE": false,
              "DISPLAY_MAX_COLUMNS": 100,
              "DISPLAY_MAX_ROWS": 50000,
              "DISPLAY_MODE": "simple",
              "ENABLE_ASSIGNMENT": true,
              "ENABLE_DATALINK": true,
              "FLATTEN_COLUMN_VALUES": true,
              "FLATTEN_INDEX_VALUES": false,
              "GENERATE_DEX_METADATA": false,
              "HTML_TABLE_SCHEMA": false,
              "LOG_LEVEL": 30,
              "MAX_RENDER_SIZE_BYTES": 104857600,
              "MAX_STRING_LENGTH": 250,
              "NUM_PAST_SAMPLES_TRACKED": 3,
              "RANDOM_STATE": 12648430,
              "RESET_INDEX_VALUES": false,
              "ROW_SAMPLING_METHOD": "random",
              "SAMPLING_FACTOR": 0.1,
              "SAMPLING_METHOD": "random",
              "STRINGIFY_COLUMN_VALUES": true,
              "STRINGIFY_INDEX_VALUES": false
            },
            "sample_history": [],
            "sampling_time": "2023-05-15T20:13:45.114597",
            "user_variable_name": null,
            "variable_name": "unk_dataframe_a16b27aa5bff4eb2b1c2ce788a1c50b3"
          }
        },
        "noteable": {
          "cell_type": "code"
        },
        "noteable-chatgpt": {
          "version": "0.16.0"
        },
        "tags": [
          "show_line_numbers"
        ]
      },
      "outputs": [
        {
          "data": {
            "text/html": [
              "<div>\n",
              "<style scoped>\n",
              "    .dataframe tbody tr th:only-of-type {\n",
              "        vertical-align: middle;\n",
              "    }\n",
              "\n",
              "    .dataframe tbody tr th {\n",
              "        vertical-align: top;\n",
              "    }\n",
              "\n",
              "    .dataframe thead th {\n",
              "        text-align: right;\n",
              "    }\n",
              "</style>\n",
              "<table border=\"1\" class=\"dataframe\">\n",
              "  <thead>\n",
              "    <tr style=\"text-align: right;\">\n",
              "      <th></th>\n",
              "      <th>storypoint</th>\n",
              "      <th>sentiment</th>\n",
              "      <th>text</th>\n",
              "      <th>class</th>\n",
              "    </tr>\n",
              "  </thead>\n",
              "  <tbody>\n",
              "    <tr>\n",
              "      <th>0</th>\n",
              "      <td>5</td>\n",
              "      <td>0.063889</td>\n",
              "      <td>Generic webwork aliases may clash plugins Some...</td>\n",
              "      <td>0</td>\n",
              "    </tr>\n",
              "    <tr>\n",
              "      <th>1</th>\n",
              "      <td>5</td>\n",
              "      <td>0.063889</td>\n",
              "      <td>Generic webwork aliases may clash plugins Some...</td>\n",
              "      <td>0</td>\n",
              "    </tr>\n",
              "    <tr>\n",
              "      <th>2</th>\n",
              "      <td>2</td>\n",
              "      <td>0.000000</td>\n",
              "      <td>Add text Agile Gadget Invalid Project message ...</td>\n",
              "      <td>0</td>\n",
              "    </tr>\n",
              "    <tr>\n",
              "      <th>3</th>\n",
              "      <td>2</td>\n",
              "      <td>0.000000</td>\n",
              "      <td>Add text Agile Gadget Invalid Project message ...</td>\n",
              "      <td>0</td>\n",
              "    </tr>\n",
              "    <tr>\n",
              "      <th>4</th>\n",
              "      <td>20</td>\n",
              "      <td>0.000000</td>\n",
              "      <td>Greenhopper ranking field displayed correctly ...</td>\n",
              "      <td>1</td>\n",
              "    </tr>\n",
              "  </tbody>\n",
              "</table>\n",
              "</div>"
            ],
            "text/plain": [
              "   storypoint  sentiment                                               text   \n",
              "0           5   0.063889  Generic webwork aliases may clash plugins Some...  \\\n",
              "1           5   0.063889  Generic webwork aliases may clash plugins Some...   \n",
              "2           2   0.000000  Add text Agile Gadget Invalid Project message ...   \n",
              "3           2   0.000000  Add text Agile Gadget Invalid Project message ...   \n",
              "4          20   0.000000  Greenhopper ranking field displayed correctly ...   \n",
              "\n",
              "   class  \n",
              "0      0  \n",
              "1      0  \n",
              "2      0  \n",
              "3      0  \n",
              "4      1  "
            ]
          },
          "execution_count": 49,
          "metadata": {},
          "output_type": "execute_result"
        }
      ],
      "source": [
        "# Create classes from 'storypoint' column\n",
        "def classify_storypoint(storypoint):\n",
        "    if storypoint <= 10:\n",
        "        return 0  # easy\n",
        "    elif storypoint <= 20:\n",
        "        return 1  # medium\n",
        "    else:\n",
        "        return 2  # complex\n",
        "\n",
        "df_cleaned['class'] = df_cleaned['storypoint'].apply(classify_storypoint)\n",
        "\n",
        "# Display the dataframe\n",
        "df_cleaned.head()"
      ]
    },
    {
      "cell_type": "code",
      "execution_count": 50,
      "id": "5c04daed-a861-4665-8810-660a42e337c6",
      "metadata": {
        "ExecuteTime": {
          "end_time": "2023-05-15T20:20:05.640800+00:00",
          "start_time": "2023-05-15T20:20:05.423753+00:00"
        },
        "datalink": {
          "dba89a2e-fe57-4031-acaa-821fed506e58": {
            "applied_filters": [],
            "dataframe_info": {
              "default_index_used": true,
              "orig_num_cols": 1,
              "orig_num_rows": 3,
              "orig_size_bytes": 156,
              "truncated_num_cols": 1,
              "truncated_num_rows": 3,
              "truncated_size_bytes": 156,
              "truncated_string_columns": []
            },
            "display_id": "dba89a2e-fe57-4031-acaa-821fed506e58",
            "dx_settings": {
              "ALLOW_NOTEABLE_ATTRS": true,
              "COLUMN_SAMPLING_METHOD": "outer",
              "DB_LOCATION": ":memory:",
              "DEV_MODE": false,
              "DISPLAY_MAX_COLUMNS": 100,
              "DISPLAY_MAX_ROWS": 50000,
              "DISPLAY_MODE": "simple",
              "ENABLE_ASSIGNMENT": true,
              "ENABLE_DATALINK": true,
              "FLATTEN_COLUMN_VALUES": true,
              "FLATTEN_INDEX_VALUES": false,
              "GENERATE_DEX_METADATA": false,
              "HTML_TABLE_SCHEMA": false,
              "LOG_LEVEL": 30,
              "MAX_RENDER_SIZE_BYTES": 104857600,
              "MAX_STRING_LENGTH": 250,
              "NUM_PAST_SAMPLES_TRACKED": 3,
              "RANDOM_STATE": 12648430,
              "RESET_INDEX_VALUES": false,
              "ROW_SAMPLING_METHOD": "random",
              "SAMPLING_FACTOR": 0.1,
              "SAMPLING_METHOD": "random",
              "STRINGIFY_COLUMN_VALUES": true,
              "STRINGIFY_INDEX_VALUES": false
            },
            "sample_history": [],
            "sampling_time": "2023-05-15T20:20:05.484858",
            "user_variable_name": null,
            "variable_name": "unk_dataframe_48e045e68681436e9a517c262624bcce"
          }
        },
        "noteable": {
          "cell_type": "code"
        },
        "noteable-chatgpt": {
          "version": "0.16.0"
        },
        "tags": [
          "show_line_numbers"
        ]
      },
      "outputs": [
        {
          "data": {
            "text/plain": [
              "class\n",
              "0    18775\n",
              "1    18775\n",
              "2    18775\n",
              "Name: count, dtype: int64"
            ]
          },
          "execution_count": 50,
          "metadata": {},
          "output_type": "execute_result"
        }
      ],
      "source": [
        "from sklearn.utils import resample\n",
        "\n",
        "# Separate majority and minority classes\n",
        "df_majority = df_cleaned[df_cleaned['class']==0]\n",
        "df_minority_1 = df_cleaned[df_cleaned['class']==1]\n",
        "df_minority_2 = df_cleaned[df_cleaned['class']==2]\n",
        "\n",
        "# Upsample minority class\n",
        "df_minority_upsampled_1 = resample(df_minority_1,\n",
        "                                 replace=True,     # sample with replacement\n",
        "                                 n_samples=df_majority.shape[0],    # to match majority class\n",
        "                                 random_state=123) # reproducible results\n",
        "\n",
        "df_minority_upsampled_2 = resample(df_minority_2,\n",
        "                                 replace=True,     # sample with replacement\n",
        "                                 n_samples=df_majority.shape[0],    # to match majority class\n",
        "                                 random_state=123) # reproducible results\n",
        "\n",
        "# Combine majority class with upsampled minority class\n",
        "df_upsampled = pd.concat([df_majority, df_minority_upsampled_1, df_minority_upsampled_2])\n",
        "\n",
        "# Display new class counts\n",
        "df_upsampled['class'].value_counts()"
      ]
    },
    {
      "cell_type": "code",
      "execution_count": 51,
      "id": "f17f6c2b-aa87-4a7e-a4f8-616c88b84665",
      "metadata": {
        "ExecuteTime": {
          "end_time": "2023-05-15T20:21:28.611832+00:00",
          "start_time": "2023-05-15T20:21:25.901977+00:00"
        },
        "noteable": {
          "cell_type": "code"
        },
        "noteable-chatgpt": {
          "version": "0.16.0"
        },
        "tags": [
          "show_line_numbers"
        ]
      },
      "outputs": [
        {
          "data": {
            "text/plain": [
              "(56325, 1000)"
            ]
          },
          "execution_count": 51,
          "metadata": {},
          "output_type": "execute_result"
        }
      ],
      "source": [
        "from sklearn.feature_extraction.text import TfidfVectorizer\n",
        "\n",
        "# Initialize a TfidfVectorizer\n",
        "tfidf_vectorizer = TfidfVectorizer(max_df=0.90, min_df=2, max_features=1000, stop_words='english')\n",
        "\n",
        "# Fit and transform the vectorizer on the text column\n",
        "tfidf = tfidf_vectorizer.fit_transform(df_upsampled['text'])\n",
        "\n",
        "# Display the shape of the transformed data\n",
        "tfidf.shape"
      ]
    },
    {
      "cell_type": "code",
      "execution_count": 52,
      "id": "1a239754-c808-4266-8d1d-71f2eaf4b337",
      "metadata": {
        "ExecuteTime": {
          "end_time": "2023-05-15T20:32:53.213671+00:00",
          "start_time": "2023-05-15T20:32:53.032069+00:00"
        },
        "noteable": {
          "cell_type": "code"
        },
        "noteable-chatgpt": {
          "version": "0.16.0"
        },
        "tags": [
          "show_line_numbers"
        ]
      },
      "outputs": [
        {
          "data": {
            "text/plain": [
              "((33795, 1000), (11265, 1000), (11265, 1000))"
            ]
          },
          "execution_count": 52,
          "metadata": {},
          "output_type": "execute_result"
        }
      ],
      "source": [
        "from sklearn.model_selection import train_test_split\n",
        "\n",
        "# Split the dataset into training, testing and validation data\n",
        "X = tfidf\n",
        "y = df_upsampled['class']\n",
        "\n",
        "X_train, X_test, y_train, y_test = train_test_split(X, y, test_size=0.2, random_state=42)\n",
        "X_train, X_val, y_train, y_val = train_test_split(X_train, y_train, test_size=0.25, random_state=42)  # 0.25 x 0.8 = 0.2\n",
        "\n",
        "# Display the shapes of the splits\n",
        "X_train.shape, X_val.shape, X_test.shape"
      ]
    },
    {
      "cell_type": "code",
      "execution_count": 53,
      "id": "a3b7026b",
      "metadata": {},
      "outputs": [
        {
          "name": "stdout",
          "output_type": "stream",
          "text": [
            "Accuracy:  0.7282734132268087\n",
            "              precision    recall  f1-score   support\n",
            "\n",
            "           0       0.71      0.67      0.69      3768\n",
            "           1       0.68      0.65      0.66      3754\n",
            "           2       0.78      0.86      0.82      3743\n",
            "\n",
            "    accuracy                           0.73     11265\n",
            "   macro avg       0.73      0.73      0.73     11265\n",
            "weighted avg       0.73      0.73      0.73     11265\n",
            "\n"
          ]
        },
        {
          "data": {
            "text/plain": [
              "Text(95.72222222222221, 0.5, 'Truth')"
            ]
          },
          "execution_count": 53,
          "metadata": {},
          "output_type": "execute_result"
        },
        {
          "data": {
            "image/png": "[encoded data removed]",
            "text/plain": [
              "<Figure size 1000x700 with 2 Axes>"
            ]
          },
          "metadata": {},
          "output_type": "display_data"
        }
      ],
      "source": [
        "from sklearn.linear_model import LogisticRegression\n",
        "from sklearn.metrics import classification_report, confusion_matrix, accuracy_score\n",
        "import matplotlib.pyplot as plt\n",
        "import seaborn as sns\n",
        "\n",
        "# Initialize a Logistic Regression model\n",
        "model = LogisticRegression(solver='liblinear', random_state=0)\n",
        "\n",
        "# Train the model\n",
        "model.fit(X_train, y_train)\n",
        "\n",
        "# Predict the validation set results\n",
        "y_test_pred = model.predict(X_test)\n",
        "\n",
        "# Print accuracy score\n",
        "print('Accuracy: ', accuracy_score(y_test, y_test_pred))\n",
        "\n",
        "# Print classification report\n",
        "print(classification_report(y_test, y_test_pred))\n",
        "\n",
        "# Compute confusion matrix\n",
        "cm = confusion_matrix(y_test, y_test_pred)\n",
        "\n",
        "# Plot confusion matrix\n",
        "plt.figure(figsize=(10,7))\n",
        "sns.heatmap(cm, annot=True)\n",
        "plt.xlabel('Predicted')\n",
        "plt.ylabel('Truth')"
      ]
    },
    {
      "attachments": {},
      "cell_type": "markdown",
      "id": "912ad778",
      "metadata": {},
      "source": [
        "##### Till here ChatGPT created notebook"
      ]
    },
    {
      "cell_type": "code",
      "execution_count": 58,
      "id": "1925cb70",
      "metadata": {},
      "outputs": [],
      "source": [
        "df_upsampled.to_csv('cleaned.csv')"
      ]
    },
    {
      "cell_type": "code",
      "execution_count": null,
      "id": "a19e092f",
      "metadata": {},
      "outputs": [],
      "source": []
    },
    {
      "cell_type": "code",
      "execution_count": null,
      "id": "282308d9",
      "metadata": {},
      "outputs": [],
      "source": []
    },
    {
      "cell_type": "code",
      "execution_count": null,
      "id": "477106e9",
      "metadata": {},
      "outputs": [],
      "source": []
    },
    {
      "cell_type": "code",
      "execution_count": null,
      "id": "2a845078",
      "metadata": {},
      "outputs": [],
      "source": []
    },
    {
      "cell_type": "code",
      "execution_count": null,
      "id": "dcbe5205",
      "metadata": {},
      "outputs": [],
      "source": []
    },
    {
      "cell_type": "code",
      "execution_count": 55,
      "id": "7ec349c9",
      "metadata": {},
      "outputs": [
        {
          "ename": "TypeError",
          "evalue": "(): incompatible function arguments. The following argument types are supported:\n    1. (self: fasttext_pybind.args, arg0: str) -> None\n\nInvoked with: <fasttext_pybind.args object at 0x0000020888B6A830>, array([[0.        , 0.        , 0.        , ..., 0.        , 0.16058383,\n        0.        ],\n       [0.        , 0.        , 0.        , ..., 0.        , 0.16058383,\n        0.        ],\n       [0.        , 0.        , 0.        , ..., 0.        , 0.        ,\n        0.        ],\n       ...,\n       [0.        , 0.        , 0.        , ..., 0.        , 0.        ,\n        0.        ],\n       [0.        , 0.        , 0.        , ..., 0.        , 0.        ,\n        0.        ],\n       [0.        , 0.        , 0.        , ..., 0.        , 0.        ,\n        0.        ]])",
          "output_type": "error",
          "traceback": [
            "\u001b[1;31m---------------------------------------------------------------------------\u001b[0m",
            "\u001b[1;31mTypeError\u001b[0m                                 Traceback (most recent call last)",
            "Cell \u001b[1;32mIn[55], line 3\u001b[0m\n\u001b[0;32m      1\u001b[0m \u001b[39mimport\u001b[39;00m \u001b[39mfasttext\u001b[39;00m\n\u001b[1;32m----> 3\u001b[0m model \u001b[39m=\u001b[39m fasttext\u001b[39m.\u001b[39;49mtrain_unsupervised(X\u001b[39m.\u001b[39;49mtoarray())\n\u001b[0;32m      4\u001b[0m model\u001b[39m.\u001b[39msave_model(\u001b[39mf\u001b[39m\u001b[39m\"\u001b[39m\u001b[39m{\u001b[39;00mFASTTEXT_MODEL_DIR\u001b[39m}\u001b[39;00m\u001b[39m/fasttext_supervised_model.bin\u001b[39m\u001b[39m\"\u001b[39m)\n",
            "File \u001b[1;32mc:\\Users\\hawkp\\miniconda3\\envs\\agile\\lib\\site-packages\\fasttext\\FastText.py:557\u001b[0m, in \u001b[0;36mtrain_unsupervised\u001b[1;34m(*kargs, **kwargs)\u001b[0m\n\u001b[0;32m    552\u001b[0m arg_names \u001b[39m=\u001b[39m [\u001b[39m'\u001b[39m\u001b[39minput\u001b[39m\u001b[39m'\u001b[39m, \u001b[39m'\u001b[39m\u001b[39mmodel\u001b[39m\u001b[39m'\u001b[39m, \u001b[39m'\u001b[39m\u001b[39mlr\u001b[39m\u001b[39m'\u001b[39m, \u001b[39m'\u001b[39m\u001b[39mdim\u001b[39m\u001b[39m'\u001b[39m, \u001b[39m'\u001b[39m\u001b[39mws\u001b[39m\u001b[39m'\u001b[39m, \u001b[39m'\u001b[39m\u001b[39mepoch\u001b[39m\u001b[39m'\u001b[39m, \u001b[39m'\u001b[39m\u001b[39mminCount\u001b[39m\u001b[39m'\u001b[39m,\n\u001b[0;32m    553\u001b[0m              \u001b[39m'\u001b[39m\u001b[39mminCountLabel\u001b[39m\u001b[39m'\u001b[39m, \u001b[39m'\u001b[39m\u001b[39mminn\u001b[39m\u001b[39m'\u001b[39m, \u001b[39m'\u001b[39m\u001b[39mmaxn\u001b[39m\u001b[39m'\u001b[39m, \u001b[39m'\u001b[39m\u001b[39mneg\u001b[39m\u001b[39m'\u001b[39m, \u001b[39m'\u001b[39m\u001b[39mwordNgrams\u001b[39m\u001b[39m'\u001b[39m, \u001b[39m'\u001b[39m\u001b[39mloss\u001b[39m\u001b[39m'\u001b[39m, \u001b[39m'\u001b[39m\u001b[39mbucket\u001b[39m\u001b[39m'\u001b[39m,\n\u001b[0;32m    554\u001b[0m              \u001b[39m'\u001b[39m\u001b[39mthread\u001b[39m\u001b[39m'\u001b[39m, \u001b[39m'\u001b[39m\u001b[39mlrUpdateRate\u001b[39m\u001b[39m'\u001b[39m, \u001b[39m'\u001b[39m\u001b[39mt\u001b[39m\u001b[39m'\u001b[39m, \u001b[39m'\u001b[39m\u001b[39mlabel\u001b[39m\u001b[39m'\u001b[39m, \u001b[39m'\u001b[39m\u001b[39mverbose\u001b[39m\u001b[39m'\u001b[39m, \u001b[39m'\u001b[39m\u001b[39mpretrainedVectors\u001b[39m\u001b[39m'\u001b[39m]\n\u001b[0;32m    555\u001b[0m args, manually_set_args \u001b[39m=\u001b[39m read_args(kargs, kwargs, arg_names,\n\u001b[0;32m    556\u001b[0m                                     unsupervised_default)\n\u001b[1;32m--> 557\u001b[0m a \u001b[39m=\u001b[39m _build_args(args, manually_set_args)\n\u001b[0;32m    558\u001b[0m ft \u001b[39m=\u001b[39m _FastText(args\u001b[39m=\u001b[39ma)\n\u001b[0;32m    559\u001b[0m fasttext\u001b[39m.\u001b[39mtrain(ft\u001b[39m.\u001b[39mf, a)\n",
            "File \u001b[1;32mc:\\Users\\hawkp\\miniconda3\\envs\\agile\\lib\\site-packages\\fasttext\\FastText.py:422\u001b[0m, in \u001b[0;36m_build_args\u001b[1;34m(args, manually_set_args)\u001b[0m\n\u001b[0;32m    420\u001b[0m a \u001b[39m=\u001b[39m fasttext\u001b[39m.\u001b[39margs()\n\u001b[0;32m    421\u001b[0m \u001b[39mfor\u001b[39;00m (k, v) \u001b[39min\u001b[39;00m args\u001b[39m.\u001b[39mitems():\n\u001b[1;32m--> 422\u001b[0m     \u001b[39msetattr\u001b[39;49m(a, k, v)\n\u001b[0;32m    423\u001b[0m     \u001b[39mif\u001b[39;00m k \u001b[39min\u001b[39;00m manually_set_args:\n\u001b[0;32m    424\u001b[0m         a\u001b[39m.\u001b[39msetManual(k)\n",
            "\u001b[1;31mTypeError\u001b[0m: (): incompatible function arguments. The following argument types are supported:\n    1. (self: fasttext_pybind.args, arg0: str) -> None\n\nInvoked with: <fasttext_pybind.args object at 0x0000020888B6A830>, array([[0.        , 0.        , 0.        , ..., 0.        , 0.16058383,\n        0.        ],\n       [0.        , 0.        , 0.        , ..., 0.        , 0.16058383,\n        0.        ],\n       [0.        , 0.        , 0.        , ..., 0.        , 0.        ,\n        0.        ],\n       ...,\n       [0.        , 0.        , 0.        , ..., 0.        , 0.        ,\n        0.        ],\n       [0.        , 0.        , 0.        , ..., 0.        , 0.        ,\n        0.        ],\n       [0.        , 0.        , 0.        , ..., 0.        , 0.        ,\n        0.        ]])"
          ]
        }
      ],
      "source": [
        "import fasttext\n",
        "\n",
        "model = fasttext.train_unsupervised()\n",
        "model.save_model(f\"{FASTTEXT_MODEL_DIR}/fasttext_supervised_model.bin\")"
      ]
    },
    {
      "cell_type": "code",
      "execution_count": 24,
      "id": "a7abfec9",
      "metadata": {},
      "outputs": [
        {
          "data": {
            "text/plain": [
              "(22507, 100)"
            ]
          },
          "execution_count": 24,
          "metadata": {},
          "output_type": "execute_result"
        }
      ],
      "source": [
        "model.get_output_matrix().shape"
      ]
    },
    {
      "cell_type": "code",
      "execution_count": null,
      "id": "f4e454a9",
      "metadata": {},
      "outputs": [],
      "source": [
        "import torch\n",
        "from torch import nn\n",
        "from torch.optim import Adam\n",
        "from torch.nn.functional import binary_cross_entropy_with_logits\n",
        "from torch.utils.data import DataLoader, TensorDataset\n",
        "\n",
        "# Define the model\n",
        "class ConvNet(nn.Module):\n",
        "    def __init__(self, input_shape):\n",
        "        super(ConvNet, self).__init__()\n",
        "        self.conv1 = nn.Conv1d(input_shape[0], 32, 3, activation='relu')\n",
        "        self.pool = nn.MaxPool1d(3)\n",
        "        self.conv2 = nn.Conv1d(32, 64, 3, activation='relu')\n",
        "        self.global_pool = nn.AdaptiveMaxPool1d(1)\n",
        "        self.dropout = nn.Dropout(0.5)\n",
        "        self.fc = nn.Linear(64, 1)\n",
        "\n",
        "    def forward(self, x):\n",
        "        x = self.conv1(x)\n",
        "        x = self.pool(x)\n",
        "        x = self.conv2(x)\n",
        "        x = self.global_pool(x)\n",
        "        x = x.view(x.size(0), -1)  # Flatten the tensor\n",
        "        x = self.dropout(x)\n",
        "        x = self.fc(x)\n",
        "        return x"
      ]
    },
    {
      "cell_type": "code",
      "execution_count": null,
      "id": "886f629b",
      "metadata": {},
      "outputs": [],
      "source": [
        "# Assume train_vectors is a numpy array of FastText embeddings\n",
        "train_vectors = # your code here\n",
        "y_train = # your code here\n",
        "\n",
        "# Convert to PyTorch tensors\n",
        "train_vectors = torch.tensor(train_vectors, dtype=torch.float32)\n",
        "y_train = torch.tensor(y_train, dtype=torch.float32)\n",
        "\n",
        "# Create a DataLoader\n",
        "dataset = TensorDataset(train_vectors, y_train)\n",
        "data_loader = DataLoader(dataset, batch_size=32, shuffle=True)\n",
        "\n",
        "# Create the model and optimizer\n",
        "model = ConvNet(input_shape=(train_vectors.shape[1], 1))\n",
        "optimizer = Adam(model.parameters())"
      ]
    },
    {
      "cell_type": "code",
      "execution_count": null,
      "id": "d6287ead",
      "metadata": {},
      "outputs": [],
      "source": [
        "# Train the model\n",
        "for epoch in range(10):\n",
        "    for vectors, labels in data_loader:\n",
        "        # Forward pass\n",
        "        outputs = model(vectors)\n",
        "        loss = binary_cross_entropy_with_logits(outputs, labels)\n",
        "\n",
        "        # Backward pass and optimization\n",
        "        optimizer.zero_grad()\n",
        "        loss.backward()\n",
        "        optimizer.step()"
      ]
    },
    {
      "cell_type": "code",
      "execution_count": null,
      "id": "f5fb0a23",
      "metadata": {},
      "outputs": [],
      "source": [
        "# Print the model's architecture\n",
        "print(model)"
      ]
    },
    {
      "cell_type": "code",
      "execution_count": null,
      "id": "5ccdac22",
      "metadata": {},
      "outputs": [],
      "source": []
    },
    {
      "cell_type": "code",
      "execution_count": null,
      "id": "1dc780c7",
      "metadata": {},
      "outputs": [],
      "source": []
    },
    {
      "cell_type": "code",
      "execution_count": null,
      "id": "cc8bc2c9",
      "metadata": {},
      "outputs": [],
      "source": []
    }
  ],
  "metadata": {
    "kernelspec": {
      "display_name": "agile",
      "language": "python",
      "name": "python3"
    },
    "language_info": {
      "codemirror_mode": {
        "name": "ipython",
        "version": 3
      },
      "file_extension": ".py",
      "mimetype": "text/x-python",
      "name": "python",
      "nbconvert_exporter": "python",
      "pygments_lexer": "ipython3",
      "version": "3.9.16"
    },
    "noteable": {
      "last_delta_id": "f38f5520-a3b0-4e01-bc8b-42865a8463f0",
      "last_transaction_id": "a8410403-4125-4d16-8b6d-a02752060ecc"
    },
    "nteract": {
      "version": "noteable@2.9.0"
    },
    "selected_hardware_size": "small"
  },
  "nbformat": 4,
  "nbformat_minor": 5
}
